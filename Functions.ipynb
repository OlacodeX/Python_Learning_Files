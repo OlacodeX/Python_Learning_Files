{
 "cells": [
  {
   "cell_type": "code",
   "execution_count": 1,
   "id": "784db2a5",
   "metadata": {},
   "outputs": [],
   "source": [
    "#functions\n",
    "#use the def keyword to indicate a function followed by the function name\n",
    "#and a parenthesis where you can pass parameter(s) to the function, then a colon\n",
    "#Note:\n",
    "#We can only return one output from a function i.e if you return two or more, only the first return gets printed to the screen.\n",
    "#We can however print more than one output using the print.\n",
    "def simple():\n",
    "    print (\"My first function\")\n"
   ]
  },
  {
   "cell_type": "code",
   "execution_count": 2,
   "id": "b52aa4d4",
   "metadata": {},
   "outputs": [
    {
     "name": "stdout",
     "output_type": "stream",
     "text": [
      "My first function\n"
     ]
    }
   ],
   "source": [
    "simple()"
   ]
  },
  {
   "cell_type": "code",
   "execution_count": 3,
   "id": "33543845",
   "metadata": {},
   "outputs": [],
   "source": [
    "def plus_ten(a):\n",
    "    return a + 10"
   ]
  },
  {
   "cell_type": "code",
   "execution_count": 4,
   "id": "c468745f",
   "metadata": {},
   "outputs": [
    {
     "data": {
      "text/plain": [
       "12"
      ]
     },
     "execution_count": 4,
     "metadata": {},
     "output_type": "execute_result"
    }
   ],
   "source": [
    "plus_ten(2)"
   ]
  },
  {
   "cell_type": "code",
   "execution_count": 5,
   "id": "8dcf2a0b",
   "metadata": {},
   "outputs": [],
   "source": [
    "#Another way to define functions\n",
    "def add_ten(a):\n",
    "    #store the output in a variable\n",
    "    result = a + 10\n",
    "    #return the variable here\n",
    "    return result"
   ]
  },
  {
   "cell_type": "code",
   "execution_count": 6,
   "id": "76a8c580",
   "metadata": {},
   "outputs": [
    {
     "data": {
      "text/plain": [
       "14"
      ]
     },
     "execution_count": 6,
     "metadata": {},
     "output_type": "execute_result"
    }
   ],
   "source": [
    "add_ten(4)"
   ]
  },
  {
   "cell_type": "code",
   "execution_count": 7,
   "id": "bb0a3496",
   "metadata": {},
   "outputs": [],
   "source": [
    "#Function in a function\n",
    "#The wage function calculates the wage paid/hours\n",
    "def wage(w_hours):\n",
    "    #return worked hours * 25usd (25usd/hr)\n",
    "    return w_hours * 25\n",
    "#The function below now calculates the wages plus bonus of 50usd incase if the boss decides to give a bonus.\n",
    "def with_bonus(w_hours):\n",
    "    return wage(w_hours) + 50"
   ]
  },
  {
   "cell_type": "code",
   "execution_count": 8,
   "id": "0220a1b3",
   "metadata": {
    "scrolled": true
   },
   "outputs": [
    {
     "data": {
      "text/plain": [
       "(200, 250)"
      ]
     },
     "execution_count": 8,
     "metadata": {},
     "output_type": "execute_result"
    }
   ],
   "source": [
    "wage(8), with_bonus(8)"
   ]
  },
  {
   "cell_type": "markdown",
   "id": "9852148d",
   "metadata": {},
   "source": [
    "Functions with more than one parameters"
   ]
  },
  {
   "cell_type": "code",
   "execution_count": 9,
   "id": "400acb9f",
   "metadata": {},
   "outputs": [],
   "source": [
    "def subtract_bc(a,b,c):\n",
    "    result = a - b*c\n",
    "    print ('Parameter a equals', a)\n",
    "    print ('Parameter b equals', b)\n",
    "    print ('Parameter c equals', c)\n",
    "    return result"
   ]
  },
  {
   "cell_type": "code",
   "execution_count": 10,
   "id": "10cf6658",
   "metadata": {},
   "outputs": [
    {
     "name": "stdout",
     "output_type": "stream",
     "text": [
      "Parameter a equals 40\n",
      "Parameter b equals 30\n",
      "Parameter c equals 20\n"
     ]
    },
    {
     "data": {
      "text/plain": [
       "-560"
      ]
     },
     "execution_count": 10,
     "metadata": {},
     "output_type": "execute_result"
    }
   ],
   "source": [
    "subtract_bc(40, 30, 20)"
   ]
  },
  {
   "cell_type": "code",
   "execution_count": 11,
   "id": "3d9c5272",
   "metadata": {},
   "outputs": [
    {
     "name": "stdout",
     "output_type": "stream",
     "text": [
      "Parameter a equals 100\n",
      "Parameter b equals 10\n",
      "Parameter c equals 5\n"
     ]
    },
    {
     "data": {
      "text/plain": [
       "50"
      ]
     },
     "execution_count": 11,
     "metadata": {},
     "output_type": "execute_result"
    }
   ],
   "source": [
    "#alternatively, I can call the function like this:\n",
    "subtract_bc(b=10, a=100,c=5) #Here the other doesnt matter since I have directly bind every parameter to it's value"
   ]
  }
 ],
 "metadata": {
  "kernelspec": {
   "display_name": "Python 3",
   "language": "python",
   "name": "python3"
  },
  "language_info": {
   "codemirror_mode": {
    "name": "ipython",
    "version": 3
   },
   "file_extension": ".py",
   "mimetype": "text/x-python",
   "name": "python",
   "nbconvert_exporter": "python",
   "pygments_lexer": "ipython3",
   "version": "3.8.8"
  }
 },
 "nbformat": 4,
 "nbformat_minor": 5
}
