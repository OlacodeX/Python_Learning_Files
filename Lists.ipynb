{
 "cells": [
  {
   "cell_type": "code",
   "execution_count": 1,
   "id": "7e3b7c06",
   "metadata": {},
   "outputs": [
    {
     "data": {
      "text/plain": [
       "['John', 'Jude', 'Daniel', 'Gabriel']"
      ]
     },
     "execution_count": 1,
     "metadata": {},
     "output_type": "execute_result"
    }
   ],
   "source": [
    "#Lists contains elements separated with comas in a []\n",
    "Participants = ['John', 'Jude', 'Daniel', 'Gabriel']\n",
    "Participants"
   ]
  },
  {
   "cell_type": "code",
   "execution_count": 2,
   "id": "ccc16a6e",
   "metadata": {},
   "outputs": [
    {
     "data": {
      "text/plain": [
       "'Jude'"
      ]
     },
     "execution_count": 2,
     "metadata": {},
     "output_type": "execute_result"
    }
   ],
   "source": [
    "Participants[1]"
   ]
  },
  {
   "cell_type": "code",
   "execution_count": 4,
   "id": "bd60b176",
   "metadata": {},
   "outputs": [
    {
     "name": "stdout",
     "output_type": "stream",
     "text": [
      "Jude\n"
     ]
    }
   ],
   "source": [
    "print (Participants[1])"
   ]
  },
  {
   "cell_type": "code",
   "execution_count": 5,
   "id": "c11b6850",
   "metadata": {},
   "outputs": [
    {
     "data": {
      "text/plain": [
       "'Gabriel'"
      ]
     },
     "execution_count": 5,
     "metadata": {},
     "output_type": "execute_result"
    }
   ],
   "source": [
    "#To select from behind start from -1,-2 -------, -x\n",
    "Participants[-1]"
   ]
  },
  {
   "cell_type": "code",
   "execution_count": 6,
   "id": "4c4bf3e3",
   "metadata": {},
   "outputs": [],
   "source": [
    "#Change a particular element in the list\n",
    "Participants[3] = 'Lawrence'"
   ]
  },
  {
   "cell_type": "code",
   "execution_count": 7,
   "id": "70ee21aa",
   "metadata": {},
   "outputs": [
    {
     "data": {
      "text/plain": [
       "['John', 'Jude', 'Daniel', 'Lawrence']"
      ]
     },
     "execution_count": 7,
     "metadata": {},
     "output_type": "execute_result"
    }
   ],
   "source": [
    "Participants"
   ]
  },
  {
   "cell_type": "code",
   "execution_count": 8,
   "id": "c337d586",
   "metadata": {},
   "outputs": [
    {
     "data": {
      "text/plain": [
       "['John', 'Daniel', 'Lawrence']"
      ]
     },
     "execution_count": 8,
     "metadata": {},
     "output_type": "execute_result"
    }
   ],
   "source": [
    "#Remove an element from a list\n",
    "del Participants[1]\n",
    "Participants"
   ]
  },
  {
   "cell_type": "code",
   "execution_count": 9,
   "id": "647a1a38",
   "metadata": {},
   "outputs": [],
   "source": [
    "#Add new entries to a list using the append method\n",
    "Participants.append('Maxwell')"
   ]
  },
  {
   "cell_type": "code",
   "execution_count": 10,
   "id": "794c2260",
   "metadata": {},
   "outputs": [
    {
     "data": {
      "text/plain": [
       "['John', 'Daniel', 'Lawrence', 'Maxwell']"
      ]
     },
     "execution_count": 10,
     "metadata": {},
     "output_type": "execute_result"
    }
   ],
   "source": [
    "Participants"
   ]
  },
  {
   "cell_type": "code",
   "execution_count": 11,
   "id": "790fdc3d",
   "metadata": {},
   "outputs": [
    {
     "data": {
      "text/plain": [
       "['John', 'Daniel', 'Lawrence', 'Maxwell', 'George', 'Martha']"
      ]
     },
     "execution_count": 11,
     "metadata": {},
     "output_type": "execute_result"
    }
   ],
   "source": [
    "#Add two lists together using the extend method\n",
    "Participants.extend(['George', 'Martha'])\n",
    "Participants"
   ]
  },
  {
   "cell_type": "code",
   "execution_count": 12,
   "id": "0321dacf",
   "metadata": {},
   "outputs": [
    {
     "data": {
      "text/plain": [
       "6"
      ]
     },
     "execution_count": 12,
     "metadata": {},
     "output_type": "execute_result"
    }
   ],
   "source": [
    "len(Participants)"
   ]
  }
 ],
 "metadata": {
  "kernelspec": {
   "display_name": "Python 3",
   "language": "python",
   "name": "python3"
  },
  "language_info": {
   "codemirror_mode": {
    "name": "ipython",
    "version": 3
   },
   "file_extension": ".py",
   "mimetype": "text/x-python",
   "name": "python",
   "nbconvert_exporter": "python",
   "pygments_lexer": "ipython3",
   "version": "3.8.8"
  }
 },
 "nbformat": 4,
 "nbformat_minor": 5
}
