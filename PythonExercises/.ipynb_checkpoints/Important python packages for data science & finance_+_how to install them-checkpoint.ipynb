{
 "cells": [
  {
   "cell_type": "markdown",
   "id": "096b2ecc",
   "metadata": {},
   "source": [
    "The following packages will be used:\n",
    "    numpy\n",
    "    pandas\n",
    "    scipy\n",
    "    statsmodels.api\n",
    "    matplotlib\n",
    "    seaborn\n",
    "    scikit-learn\n",
    "To check which of this packages I already have, I will open the anaconda prompt and type conda list and enter\n",
    "\n",
    "To install a package just type 'conda install' followed by package name\n",
    "or 'pip install' followed by package name"
   ]
  },
  {
   "cell_type": "markdown",
   "id": "06c935d2",
   "metadata": {},
   "source": [
    "NUMPY\n",
    "\n",
    "They are used for scientific purposes.\n",
    "They allow one to work with multidimensional arrays representing a powerful\n",
    "way to organize and process data hence it is used when one wants to work\n",
    "with a large chunk of information."
   ]
  },
  {
   "cell_type": "markdown",
   "id": "ba39f5e9",
   "metadata": {},
   "source": [
    "PANDAS:\n",
    "\n",
    "It enhances numpy even further allowing for data to be organized in a\n",
    "tabular form and to attach descriptive labels to the rows and columns."
   ]
  },
  {
   "cell_type": "markdown",
   "id": "d4d6070c",
   "metadata": {},
   "source": [
    "MATPLOTLIB\n",
    "\n",
    "A 2D plotting library specially designed for a visualization of numply \n",
    "computations. It also contains tools that allows one adjust a graph\n",
    "to his liking."
   ]
  },
  {
   "cell_type": "markdown",
   "id": "d560fcb0",
   "metadata": {},
   "source": [
    "SCIPY\n",
    "\n",
    "It is a python ecosystem that contains alot of tools for scientific\n",
    "calculations suitable for fields of mathematics, machine learning, engineering etc."
   ]
  }
 ],
 "metadata": {
  "kernelspec": {
   "display_name": "Python 3",
   "language": "python",
   "name": "python3"
  },
  "language_info": {
   "codemirror_mode": {
    "name": "ipython",
    "version": 3
   },
   "file_extension": ".py",
   "mimetype": "text/x-python",
   "name": "python",
   "nbconvert_exporter": "python",
   "pygments_lexer": "ipython3",
   "version": "3.8.8"
  }
 },
 "nbformat": 4,
 "nbformat_minor": 5
}
