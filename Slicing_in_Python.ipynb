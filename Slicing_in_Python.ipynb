{
 "cells": [
  {
   "cell_type": "code",
   "execution_count": 1,
   "id": "2f572879",
   "metadata": {},
   "outputs": [],
   "source": [
    "#Slicing is used with large data by breaking it down into smaller parts"
   ]
  },
  {
   "cell_type": "code",
   "execution_count": 11,
   "id": "e8ac9cf0",
   "metadata": {},
   "outputs": [],
   "source": [
    "Participants = ['John', 'Jude', 'Daniel', 'Gabriel', 'Kenneth']"
   ]
  },
  {
   "cell_type": "code",
   "execution_count": 12,
   "id": "604b5e45",
   "metadata": {},
   "outputs": [
    {
     "data": {
      "text/plain": [
       "['Jude', 'Daniel', 'Gabriel']"
      ]
     },
     "execution_count": 12,
     "metadata": {},
     "output_type": "execute_result"
    }
   ],
   "source": [
    "#To slice the list above we do it as below\n",
    "Participants[1:4] \n",
    "#1 means element with index 1 i.e where I want it to start slicing from\n",
    "#4 means element with index 3 - where I want it to stop slicing from plus 1"
   ]
  },
  {
   "cell_type": "code",
   "execution_count": 13,
   "id": "d0922614",
   "metadata": {},
   "outputs": [
    {
     "data": {
      "text/plain": [
       "['John', 'Jude', 'Daniel']"
      ]
     },
     "execution_count": 13,
     "metadata": {},
     "output_type": "execute_result"
    }
   ],
   "source": [
    "#If I want to start slicing from the beginning of the list,\n",
    "#I can just specify where to end the slicing\n",
    "Participants[:3]"
   ]
  },
  {
   "cell_type": "code",
   "execution_count": 14,
   "id": "53a79cc2",
   "metadata": {},
   "outputs": [
    {
     "data": {
      "text/plain": [
       "['Daniel', 'Gabriel', 'Kenneth']"
      ]
     },
     "execution_count": 14,
     "metadata": {},
     "output_type": "execute_result"
    }
   ],
   "source": [
    "#If I want to slice the rest of the list I can specify just where to start.\n",
    "Participants[2:]"
   ]
  },
  {
   "cell_type": "code",
   "execution_count": 15,
   "id": "534c8dea",
   "metadata": {},
   "outputs": [
    {
     "data": {
      "text/plain": [
       "3"
      ]
     },
     "execution_count": 15,
     "metadata": {},
     "output_type": "execute_result"
    }
   ],
   "source": [
    "#Get the index of a particular element in your list\n",
    "Participants.index(\"Gabriel\")"
   ]
  },
  {
   "cell_type": "code",
   "execution_count": 16,
   "id": "3028f6c0",
   "metadata": {},
   "outputs": [
    {
     "data": {
      "text/plain": [
       "['Jade', 'Nuel']"
      ]
     },
     "execution_count": 16,
     "metadata": {},
     "output_type": "execute_result"
    }
   ],
   "source": [
    "#Have a list that contains a list - nested lists\n",
    "Newcomers = ['Jade', 'Nuel']\n",
    "Newcomers"
   ]
  },
  {
   "cell_type": "code",
   "execution_count": 17,
   "id": "78abc443",
   "metadata": {},
   "outputs": [
    {
     "data": {
      "text/plain": [
       "[['John', 'Jude', 'Daniel', 'Gabriel', 'Kenneth'], ['Jade', 'Nuel']]"
      ]
     },
     "execution_count": 17,
     "metadata": {},
     "output_type": "execute_result"
    }
   ],
   "source": [
    "Nested_List = [Participants, Newcomers]\n",
    "Nested_List"
   ]
  },
  {
   "cell_type": "code",
   "execution_count": 18,
   "id": "985ba32d",
   "metadata": {},
   "outputs": [
    {
     "data": {
      "text/plain": [
       "['Daniel', 'Gabriel', 'John', 'Jude', 'Kenneth']"
      ]
     },
     "execution_count": 18,
     "metadata": {},
     "output_type": "execute_result"
    }
   ],
   "source": [
    "#sort objects in a list\n",
    "Participants.sort()\n",
    "Participants"
   ]
  },
  {
   "cell_type": "code",
   "execution_count": 19,
   "id": "bd4765d2",
   "metadata": {},
   "outputs": [],
   "source": [
    "#Sort in a reverse order\n",
    "Participants.sort(reverse=True)"
   ]
  },
  {
   "cell_type": "code",
   "execution_count": 20,
   "id": "82fa1f50",
   "metadata": {},
   "outputs": [
    {
     "data": {
      "text/plain": [
       "['Kenneth', 'Jude', 'John', 'Gabriel', 'Daniel']"
      ]
     },
     "execution_count": 20,
     "metadata": {},
     "output_type": "execute_result"
    }
   ],
   "source": [
    "Participants"
   ]
  }
 ],
 "metadata": {
  "kernelspec": {
   "display_name": "Python 3",
   "language": "python",
   "name": "python3"
  },
  "language_info": {
   "codemirror_mode": {
    "name": "ipython",
    "version": 3
   },
   "file_extension": ".py",
   "mimetype": "text/x-python",
   "name": "python",
   "nbconvert_exporter": "python",
   "pygments_lexer": "ipython3",
   "version": "3.8.8"
  }
 },
 "nbformat": 4,
 "nbformat_minor": 5
}
