{
 "cells": [
  {
   "cell_type": "code",
   "execution_count": 1,
   "id": "7b52b63d",
   "metadata": {},
   "outputs": [],
   "source": [
    "#Equality check use ==\n",
    "#Not equal sign !=\n",
    "#Greater than >, Greater/= >=\n",
    "#Less than <, Less/= <="
   ]
  },
  {
   "cell_type": "code",
   "execution_count": 2,
   "id": "0f7eb390",
   "metadata": {},
   "outputs": [
    {
     "data": {
      "text/plain": [
       "True"
      ]
     },
     "execution_count": 2,
     "metadata": {},
     "output_type": "execute_result"
    }
   ],
   "source": [
    "#Logical operators\n",
    "True and True"
   ]
  },
  {
   "cell_type": "code",
   "execution_count": null,
   "id": "a94da5a8",
   "metadata": {},
   "outputs": [],
   "source": [
    "#Identity operators\n",
    "#They are is and is not - similar to = and !="
   ]
  }
 ],
 "metadata": {
  "kernelspec": {
   "display_name": "Python 3",
   "language": "python",
   "name": "python3"
  },
  "language_info": {
   "codemirror_mode": {
    "name": "ipython",
    "version": 3
   },
   "file_extension": ".py",
   "mimetype": "text/x-python",
   "name": "python",
   "nbconvert_exporter": "python",
   "pygments_lexer": "ipython3",
   "version": "3.8.8"
  }
 },
 "nbformat": 4,
 "nbformat_minor": 5
}
