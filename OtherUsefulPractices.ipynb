{
 "cells": [
  {
   "cell_type": "markdown",
   "id": "da3f433b",
   "metadata": {},
   "source": [
    "You can reassign values to variables just as in other languages"
   ]
  },
  {
   "cell_type": "code",
   "execution_count": 1,
   "id": "c5476b3f",
   "metadata": {},
   "outputs": [
    {
     "name": "stdout",
     "output_type": "stream",
     "text": [
      "I just added a comment!\n"
     ]
    }
   ],
   "source": [
    "#This is a comment\n",
    "print(\"I just added a comment!\")"
   ]
  },
  {
   "cell_type": "code",
   "execution_count": 2,
   "id": "905d99cc",
   "metadata": {},
   "outputs": [
    {
     "data": {
      "text/plain": [
       "8.0"
      ]
     },
     "execution_count": 2,
     "metadata": {},
     "output_type": "execute_result"
    }
   ],
   "source": [
    "#In the case of having a line of code too long for the cell length\n",
    "#And you want the code to continue on the next line do it by adding \\ to where you want the code to break from as below:\n",
    "2 * 1.5 + \\\n",
    "5"
   ]
  },
  {
   "cell_type": "code",
   "execution_count": 3,
   "id": "892966d8",
   "metadata": {},
   "outputs": [
    {
     "name": "stdout",
     "output_type": "stream",
     "text": [
      "d\n"
     ]
    }
   ],
   "source": [
    "#Indexing in python\n",
    "Day = \"Friday\"\n",
    "print(Day[3])"
   ]
  },
  {
   "cell_type": "code",
   "execution_count": 5,
   "id": "9ba6856a",
   "metadata": {},
   "outputs": [
    {
     "name": "stdout",
     "output_type": "stream",
     "text": [
      "5\n"
     ]
    }
   ],
   "source": [
    "#Indentation and code structure\n",
    "#A function is defined below\n",
    "def five(x):\n",
    "    x = 5\n",
    "    return x\n",
    "#If I call the function directly under return, it won't execute\n",
    "#I must print it on the same line as the function declaration itself as below\n",
    "print(five(3))\n",
    "#Not i.e no indentation\n",
    "    #print(five(3))"
   ]
  }
 ],
 "metadata": {
  "kernelspec": {
   "display_name": "Python 3",
   "language": "python",
   "name": "python3"
  },
  "language_info": {
   "codemirror_mode": {
    "name": "ipython",
    "version": 3
   },
   "file_extension": ".py",
   "mimetype": "text/x-python",
   "name": "python",
   "nbconvert_exporter": "python",
   "pygments_lexer": "ipython3",
   "version": "3.8.8"
  }
 },
 "nbformat": 4,
 "nbformat_minor": 5
}
