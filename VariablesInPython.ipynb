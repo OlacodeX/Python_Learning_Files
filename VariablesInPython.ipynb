{
 "cells": [
  {
   "cell_type": "markdown",
   "id": "3842e926",
   "metadata": {},
   "source": [
    "variables in python\n",
    "x != X\n",
    "You can declare more than one variables like input[14] below\n",
    "To output code just type in the variable or print(variable)\n",
    "Types are:\n",
    "Numbers, Boolean, Strings"
   ]
  },
  {
   "cell_type": "code",
   "execution_count": 9,
   "id": "b7e1cd26",
   "metadata": {},
   "outputs": [],
   "source": [
    "x = 5"
   ]
  },
  {
   "cell_type": "code",
   "execution_count": 10,
   "id": "e1330195",
   "metadata": {},
   "outputs": [
    {
     "data": {
      "text/plain": [
       "5"
      ]
     },
     "execution_count": 10,
     "metadata": {},
     "output_type": "execute_result"
    }
   ],
   "source": [
    "x"
   ]
  },
  {
   "cell_type": "code",
   "execution_count": 11,
   "id": "6790d444",
   "metadata": {},
   "outputs": [],
   "source": [
    "y = 8"
   ]
  },
  {
   "cell_type": "code",
   "execution_count": 12,
   "id": "d42f6e25",
   "metadata": {},
   "outputs": [
    {
     "data": {
      "text/plain": [
       "8"
      ]
     },
     "execution_count": 12,
     "metadata": {},
     "output_type": "execute_result"
    }
   ],
   "source": [
    "y"
   ]
  },
  {
   "cell_type": "code",
   "execution_count": 13,
   "id": "5cffc260",
   "metadata": {},
   "outputs": [
    {
     "name": "stdout",
     "output_type": "stream",
     "text": [
      "8\n"
     ]
    }
   ],
   "source": [
    "print(y)"
   ]
  },
  {
   "cell_type": "code",
   "execution_count": 14,
   "id": "e7adfab7",
   "metadata": {},
   "outputs": [],
   "source": [
    "x,y = (1,2)"
   ]
  },
  {
   "cell_type": "code",
   "execution_count": 15,
   "id": "6406838d",
   "metadata": {},
   "outputs": [
    {
     "data": {
      "text/plain": [
       "1"
      ]
     },
     "execution_count": 15,
     "metadata": {},
     "output_type": "execute_result"
    }
   ],
   "source": [
    "x"
   ]
  },
  {
   "cell_type": "markdown",
   "id": "6f132b0d",
   "metadata": {},
   "source": [
    "To verify the type of a variable or even a value say 4 or string, check as below."
   ]
  },
  {
   "cell_type": "code",
   "execution_count": 16,
   "id": "f06df55c",
   "metadata": {},
   "outputs": [],
   "source": [
    "x1 = 5"
   ]
  },
  {
   "cell_type": "code",
   "execution_count": 17,
   "id": "fa8d3efe",
   "metadata": {},
   "outputs": [
    {
     "data": {
      "text/plain": [
       "int"
      ]
     },
     "execution_count": 17,
     "metadata": {},
     "output_type": "execute_result"
    }
   ],
   "source": [
    "type(x1)"
   ]
  },
  {
   "cell_type": "markdown",
   "id": "3f1442c0",
   "metadata": {},
   "source": [
    "Transform a variable or value to an integer as below\n",
    "Transform to float using float()"
   ]
  },
  {
   "cell_type": "code",
   "execution_count": 18,
   "id": "7ace0db0",
   "metadata": {},
   "outputs": [],
   "source": [
    "floatNumber = 7.999"
   ]
  },
  {
   "cell_type": "code",
   "execution_count": 19,
   "id": "797a1170",
   "metadata": {},
   "outputs": [
    {
     "data": {
      "text/plain": [
       "7"
      ]
     },
     "execution_count": 19,
     "metadata": {},
     "output_type": "execute_result"
    }
   ],
   "source": [
    "int(floatNumber)"
   ]
  },
  {
   "cell_type": "markdown",
   "id": "d9f83111",
   "metadata": {},
   "source": [
    "Boolean variables takes True or False typed with first letter in caps"
   ]
  },
  {
   "cell_type": "markdown",
   "id": "edcbebb7",
   "metadata": {},
   "source": [
    "Defining string variables\n",
    "When outputting a string, to remove the quotes from the result use print()"
   ]
  },
  {
   "cell_type": "code",
   "execution_count": 20,
   "id": "b5250e05",
   "metadata": {},
   "outputs": [],
   "source": [
    "myName = \"Williams\""
   ]
  },
  {
   "cell_type": "code",
   "execution_count": 22,
   "id": "61f93418",
   "metadata": {},
   "outputs": [
    {
     "data": {
      "text/plain": [
       "'Williams'"
      ]
     },
     "execution_count": 22,
     "metadata": {},
     "output_type": "execute_result"
    }
   ],
   "source": [
    "myName"
   ]
  },
  {
   "cell_type": "markdown",
   "id": "3914c471",
   "metadata": {},
   "source": [
    "To output a number and string, we must make sure the two variables are of the same type hence we will need to use str() to convert the integer/number to a string as below"
   ]
  },
  {
   "cell_type": "code",
   "execution_count": 23,
   "id": "9e4e4207",
   "metadata": {},
   "outputs": [
    {
     "name": "stdout",
     "output_type": "stream",
     "text": [
      "10 Dollars\n"
     ]
    }
   ],
   "source": [
    "y = 10\n",
    "print (str(y) + \" Dollars\")"
   ]
  },
  {
   "cell_type": "code",
   "execution_count": null,
   "id": "c5eb55aa",
   "metadata": {},
   "outputs": [],
   "source": []
  }
 ],
 "metadata": {
  "kernelspec": {
   "display_name": "Python 3",
   "language": "python",
   "name": "python3"
  },
  "language_info": {
   "codemirror_mode": {
    "name": "ipython",
    "version": 3
   },
   "file_extension": ".py",
   "mimetype": "text/x-python",
   "name": "python",
   "nbconvert_exporter": "python",
   "pygments_lexer": "ipython3",
   "version": "3.8.8"
  }
 },
 "nbformat": 4,
 "nbformat_minor": 5
}
