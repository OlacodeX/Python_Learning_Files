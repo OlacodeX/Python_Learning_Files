{
 "cells": [
  {
   "cell_type": "markdown",
   "id": "dressed-seller",
   "metadata": {},
   "source": [
    "# End-of-Workshop Project\n",
    "<br>\n",
    "\n",
    "# Project 3: Family Trees\n",
    "---\n",
    "<br>\n",
    "\n",
    "##### Programming Workshop for Scientists in Africa <<a href=\"https://pwsafrica.org\">www.pwsafrica.org</a>>. \n",
    "##### Supported by the School of Computing Science, University of Glasgow.\n",
    "##### Funded by the Global Challenges Research Fund and Scottish Funding Council.\n",
    "<br>\n",
    "\n",
    "##### PWSA2021. Python 3.x\n",
    "---"
   ]
  },
  {
   "cell_type": "markdown",
   "id": "uniform-multiple",
   "metadata": {},
   "source": [
    "<div class=\"alert alert-danger\">\n",
    "    \n",
    "**This project is only suitable for teams that took part in track 2 in both weeks 1 and 2.** If you took part in track 1 in week 2, you should choose from either projects 1 or 2.</div>"
   ]
  },
  {
   "cell_type": "markdown",
   "id": "developmental-workshop",
   "metadata": {},
   "source": [
    "## Background\n",
    "\n",
    "A family tree can be used to systematically describe the relationships in a family. Each person is represented by a small box, containing their name and possibly other information, like their date of birth. Each child is connected to their two parents (in most cases, their mother and father). Other connections can show marriages.\n",
    "\n",
    "Usually only part of the family tree is shown, due to missing information. It would be impossible to show someone's whole family tree!\n",
    "\n",
    "Here is part of the Simpsons' family tree:\n",
    "\n",
    "<img src=\"images/simpsons.png\" width=80%/>"
   ]
  },
  {
   "cell_type": "markdown",
   "id": "sized-anatomy",
   "metadata": {},
   "source": [
    "## Input files\n",
    "\n",
    "The `data` directory contains a data file named `family_tree.txt`. This file contains a list of important events in a fictious town. The format of the file is a chronological log, where each line is either a birth or death.\n",
    "\n",
    "Lines describing a birth are formatted like this:\n",
    "```\n",
    "<year>,<id>,born,<name>,<mother_id>,<father_id>\n",
    "```\n",
    "\n",
    "Lines describing a death are formatted like this:\n",
    "```\n",
    "<year>,<id>,died\n",
    "```\n",
    "\n",
    "The town decided to assign individual IDs to all people in order to avoid confusion relating to multiple people with the same name.\n",
    "\n",
    "When information is not known (e.g., the `id` of the mother or father for a birth), this is recorded as `---` (three hyphens)."
   ]
  },
  {
   "cell_type": "markdown",
   "id": "concerned-behalf",
   "metadata": {},
   "source": [
    "## Your task\n",
    "\n",
    "Your task is to write a program that allows for the management of family tree data. In particular, your program should:\n",
    "- read in a family tree from an input data file, formatted as described above;\n",
    "- store the family tree in an appropriate data structure;\n",
    "- allow for the family tree to be queried; and\n",
    "- display the family tree.\n",
    "\n",
    "Your program should implement the basic management features first, allowing users to read in a family tree and display it, before adding queries. This notebook contains\n",
    "\n",
    "You are expected to perform extensive error checking for your program, and to package your program as a set of classes, using object-oriented techniques. If you aren't yet comfortable with object-oriented programming, then you can use the procedural style.\n",
    "\n",
    "Finally, you should try to make use of functional programming techniques in your solution, using, for example, `map`, `filter`, and `reduce` where these make sense."
   ]
  },
  {
   "cell_type": "markdown",
   "id": "tamil-synthesis",
   "metadata": {},
   "source": [
    "## Your solution\n",
    "\n",
    "You should tackle this problem in three broad stages:\n",
    "- first, you need to write a program plan, and have this checked by one of the volunteers;\n",
    "- next, you need to implement the basic structure of the program, following your plan;\n",
    "- and finally, you can start to add various queries for your family tree data structure.\n",
    "\n",
    "We have provided three sets of query tasks -- simple, advanced, and complex -- below. You don't need to implement all of these: use the different categories as a guide to how difficult they might be to implement.\n",
    "\n",
    "You should consider which queries you might want to implement before thinking about your program plan: this will let you think about the data structures you need."
   ]
  },
  {
   "cell_type": "markdown",
   "id": "endless-physiology",
   "metadata": {},
   "source": [
    "### Program plan\n",
    "\n",
    "In the cell below, please write out your program plan. The following should be considered when thinking about your plan:\n",
    "- describe any complex data structures you think you'll need, and explain why they are suitable;\n",
    "- break the problem down into sub-problems: explain what each sub-problem is, and how they are organised within the wider problem;\n",
    "- are there are any parts of the problem that are particularly tricky? If so, explain those in detail;\n",
    "- what are the possible errors that might occur? If you're going to handle them, how? Use examples as needed."
   ]
  },
  {
   "cell_type": "code",
   "execution_count": null,
   "id": "ruled-athens",
   "metadata": {},
   "outputs": [],
   "source": [
    "# write your program plan here"
   ]
  },
  {
   "cell_type": "markdown",
   "id": "czech-economy",
   "metadata": {},
   "source": [
    "<div class=\"alert alert-danger\">\n",
    "    \n",
    "Before proceeding, you need to have your program plan checked by a volunteer, via Gathertown. If you're having trouble finding a volunteer, reach out via Slack on the #pwsa2021 channel.\n",
    "    \n",
    "**It is important to have your plan checked: it'll save you time and effort later on.**    \n",
    "</div>\n",
    "\n",
    "### Implementation\n",
    "\n",
    "Enter your basic family tree management program here. It should:\n",
    "- read in the data file;\n",
    "- store the family tree in a suitable data structure; and\n",
    "- display the family tree.\n",
    "\n",
    "You'll implement the separate queries in their own cells below."
   ]
  },
  {
   "cell_type": "code",
   "execution_count": 1,
   "id": "advised-pricing",
   "metadata": {},
   "outputs": [],
   "source": [
    "# write your solution here"
   ]
  },
  {
   "cell_type": "markdown",
   "id": "beginning-automation",
   "metadata": {},
   "source": [
    "## Queries\n",
    "\n",
    "Your implementation should first allow the user to read in the family tree from a data file, and display the family tree that is read in. Once you've done this, consider adding support for the queries that we've described here. We've loosely divided these queries into three sets, based on their difficulty.\n",
    "\n",
    "### Simple\n",
    "\n",
    "#### Census\n",
    "\n",
    "Write a function, `census`, that takes a year, and returns a list of people alive in that year."
   ]
  },
  {
   "cell_type": "code",
   "execution_count": 2,
   "id": "working-review",
   "metadata": {},
   "outputs": [],
   "source": [
    "# write your solution here"
   ]
  },
  {
   "cell_type": "markdown",
   "id": "occupational-stack",
   "metadata": {},
   "source": [
    "#### Roll\n",
    "\n",
    "Write a function, `roll`, that takes a year, and returns a string of the people alive in that year, along with their ages. The list should be ordered by last name.\n",
    "\n",
    "For example, this function would return:\n",
    "```\n",
    "Yatzil McGrue, age 34\n",
    "Imhotep Jones, age 69\n",
    "Ad-Habip Smith, age 19\n",
    "...\n",
    "```\n",
    "`roll` should make use of `census`."
   ]
  },
  {
   "cell_type": "code",
   "execution_count": 3,
   "id": "spectacular-eight",
   "metadata": {},
   "outputs": [],
   "source": [
    "# write your solution here"
   ]
  },
  {
   "cell_type": "markdown",
   "id": "intelligent-puppy",
   "metadata": {},
   "source": [
    "#### Finding by name\n",
    "\n",
    "Write a function, `find_by_name`, that takes a name, and finds all of the people with the given year. The function should take an optional parameter, `year`, that if specified, means that the function returns only those people that were alive in that year. The function should return a list of people, ordered by birth date, with the earliest first."
   ]
  },
  {
   "cell_type": "code",
   "execution_count": 4,
   "id": "twelve-mixture",
   "metadata": {},
   "outputs": [],
   "source": [
    "# write your solution here"
   ]
  },
  {
   "cell_type": "markdown",
   "id": "contained-belarus",
   "metadata": {},
   "source": [
    "What is the worst-case time complexity of your `find_by_name` function, in terms $n$, where $n$ is the number of people in the family tree?\n",
    "\n",
    "Could you use a different data structure to achieve $O(1)$ performance for this function? If not, why not? (_Hint: what if a number of people have the same name?_)"
   ]
  },
  {
   "cell_type": "code",
   "execution_count": 5,
   "id": "elementary-parent",
   "metadata": {},
   "outputs": [],
   "source": [
    "# time complexity analysis here"
   ]
  },
  {
   "cell_type": "markdown",
   "id": "broad-delay",
   "metadata": {},
   "source": [
    "#### Memorial\n",
    "\n",
    "Write a function, `memorial`, that takes a year, and returns a string listing everyone that has died prior to the year specified. The listing should be ordered by date of death, with the oldest date first). The string should be in the following format:\n",
    "\n",
    "```\n",
    "Yatzil McGrue died 1678, age 74\n",
    "Tzecan Barston died 1679, age 56\n",
    "...\n",
    "```"
   ]
  },
  {
   "cell_type": "code",
   "execution_count": 6,
   "id": "broad-assignment",
   "metadata": {},
   "outputs": [],
   "source": [
    "# write your solution here"
   ]
  },
  {
   "cell_type": "markdown",
   "id": "unique-tucson",
   "metadata": {},
   "source": [
    "### Advanced\n",
    "\n",
    "#### Parents\n",
    "\n",
    "Write a function, `parents`, that returns the parents of a given person. If your solution uses object-oriented programming, this should be a method, and return `Person` objects, rather than IDs. Return `None` if the data is not known."
   ]
  },
  {
   "cell_type": "code",
   "execution_count": 7,
   "id": "moving-novelty",
   "metadata": {},
   "outputs": [],
   "source": [
    "# write your solution here"
   ]
  },
  {
   "cell_type": "markdown",
   "id": "published-ability",
   "metadata": {},
   "source": [
    "#### Siblings\n",
    "\n",
    "Write a function, `siblings`, that returns a list of the siblings of a given person, or `None` if the person is an only child. Remember to include step-siblings, who might, for example, have the same mother but a different father."
   ]
  },
  {
   "cell_type": "code",
   "execution_count": 8,
   "id": "indonesian-heater",
   "metadata": {},
   "outputs": [],
   "source": [
    "# write your solution here"
   ]
  },
  {
   "cell_type": "markdown",
   "id": "coated-defeat",
   "metadata": {},
   "source": [
    "#### Children\n",
    "\n",
    "Write a function, `children`, that returns a list of children of a given person."
   ]
  },
  {
   "cell_type": "code",
   "execution_count": 9,
   "id": "exempt-batch",
   "metadata": {},
   "outputs": [],
   "source": [
    "# write your solution here"
   ]
  },
  {
   "cell_type": "markdown",
   "id": "abandoned-robert",
   "metadata": {},
   "source": [
    "#### Time complexity\n",
    "\n",
    "Once you have implemented the `parents`, `siblings`, and `children` functions, try to determine the worst-case time complexity of each, in terms of $n$, where $n$ is the number of people in the family tree."
   ]
  },
  {
   "cell_type": "code",
   "execution_count": 10,
   "id": "future-programmer",
   "metadata": {},
   "outputs": [],
   "source": [
    "# time complexity analysis here"
   ]
  },
  {
   "cell_type": "markdown",
   "id": "quantitative-lending",
   "metadata": {},
   "source": [
    "### Complex\n",
    "\n",
    "For the purposes of this set of queries, we define the following terms:\n",
    "- an **ancestor** is a parent, grandparent, great-grandparent, great-great-grandparent, and so on, of a given person;\n",
    "- a **descendent** is a child, grandchild, great-grandchild, great-great-grandchild, and so on, of a given person;\n",
    "- a **nearest common ancestor** of two people is the closest ancestor that two people share. For example, the nearest common ancestor of a niece and uncle is the niece's grandparent. The nearest common ancestor of two siblings is their parent.\n",
    "\n",
    "Notice that, from these definitions, \"ancestor\" and \"descendent\" can be defined recursively. For example, we ancestor of person $x$ is either their parent, or an ancestor of their parent.\n",
    "\n",
    "From these definitions, implement the following queries:\n",
    "- `is_ancestor` that takes two people, `a` and `b`, and returns `True` if person `a` is an ancestor of person `b`"
   ]
  },
  {
   "cell_type": "code",
   "execution_count": 11,
   "id": "confident-register",
   "metadata": {},
   "outputs": [],
   "source": [
    "# write your solution here"
   ]
  },
  {
   "cell_type": "markdown",
   "id": "concerned-adapter",
   "metadata": {},
   "source": [
    "- `is_descendent` that takes two people, `a` and `b`, and returns `True` if person `a` is a descent of person `b`"
   ]
  },
  {
   "cell_type": "code",
   "execution_count": 12,
   "id": "sealed-march",
   "metadata": {},
   "outputs": [],
   "source": [
    "# write your solution here"
   ]
  },
  {
   "cell_type": "markdown",
   "id": "active-married",
   "metadata": {},
   "source": [
    "- `nearest_common_ancestor` that takes two people, `a` and `b` and returns the nearest common ancestor of `a` and `b`. There may be more than one nearest common ancestor (e.g., for siblings, both parents are nearest common ancestors). If so, return only one."
   ]
  },
  {
   "cell_type": "code",
   "execution_count": 13,
   "id": "bridal-negative",
   "metadata": {},
   "outputs": [],
   "source": [
    "# write your solution here"
   ]
  },
  {
   "cell_type": "markdown",
   "id": "cardiac-confidence",
   "metadata": {},
   "source": [
    "- `related` that takes two people, and returns `True` if `a` and `b` have a known common ancestor."
   ]
  },
  {
   "cell_type": "code",
   "execution_count": 14,
   "id": "nominated-observer",
   "metadata": {},
   "outputs": [],
   "source": [
    "# write your solution here"
   ]
  },
  {
   "cell_type": "markdown",
   "id": "configured-intranet",
   "metadata": {},
   "source": [
    "#### Time complexity\n",
    "\n",
    "Once you have implemented the methods `is_ancestor`, `is_descendent`, `nearest_common_ancestor`, and `related`, try to calculate the worst-case time complexity of each, in terms of $n$, where $n$ is the number of people in the family tree.\n",
    "\n",
    "_Hint: calculating the time complexity of `nearest_common_ancestor` might be a challenge. To think about the worst-case running time of your code, think about the worst possible structure of the family trees that might connect persons `a` and `b`. For example, what if the two people only have one parent, who only has one parent, and so on? Which structure of families would make your code take the longest time?_"
   ]
  },
  {
   "cell_type": "code",
   "execution_count": 15,
   "id": "happy-copying",
   "metadata": {},
   "outputs": [],
   "source": [
    "# time complexity analysis here"
   ]
  },
  {
   "cell_type": "markdown",
   "id": "changing-gregory",
   "metadata": {},
   "source": [
    "### Additional tasks\n",
    "\n",
    "If you are looking for more challenges, here are some ideas to get you started. Feel free to extend your program in other ways: discuss all of the possibilities with your volunteer.\n",
    "\n",
    "#### Statistical information\n",
    "\n",
    "Write some functions to calculate statistical information about the family tree. For example:\n",
    "- who is the person have ever have lived the longest?\n",
    "- who is the person with the most children?\n",
    "- what is the average (mean) lifespan of people in the town?"
   ]
  },
  {
   "cell_type": "code",
   "execution_count": 16,
   "id": "great-adams",
   "metadata": {},
   "outputs": [],
   "source": [
    "# write your solution here"
   ]
  },
  {
   "cell_type": "markdown",
   "id": "expired-chaos",
   "metadata": {},
   "source": [
    "#### Visualisation\n",
    "\n",
    "Printing out the entire family tree will probably be messy. Write a method that, given a person in the family tree, draws a diagram of only their children and grandchildren. You can use `print` to do this."
   ]
  },
  {
   "cell_type": "code",
   "execution_count": 17,
   "id": "mineral-flood",
   "metadata": {},
   "outputs": [],
   "source": [
    "# write your solution here"
   ]
  },
  {
   "cell_type": "markdown",
   "id": "widespread-graphics",
   "metadata": {},
   "source": [
    "#### Interactive interface\n",
    "\n",
    "Write an interactive, command-line interface, that lets users query to the people in the family tree. Commands will correspond to the methods you have already written. This could look something like this:\n",
    "\n",
    "  ```\n",
    "  Family Tree Software v1.0\n",
    "  Enter command, then press enter.\n",
    "  \n",
    "  > CENSUS 1900\n",
    "  ...\n",
    "  \n",
    "  > FINDBYNAME Debby Boon\n",
    "     u296995 Debby Boon born 1650 died 1694,\n",
    "     u340359 Debby Boon born 1832 died 1835,\n",
    "     u340583 Debby Boon born 1833 died 1835,\n",
    "     u353724 Debby Boon born 1894 died 1898\n",
    "    \n",
    "  > CHILDREN u296995\n",
    "  ...\n",
    "  \n",
    "  > PARENTS u296995\n",
    "  ...\n",
    "  \n",
    "  > IS_ANCESTOR u297081 u297081\n",
    "  TRUE\n",
    "  ```"
   ]
  },
  {
   "cell_type": "code",
   "execution_count": 1,
   "id": "individual-judge",
   "metadata": {},
   "outputs": [],
   "source": [
    "# write your solution here"
   ]
  }
 ],
 "metadata": {
  "kernelspec": {
   "display_name": "Python 3",
   "language": "python",
   "name": "python3"
  },
  "language_info": {
   "codemirror_mode": {
    "name": "ipython",
    "version": 3
   },
   "file_extension": ".py",
   "mimetype": "text/x-python",
   "name": "python",
   "nbconvert_exporter": "python",
   "pygments_lexer": "ipython3",
   "version": "3.8.8"
  }
 },
 "nbformat": 4,
 "nbformat_minor": 5
}
