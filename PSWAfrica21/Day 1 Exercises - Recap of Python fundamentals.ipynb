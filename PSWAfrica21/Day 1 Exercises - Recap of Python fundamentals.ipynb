{
 "cells": [
  {
   "cell_type": "markdown",
   "id": "f7f08fa0",
   "metadata": {
    "slideshow": {
     "slide_type": "slide"
    }
   },
   "source": [
    "# Wk1 Trk2, Day 1: 30/08/21\n",
    "<br>\n",
    "\n",
    "# Exercises: Recap of Python fundamentals\n",
    "---\n",
    "<br>\n",
    "\n",
    "##### Programming Workshop for Scientists in Africa <www.pwsafrica.org>. \n",
    "##### Supported by the School of Computing Science, University of Glasgow.\n",
    "##### Funded by the Global Challenges Research Fund and Scottish Funding Council.\n",
    "<br>\n",
    "\n",
    "##### PWSA2021. Python 3.x\n",
    "---"
   ]
  },
  {
   "cell_type": "markdown",
   "id": "1e9cbece",
   "metadata": {},
   "source": [
    "<div class=\"alert alert-danger\"> <b>IMPORTANT:</b> You do not have permission to save any file under the examples/pwsa2021 directory. Before you begin solving the exercises, first save this notebook in your home directory! </div>\n",
    "\n",
    "How do I save a notebook in my home directory?\n",
    "* First open the notebook you want to copy \n",
    "* Go to **File** in the menu bar\n",
    "* Click on **Save Notebook As**\n",
    "* The current path is: **examples/pwsa2021/Week1Track2/Exercises/\\<name of notebook\\>.ipynb**\n",
    "\n",
    "        where <name of notebook> can be Day1 Exercises ....\n",
    "    \n",
    "* Rename the path to **\\<name of notebook\\>.ipynb**\n",
    "* If you go back to your home directory, i.e., outside \"examples/pwsa2021\", you will see the notebook you copied over. This is where you type your solution and save as you go along.\n",
    "\n",
    "---"
   ]
  },
  {
   "cell_type": "markdown",
   "id": "bdb8f918",
   "metadata": {
    "slideshow": {
     "slide_type": "slide"
    }
   },
   "source": [
    "In today's exercises, we'll practice the material that was covered in this morning's lecture.\n",
    "\n",
    "Some problems at the end of the exercise notebook are marked as _optional_. Your progress on those problems won't be assessed: these problems have been provided as an additional challenge for people that have found the earlier problems straightforward."
   ]
  },
  {
   "cell_type": "markdown",
   "id": "59d5318c",
   "metadata": {},
   "source": [
    "## 1. Tennis\n",
    "\n",
    "The cost of a tennis racket is £50, while a dozen balls cost £30. Write a code that prints how much it will cost Michael if he needs 2 tennis rackets and 4 balls."
   ]
  },
  {
   "cell_type": "code",
   "execution_count": 2,
   "id": "48d8b826",
   "metadata": {},
   "outputs": [
    {
     "name": "stdout",
     "output_type": "stream",
     "text": [
      "Micheal will spend a total of £110.0 for 2 tennis rackets and 4 balls\n"
     ]
    }
   ],
   "source": [
    "# write your solution here\n",
    "def userCost(x,y):\n",
    "    _1ball = 30/12\n",
    "    _1racket = 50\n",
    "    cost_racket = x * _1racket\n",
    "    cost_ball = y * _1ball\n",
    "    total_cost = cost_racket + cost_ball\n",
    "    return f\"Micheal will spend a total of £{total_cost} for {x} tennis rackets and {y} balls\"\n",
    "print(userCost(2,4))"
   ]
  },
  {
   "cell_type": "markdown",
   "id": "11df3650",
   "metadata": {},
   "source": [
    "## 2. Even numbers\n",
    "\n",
    "Using a `while` loop, print the first 200 even numbers."
   ]
  },
  {
   "cell_type": "code",
   "execution_count": 4,
   "id": "03879e71",
   "metadata": {},
   "outputs": [
    {
     "name": "stdout",
     "output_type": "stream",
     "text": [
      "2 4 6 8 10 12 14 16 18 20 22 24 26 28 30 32 34 36 38 40 42 44 46 48 50 52 54 56 58 60 62 64 66 68 70 72 74 76 78 80 82 84 86 88 90 92 94 96 98 100 102 104 106 108 110 112 114 116 118 120 122 124 126 128 130 132 134 136 138 140 142 144 146 148 150 152 154 156 158 160 162 164 166 168 170 172 174 176 178 180 182 184 186 188 190 192 194 196 198 200 "
     ]
    }
   ],
   "source": [
    "# write your solution here\n",
    "x = 2\n",
    "while x <= 200:\n",
    "    print(x, end = \" \")\n",
    "    x += 2"
   ]
  },
  {
   "cell_type": "markdown",
   "id": "cdf2196b",
   "metadata": {},
   "source": [
    "## 2.1 Even numbers, part 2\n",
    "\n",
    "Using a `for` loop, print the first 200 even numbers."
   ]
  },
  {
   "cell_type": "code",
   "execution_count": 7,
   "id": "26091361",
   "metadata": {},
   "outputs": [
    {
     "name": "stdout",
     "output_type": "stream",
     "text": [
      "2 4 6 8 10 12 14 16 18 20 22 24 26 28 30 32 34 36 38 40 42 44 46 48 50 52 54 56 58 60 62 64 66 68 70 72 74 76 78 80 82 84 86 88 90 92 94 96 98 100 102 104 106 108 110 112 114 116 118 120 122 124 126 128 130 132 134 136 138 140 142 144 146 148 150 152 154 156 158 160 162 164 166 168 170 172 174 176 178 180 182 184 186 188 190 192 194 196 198 200 "
     ]
    }
   ],
   "source": [
    "# write your solution here\n",
    "for x in range(2, 201, 2):\n",
    "    print(x, end = \" \")"
   ]
  },
  {
   "cell_type": "markdown",
   "id": "c81c83c2",
   "metadata": {},
   "source": [
    "## 3. Data types\n",
    "\n",
    "Given this list:\n",
    "\n",
    "```data_types = [\"a\", \"b\", \"c\", 2, 4, 6, 8, 10, True, True, False, 4.5, 3.87, 11.73]```\n",
    "\n",
    "Print, on a separate line, a list made up of the following only:\n",
    "- the strings;\n",
    "- the integers;\n",
    "- the floats;\n",
    "- the boolean values."
   ]
  },
  {
   "cell_type": "code",
   "execution_count": 10,
   "id": "e3be4ab3",
   "metadata": {},
   "outputs": [
    {
     "name": "stdout",
     "output_type": "stream",
     "text": [
      "['a', 'b', 'c']\n",
      "[2, 4, 6, 8, 10]\n",
      "[4.5, 3.87, 11.73]\n",
      "[True, True, False]\n"
     ]
    }
   ],
   "source": [
    "# write your solution here\n",
    "data_types = [\"a\", \"b\", \"c\", 2, 4, 6, 8, 10, True, True, False, 4.5, 3.87, 11.73]\n",
    "list_strings = data_types[0:3]\n",
    "print(list_strings)\n",
    "list_int = data_types[3:8]\n",
    "print(list_int)\n",
    "list_floats = data_types[11:14]\n",
    "print(list_floats)\n",
    "list_boolean = data_types[8:11]\n",
    "print(list_boolean)"
   ]
  },
  {
   "cell_type": "markdown",
   "id": "f5a4c5df",
   "metadata": {},
   "source": [
    "## 4. Sorted lists\n",
    "\n",
    "Given this list: \n",
    "\n",
    "   ```institutions = [\"University of Glasgow\", \"University of Ibadan\", \"PWSA\", \"University of Rwanda\"]```\n",
    "                    \n",
    "Print the list of institutions in ascending and descending order."
   ]
  },
  {
   "cell_type": "code",
   "execution_count": 15,
   "id": "81db6d45",
   "metadata": {},
   "outputs": [
    {
     "name": "stdout",
     "output_type": "stream",
     "text": [
      "['PWSA', 'University of Glasgow', 'University of Ibadan', 'University of Rwanda']\n",
      "['University of Rwanda', 'University of Ibadan', 'University of Glasgow', 'PWSA']\n"
     ]
    }
   ],
   "source": [
    "# write your solution here\n",
    "institutions = [\"University of Glasgow\", \"University of Ibadan\", \"PWSA\", \"University of Rwanda\"]\n",
    "# Ascending order\n",
    "institutions.sort()\n",
    "print(institutions)\n",
    "institutions.sort(reverse=True)\n",
    "print(institutions)"
   ]
  },
  {
   "cell_type": "markdown",
   "id": "9896d8e8",
   "metadata": {},
   "source": [
    "## 5. Random password\n",
    "\n",
    "Write a function, `random_password`, that generates a random password with the following properties:\n",
    "- each password should have a random length, of between 7 and 12 characters.\n",
    "- each character of the password should be randomly selected from positions 33 to 126 of the ASCII table.\n",
    "\n",
    "**Hints**\n",
    "* random.randint(x, y) will generate a random number between x and y (inclusive)\n",
    "* chr(n) will give you the _n_th character of the ASCII table."
   ]
  },
  {
   "cell_type": "code",
   "execution_count": 78,
   "id": "7878c7ca",
   "metadata": {},
   "outputs": [
    {
     "data": {
      "text/plain": [
       "'~!!~!~!~!!~'"
      ]
     },
     "execution_count": 78,
     "metadata": {},
     "output_type": "execute_result"
    }
   ],
   "source": [
    "# write your solution here\n",
    "import random\n",
    "def random_password():\n",
    "    length = random.randint(7,11)\n",
    "    for i in range(length):\n",
    "        all = chr(33) + chr(126) \n",
    "        password = \"\".join([random.choice(all) for _ in range(length)])\n",
    "        return password\n",
    "random_password()"
   ]
  },
  {
   "cell_type": "markdown",
   "id": "fee15edb",
   "metadata": {},
   "source": [
    "## 6. Good password\n",
    "\n",
    "Write a function, `good_password` that determines whether or not a given password is \"good\". A password is \"good\" if it is:\n",
    "- at least 8 characters long; and\n",
    "- contains at least one uppercase letter, one lowercase letter, and at least one digit."
   ]
  },
  {
   "cell_type": "code",
   "execution_count": 87,
   "id": "4d160dd4",
   "metadata": {},
   "outputs": [
    {
     "data": {
      "text/plain": [
       "'Password is good'"
      ]
     },
     "execution_count": 87,
     "metadata": {},
     "output_type": "execute_result"
    }
   ],
   "source": [
    "# write your solution here\n",
    "import string\n",
    "def good_password(password):\n",
    "    if len(password) < 8:\n",
    "        print(\"password must be 8 or more characters long\")\n",
    "    if not any(char.islower() for char in password):\n",
    "        print(\"Password should have at least one lowercase letter\")\n",
    "    if not any(char.isupper() for char in password):\n",
    "        print(\"Password should have at least one uppercase letter\")\n",
    "    if not any(char.isdigit() for char in password):\n",
    "        print(\"Password should have at least one digit/number\")\n",
    "    else:\n",
    "        return \"Password is good\"\n",
    "good_password('hhafefeuA1')"
   ]
  },
  {
   "cell_type": "markdown",
   "id": "8e63e064",
   "metadata": {},
   "source": [
    "## 7. [Optional] Words from keyboard rows\n",
    "\n",
    "Write a function that, when given a list of words, returns a list containing only those words that can be typed using letters of the alphabet that occur on a single row of the standard English \"qwerty\" keyboard. Characters in each row can be used more than once. You can assume that input strings will only contain letters of the alphabet.\n",
    "\n",
    "- row 1: qwertyuiop\n",
    "- row 2: asdfghjkl\n",
    "- row 3: zxcvbnm\n",
    "\n",
    "For example:\n",
    "* The word \"data\" does _not_ satisfy the constraint, since \"t\" is not in the same row as \"d\" and \"a\". \n",
    "* The word \"type\" _does_ satisfy the condition, since each letter is on the same row."
   ]
  },
  {
   "cell_type": "code",
   "execution_count": null,
   "id": "32029347",
   "metadata": {},
   "outputs": [],
   "source": [
    "# write your solution here"
   ]
  },
  {
   "cell_type": "markdown",
   "id": "4bff1008",
   "metadata": {},
   "source": [
    "## 8. Finding missing numbers\n",
    "\n",
    "Write a function that takes two lists, A and B, and that returns those numbers that do not appear in both lists. If a number occurs in one list, it must occur the same number of times in the other, otherwise the number is \"missing\". The function must return an ordered list of the missing numbers. Each missing number should only be printed once, even if it is \"missing\" multiple times.\n",
    "\n",
    "As an example, suppose \n",
    "\n",
    "```A = [2, 4, 1, 5, 6, 1, 8, 9, 10, 1, 2]``` and \n",
    "\n",
    "```B = [4, 6, 1, 2, 8, 9, 1]```. \n",
    "\n",
    "The missing numbers, in order, are `[1, 2, 5, 10]`."
   ]
  },
  {
   "cell_type": "code",
   "execution_count": 119,
   "id": "66c271d4",
   "metadata": {},
   "outputs": [
    {
     "data": {
      "text/plain": [
       "[[2, 4, 1, 5, 6, 1, 8, 9, 10, 1, 2]]"
      ]
     },
     "execution_count": 119,
     "metadata": {},
     "output_type": "execute_result"
    }
   ],
   "source": [
    "# write your solution here\n",
    "A = [2, 4, 1, 5, 6, 1, 8, 9, 10, 1, 2]\n",
    "B = [4, 6, 1, 2, 8, 9, 1]\n",
    "A,B =([2, 4, 1, 5, 6, 1, 8, 9, 10, 1, 2], [4, 6, 1, 2, 8, 9, 1])\n",
    "list = []\n",
    "def missing_numbers(A,B):\n",
    "    for x in A,B:\n",
    "        list.append(x)\n",
    "        for x in list:\n",
    "            newlist = []\n",
    "            if list.count(x) \n",
    "        return list\n",
    "missing_numbers(A,B)"
   ]
  },
  {
   "cell_type": "markdown",
   "id": "71c3f455",
   "metadata": {},
   "source": [
    "## 9. Flattening lists\n",
    "\n",
    "Write a function, `flatten`, that \"flattens\" any list. A list is flat if it does not contain any nested list. A list that contains a nested list is flattened when the elements of any nested lists are removed, and put into a flat list.\n",
    "\n",
    "For example, if \n",
    "\n",
    "```a = [[[1, 2, 3], [4, 5, 6], [7], [8, 9], 10]]```, then \n",
    "\n",
    "```flatten(a) = [1, 2, 3, 4, 5, 6, 7, 8, 9, 10]```."
   ]
  },
  {
   "cell_type": "code",
   "execution_count": 165,
   "id": "aac14c43",
   "metadata": {},
   "outputs": [
    {
     "name": "stdout",
     "output_type": "stream",
     "text": [
      "[1, 2, 3, 4, 5, 6, 7, 8, 9, 10]\n"
     ]
    }
   ],
   "source": [
    "# write your solution here \n",
    "a = [[[1, 2, 3], [4, 5, 6], [7], [8, 9], 10]]\n",
    "def flatten(a):\n",
    "    sublist1 = a[0][4]\n",
    "    sublist2 =a[0][0] + a[0][1] + a[0][2] + a[0][3]\n",
    "    sublist2.append(sublist1)\n",
    "    print(sublist2)\n",
    "flatten(a)"
   ]
  },
  {
   "cell_type": "markdown",
   "id": "38cd86d4",
   "metadata": {},
   "source": [
    "## [Optional] 10. Identical lists\n",
    "\n",
    "Write a function, `identical`, that checks if two lists are _circularly identical_. A circular list is where we consider the first element as being next to the last element, forming a circle.\n",
    "\n",
    "For example, if `a = [2, 0, 5, 10, 0, 5, 7, 10]` and `b = [10, 2, 0, 5, 10, 0, 5, 7]`, then `identical(a, b)` is `True`, since these lists are circularly identical. However, if `a = [10, 10, 5, 10]` and `b = [10, 10, 10, 0]`, then `identical(a, b)` is `False`."
   ]
  },
  {
   "cell_type": "code",
   "execution_count": 168,
   "id": "171f18e8",
   "metadata": {},
   "outputs": [
    {
     "data": {
      "text/plain": [
       "True"
      ]
     },
     "execution_count": 168,
     "metadata": {},
     "output_type": "execute_result"
    }
   ],
   "source": [
    "# write your solution here\n",
    "a = [2, 0, 5, 10, 0, 5, 7, 10]\n",
    "b = [10, 2, 0, 5, 10, 0, 5, 7]\n",
    "def identical(a,b):\n",
    "    a.insert(0, a.pop())\n",
    "    return a == b\n",
    "identical(a,b)"
   ]
  },
  {
   "cell_type": "markdown",
   "id": "247c09f7",
   "metadata": {},
   "source": [
    "## Optional: 11. Pattern\n",
    "\n",
    "In this task, you are required to implement a function `detect_pattern` that returns `True` or `False` depending upon whether two strings have the same pattern of characters. More precisely, two strings have the same pattern if they are of the same length and if two characters in the first string are equal if and only if the characters in the corresponding positions in the second string are also equal.\n",
    "\n",
    "**Example 1**: Even though the two strings have the same length, we have `a` in the first and last position of `string1`, but two different characters are in the first and last position of `string2`.\n",
    "\n",
    "``` Python\n",
    "string1, string2 = \"aba\", \"xyz\"\n",
    "detect_pattern(string1, string2)\n",
    ">>> False\n",
    "```\n",
    "\n",
    "**Example 2**: The two strings have the same length; we have `a` in the first and last position of `string3`; also, `x` is in the first and last position of `string4`.\n",
    "\n",
    "``` Python\n",
    "string3, string4  = \"aba\", \"xyx\"\n",
    "\n",
    "detect_pattern(string3, string4)\n",
    ">>> True\n",
    "```\n",
    "\n",
    "**Note: The function should return the same value no matter what order the two strings are passed.**"
   ]
  },
  {
   "cell_type": "code",
   "execution_count": 178,
   "id": "5305889c",
   "metadata": {},
   "outputs": [
    {
     "data": {
      "text/plain": [
       "False"
      ]
     },
     "execution_count": 178,
     "metadata": {},
     "output_type": "execute_result"
    }
   ],
   "source": [
    "# write your solution here\n",
    "def detect_pattern(a,b):\n",
    "    a_first = a[0]\n",
    "    a_last = a[-1]\n",
    "    b_last = b[-1]\n",
    "    b_first = b[0]\n",
    "    return a_first == a_last and b_first == b_last\n",
    "detect_pattern(\"baa\", \"dad\")\n",
    "        "
   ]
  },
  {
   "cell_type": "markdown",
   "id": "62ed083f",
   "metadata": {},
   "source": [
    "## Optional: 12. Alphabet rangoli\n",
    "\n",
    "*This one is really challenging!*\n",
    "\n",
    "Write a function `rangoli` that prints an _alphabet rangoli_ of a specified size. Rangoli is a form of Indian folk art based on creating patterns. Different sizes of alphabet rangoli are shown:\n",
    "\n",
    "```\n",
    "rangoli(3)\n",
    "\n",
    "- - - - c - - - -\n",
    "- - c - b - c - -\n",
    "c - b - a - b - c \n",
    "- - c - b - c - -\n",
    "- - - - c - - - -\n",
    "\n",
    "rangoli(4)\n",
    "\n",
    "- - - - - - d - - - - - -\n",
    "- - - - d - c - d - - - -\n",
    "- - d - c - b - c - d - -\n",
    "d - c - b - a - b - c - d\n",
    "- - d - c - b - c - d - -\n",
    "- - - - d - c - d - - - -\n",
    "- - - - - - d - - - - - -\n",
    "```\n",
    "\n",
    "Think about how you can bring this problem down. Talk to the other members of your group, and your tutor for help: solving it together is allowed!"
   ]
  },
  {
   "cell_type": "code",
   "execution_count": 180,
   "id": "044b2ca5",
   "metadata": {},
   "outputs": [
    {
     "name": "stdout",
     "output_type": "stream",
     "text": [
      "------d------\n",
      "----d-c-d----\n",
      "--d-c-b-c-d--\n",
      "d-c-b-a-b-c-d\n",
      "--d-c-b-c-d--\n",
      "----d-c-d----\n",
      "------d------\n"
     ]
    }
   ],
   "source": [
    "# write your solution here\n",
    "def print_rangoli(size):\n",
    "    import string\n",
    "    alpha = string.ascii_lowercase\n",
    "    \n",
    "    pattern  = []\n",
    "    for i in range(size):\n",
    "        s = \"-\".join(alpha[i:size])\n",
    "        pattern.append((s[::-1]+s[1:]).center(4*size-3, \"-\"))\n",
    "        \n",
    "    print('\\n'.join(pattern[:0:-1]+pattern))\n",
    "print_rangoli(4)"
   ]
  },
  {
   "cell_type": "code",
   "execution_count": null,
   "id": "ea75d544",
   "metadata": {},
   "outputs": [],
   "source": []
  }
 ],
 "metadata": {
  "kernelspec": {
   "display_name": "Python 3",
   "language": "python",
   "name": "python3"
  },
  "language_info": {
   "codemirror_mode": {
    "name": "ipython",
    "version": 3
   },
   "file_extension": ".py",
   "mimetype": "text/x-python",
   "name": "python",
   "nbconvert_exporter": "python",
   "pygments_lexer": "ipython3",
   "version": "3.8.8"
  },
  "latex_envs": {
   "LaTeX_envs_menu_present": true,
   "autoclose": false,
   "autocomplete": true,
   "bibliofile": "biblio.bib",
   "cite_by": "apalike",
   "current_citInitial": 1,
   "eqLabelWithNumbers": true,
   "eqNumInitial": 1,
   "hotkeys": {
    "equation": "Ctrl-E",
    "itemize": "Ctrl-I"
   },
   "labels_anchors": false,
   "latex_user_defs": false,
   "report_style_numbering": false,
   "user_envs_cfg": false
  },
  "toc": {
   "base_numbering": 1,
   "nav_menu": {},
   "number_sections": true,
   "sideBar": true,
   "skip_h1_title": true,
   "title_cell": "Table of Contents",
   "title_sidebar": "Contents",
   "toc_cell": false,
   "toc_position": {},
   "toc_section_display": true,
   "toc_window_display": false
  }
 },
 "nbformat": 4,
 "nbformat_minor": 5
}
