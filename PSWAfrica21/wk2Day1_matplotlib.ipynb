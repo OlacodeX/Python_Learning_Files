{
 "cells": [
  {
   "cell_type": "markdown",
   "metadata": {
    "slideshow": {
     "slide_type": "slide"
    }
   },
   "source": [
    "### Introduction to Visualising Data Using Matplotlib\n",
    "\n",
    "##### PWSA2021"
   ]
  },
  {
   "cell_type": "markdown",
   "metadata": {
    "slideshow": {
     "slide_type": "slide"
    }
   },
   "source": [
    "### Visualising Your Data \n",
    "\n",
    "* \"A picture is worth a thousand words\"\n",
    "\n",
    "\n",
    "* Visualisations help us communicate results; draw conclusions; decide on policies\n",
    "\n",
    "\n",
    "\n",
    "* Sometimes easier to summarise a large dataset using a plot\n",
    "\n",
    "\n",
    "\n",
    "* Here, we focus on scientific visualisations"
   ]
  },
  {
   "cell_type": "markdown",
   "metadata": {
    "slideshow": {
     "slide_type": "slide"
    }
   },
   "source": [
    "### Some examples\n",
    "\n",
    "\n",
    "<img src=\"imgs/distributions.png\" width=200 /> <img src=\"imgs/UMAP.png\" width=200 />\n",
    " \n",
    "<img src=\"imgs/heatmap.png\" width=200 />     <img src=\"imgs/stacked_histogram.png\" width=200 /> \n",
    "\n",
    "\n",
    "\n",
    "\n",
    "\n"
   ]
  },
  {
   "cell_type": "markdown",
   "metadata": {
    "slideshow": {
     "slide_type": "slide"
    }
   },
   "source": [
    "### Why matplotlib?\n",
    "\n",
    "* Makes it easy to generated publication quality plots\n",
    "\n",
    "\n",
    "* Includes detailed documentation with examples \n",
    "\n",
    "\n",
    "* Integrates well with numpy and other scientific Python packages \n",
    "\n",
    "\n",
    "* Allows for extensions and customisation\n",
    "\n",
    "\n",
    "* There are other plotting packages available but matplotlib is often considered the standard"
   ]
  },
  {
   "cell_type": "markdown",
   "metadata": {
    "slideshow": {
     "slide_type": "slide"
    }
   },
   "source": [
    "### Anatomy of a figure\n",
    "\n",
    "<img src=\"imgs/anatomy.png\" width=400 />"
   ]
  },
  {
   "cell_type": "markdown",
   "metadata": {
    "slideshow": {
     "slide_type": "slide"
    }
   },
   "source": [
    "### Independent and dependent variables\n",
    "\n",
    "* Often in experiments, the relationship between two variables can be described as *y = f(x)* where x is the independent variable and y is the dependent variable. When plotting the data, we aim to visually describe the function, *f*\n",
    "\n",
    "\n",
    "\n",
    "* Generally, the independent variable should be on the x axis and the dependent variable goes on the y axis. For example, a scientist is investigating the effect of immune cell activator dose on the expression of different genes. In that case the dose will be plotted on the x-axis as this is the variable controlled by the scientist and the gene expression will be plotted on y as this is what is measured.\n",
    "\n",
    "\n",
    "* However, in some situations it's not as easy to tell the independent and dependent variables apart. As such, it does not matter how you plot those variables. This is unsual however and in most of the examples we are going to see you will be required to plot your data keeping in mind independent and dependent variables."
   ]
  },
  {
   "cell_type": "markdown",
   "metadata": {
    "slideshow": {
     "slide_type": "slide"
    }
   },
   "source": [
    "### 2D Plots\n",
    "\n"
   ]
  },
  {
   "cell_type": "markdown",
   "metadata": {
    "slideshow": {
     "slide_type": "slide"
    }
   },
   "source": [
    "### Scatter plot"
   ]
  },
  {
   "cell_type": "code",
   "execution_count": 2,
   "metadata": {
    "slideshow": {
     "slide_type": "fragment"
    }
   },
   "outputs": [
    {
     "data": {
      "text/plain": [
       "<matplotlib.collections.PathCollection at 0x2cd32eee190>"
      ]
     },
     "execution_count": 2,
     "metadata": {},
     "output_type": "execute_result"
    },
    {
     "data": {
      "image/png": "[encoded data removed]",
      "text/plain": [
       "<Figure size 432x288 with 1 Axes>"
      ]
     },
     "metadata": {
      "needs_background": "light"
     },
     "output_type": "display_data"
    }
   ],
   "source": [
    "import numpy as np #you are already familiar with that\n",
    "\n",
    "# these import matplotlib, and make it draw figures directly in the notebook\n",
    "import matplotlib as mpl\n",
    "import matplotlib.pyplot as plt\n",
    "\n",
    "x = np.array([0,30,45,60,90,180])\n",
    "y = np.sin(x)\n",
    "plt.scatter(x,y)\n"
   ]
  },
  {
   "cell_type": "code",
   "execution_count": 3,
   "metadata": {
    "slideshow": {
     "slide_type": "slide"
    }
   },
   "outputs": [
    {
     "data": {
      "text/plain": [
       "<matplotlib.collections.PathCollection at 0x2cd3365d9d0>"
      ]
     },
     "execution_count": 3,
     "metadata": {},
     "output_type": "execute_result"
    },
    {
     "data": {
      "image/png": "[encoded data removed]",
      "text/plain": [
       "<Figure size 432x288 with 1 Axes>"
      ]
     },
     "metadata": {
      "needs_background": "light"
     },
     "output_type": "display_data"
    }
   ],
   "source": [
    "#have a look at the documentation of matplotlib for full list of marker options\n",
    "\n",
    "#in some cases you may want to plot different groups of data, using different markers\n",
    "plt.scatter(x,y,marker='<')"
   ]
  },
  {
   "cell_type": "markdown",
   "metadata": {
    "slideshow": {
     "slide_type": "slide"
    }
   },
   "source": [
    "### Bar chart"
   ]
  },
  {
   "cell_type": "code",
   "execution_count": 4,
   "metadata": {
    "slideshow": {
     "slide_type": "fragment"
    }
   },
   "outputs": [
    {
     "data": {
      "image/png": "[encoded data removed]",
      "text/plain": [
       "<Figure size 432x288 with 1 Axes>"
      ]
     },
     "metadata": {
      "needs_background": "light"
     },
     "output_type": "display_data"
    }
   ],
   "source": [
    "dino = ['T-rex','V-raptor','Brachiosaurus']\n",
    "y_pos = np.arange(len(dino))\n",
    "arms = [4,7,12]\n",
    " \n",
    "plt.bar(y_pos,arms,color='green')\n",
    "\n",
    "plt.xticks(y_pos, dino)\n",
    "plt.ylabel(\"Arms length\")\n",
    "plt.title(\"Length of Dinosaur Arms\")\n",
    "plt.show()\n"
   ]
  },
  {
   "cell_type": "markdown",
   "metadata": {
    "slideshow": {
     "slide_type": "slide"
    }
   },
   "source": [
    "### Example\n",
    "\n",
    "Sometimes a single dataset can be represented in multiple ways. Our example is going to use quarterly measurements of the gas used in the UK, data recorded between 1960 and 1986. This can be considered as an example of a simple relationship, x - year and y - gas consumption.\n",
    "\n",
    "The original units are megatherms. 1 megatherm is about 30,000,000 kWh.\n",
    "\n"
   ]
  },
  {
   "cell_type": "code",
   "execution_count": 7,
   "metadata": {
    "slideshow": {
     "slide_type": "fragment"
    }
   },
   "outputs": [
    {
     "ename": "OSError",
     "evalue": "../Data/gas.csv not found.",
     "output_type": "error",
     "traceback": [
      "\u001b[1;31m---------------------------------------------------------------------------\u001b[0m",
      "\u001b[1;31mOSError\u001b[0m                                   Traceback (most recent call last)",
      "\u001b[1;32m<ipython-input-7-6975a12e8fa0>\u001b[0m in \u001b[0;36m<module>\u001b[1;34m\u001b[0m\n\u001b[1;32m----> 1\u001b[1;33m \u001b[0mgas\u001b[0m \u001b[1;33m=\u001b[0m \u001b[0mnp\u001b[0m\u001b[1;33m.\u001b[0m\u001b[0mloadtxt\u001b[0m\u001b[1;33m(\u001b[0m\u001b[1;34m\"../Data/gas.csv\"\u001b[0m\u001b[1;33m,\u001b[0m\u001b[0mdelimiter\u001b[0m\u001b[1;33m=\u001b[0m\u001b[1;34m','\u001b[0m\u001b[1;33m)\u001b[0m \u001b[1;31m#this line should be familiar from our numpy slides\u001b[0m\u001b[1;33m\u001b[0m\u001b[1;33m\u001b[0m\u001b[0m\n\u001b[0m\u001b[0;32m      2\u001b[0m \u001b[0mnp\u001b[0m\u001b[1;33m.\u001b[0m\u001b[0mset_printoptions\u001b[0m\u001b[1;33m(\u001b[0m\u001b[0msuppress\u001b[0m\u001b[1;33m=\u001b[0m\u001b[1;32mTrue\u001b[0m\u001b[1;33m)\u001b[0m\u001b[1;33m\u001b[0m\u001b[1;33m\u001b[0m\u001b[0m\n\u001b[0;32m      3\u001b[0m \u001b[0mprint\u001b[0m\u001b[1;33m(\u001b[0m\u001b[0mgas\u001b[0m\u001b[1;33m[\u001b[0m\u001b[1;33m:\u001b[0m\u001b[1;36m10\u001b[0m\u001b[1;33m,\u001b[0m \u001b[1;33m:\u001b[0m\u001b[1;33m]\u001b[0m\u001b[1;33m)\u001b[0m\u001b[1;33m\u001b[0m\u001b[1;33m\u001b[0m\u001b[0m\n",
      "\u001b[1;32m~\\anaconda3\\lib\\site-packages\\numpy\\lib\\npyio.py\u001b[0m in \u001b[0;36mloadtxt\u001b[1;34m(fname, dtype, comments, delimiter, converters, skiprows, usecols, unpack, ndmin, encoding, max_rows, like)\u001b[0m\n\u001b[0;32m   1063\u001b[0m             \u001b[0mfname\u001b[0m \u001b[1;33m=\u001b[0m \u001b[0mos_fspath\u001b[0m\u001b[1;33m(\u001b[0m\u001b[0mfname\u001b[0m\u001b[1;33m)\u001b[0m\u001b[1;33m\u001b[0m\u001b[1;33m\u001b[0m\u001b[0m\n\u001b[0;32m   1064\u001b[0m         \u001b[1;32mif\u001b[0m \u001b[0m_is_string_like\u001b[0m\u001b[1;33m(\u001b[0m\u001b[0mfname\u001b[0m\u001b[1;33m)\u001b[0m\u001b[1;33m:\u001b[0m\u001b[1;33m\u001b[0m\u001b[1;33m\u001b[0m\u001b[0m\n\u001b[1;32m-> 1065\u001b[1;33m             \u001b[0mfh\u001b[0m \u001b[1;33m=\u001b[0m \u001b[0mnp\u001b[0m\u001b[1;33m.\u001b[0m\u001b[0mlib\u001b[0m\u001b[1;33m.\u001b[0m\u001b[0m_datasource\u001b[0m\u001b[1;33m.\u001b[0m\u001b[0mopen\u001b[0m\u001b[1;33m(\u001b[0m\u001b[0mfname\u001b[0m\u001b[1;33m,\u001b[0m \u001b[1;34m'rt'\u001b[0m\u001b[1;33m,\u001b[0m \u001b[0mencoding\u001b[0m\u001b[1;33m=\u001b[0m\u001b[0mencoding\u001b[0m\u001b[1;33m)\u001b[0m\u001b[1;33m\u001b[0m\u001b[1;33m\u001b[0m\u001b[0m\n\u001b[0m\u001b[0;32m   1066\u001b[0m             \u001b[0mfencoding\u001b[0m \u001b[1;33m=\u001b[0m \u001b[0mgetattr\u001b[0m\u001b[1;33m(\u001b[0m\u001b[0mfh\u001b[0m\u001b[1;33m,\u001b[0m \u001b[1;34m'encoding'\u001b[0m\u001b[1;33m,\u001b[0m \u001b[1;34m'latin1'\u001b[0m\u001b[1;33m)\u001b[0m\u001b[1;33m\u001b[0m\u001b[1;33m\u001b[0m\u001b[0m\n\u001b[0;32m   1067\u001b[0m             \u001b[0mfh\u001b[0m \u001b[1;33m=\u001b[0m \u001b[0miter\u001b[0m\u001b[1;33m(\u001b[0m\u001b[0mfh\u001b[0m\u001b[1;33m)\u001b[0m\u001b[1;33m\u001b[0m\u001b[1;33m\u001b[0m\u001b[0m\n",
      "\u001b[1;32m~\\anaconda3\\lib\\site-packages\\numpy\\lib\\_datasource.py\u001b[0m in \u001b[0;36mopen\u001b[1;34m(path, mode, destpath, encoding, newline)\u001b[0m\n\u001b[0;32m    192\u001b[0m \u001b[1;33m\u001b[0m\u001b[0m\n\u001b[0;32m    193\u001b[0m     \u001b[0mds\u001b[0m \u001b[1;33m=\u001b[0m \u001b[0mDataSource\u001b[0m\u001b[1;33m(\u001b[0m\u001b[0mdestpath\u001b[0m\u001b[1;33m)\u001b[0m\u001b[1;33m\u001b[0m\u001b[1;33m\u001b[0m\u001b[0m\n\u001b[1;32m--> 194\u001b[1;33m     \u001b[1;32mreturn\u001b[0m \u001b[0mds\u001b[0m\u001b[1;33m.\u001b[0m\u001b[0mopen\u001b[0m\u001b[1;33m(\u001b[0m\u001b[0mpath\u001b[0m\u001b[1;33m,\u001b[0m \u001b[0mmode\u001b[0m\u001b[1;33m,\u001b[0m \u001b[0mencoding\u001b[0m\u001b[1;33m=\u001b[0m\u001b[0mencoding\u001b[0m\u001b[1;33m,\u001b[0m \u001b[0mnewline\u001b[0m\u001b[1;33m=\u001b[0m\u001b[0mnewline\u001b[0m\u001b[1;33m)\u001b[0m\u001b[1;33m\u001b[0m\u001b[1;33m\u001b[0m\u001b[0m\n\u001b[0m\u001b[0;32m    195\u001b[0m \u001b[1;33m\u001b[0m\u001b[0m\n\u001b[0;32m    196\u001b[0m \u001b[1;33m\u001b[0m\u001b[0m\n",
      "\u001b[1;32m~\\anaconda3\\lib\\site-packages\\numpy\\lib\\_datasource.py\u001b[0m in \u001b[0;36mopen\u001b[1;34m(self, path, mode, encoding, newline)\u001b[0m\n\u001b[0;32m    529\u001b[0m                                       encoding=encoding, newline=newline)\n\u001b[0;32m    530\u001b[0m         \u001b[1;32melse\u001b[0m\u001b[1;33m:\u001b[0m\u001b[1;33m\u001b[0m\u001b[1;33m\u001b[0m\u001b[0m\n\u001b[1;32m--> 531\u001b[1;33m             \u001b[1;32mraise\u001b[0m \u001b[0mIOError\u001b[0m\u001b[1;33m(\u001b[0m\u001b[1;34m\"%s not found.\"\u001b[0m \u001b[1;33m%\u001b[0m \u001b[0mpath\u001b[0m\u001b[1;33m)\u001b[0m\u001b[1;33m\u001b[0m\u001b[1;33m\u001b[0m\u001b[0m\n\u001b[0m\u001b[0;32m    532\u001b[0m \u001b[1;33m\u001b[0m\u001b[0m\n\u001b[0;32m    533\u001b[0m \u001b[1;33m\u001b[0m\u001b[0m\n",
      "\u001b[1;31mOSError\u001b[0m: ../Data/gas.csv not found."
     ]
    }
   ],
   "source": [
    "gas = np.loadtxt(\"../Data/gas.csv\",delimiter=',') #this line should be familiar from our numpy slides\n",
    "np.set_printoptions(suppress=True)\n",
    "print(gas[:10, :]) "
   ]
  },
  {
   "cell_type": "markdown",
   "metadata": {
    "slideshow": {
     "slide_type": "slide"
    }
   },
   "source": [
    "#### Starting off with a simple visualisation"
   ]
  },
  {
   "cell_type": "code",
   "execution_count": 6,
   "metadata": {
    "slideshow": {
     "slide_type": "fragment"
    }
   },
   "outputs": [
    {
     "ename": "NameError",
     "evalue": "name 'gas' is not defined",
     "output_type": "error",
     "traceback": [
      "\u001b[1;31m---------------------------------------------------------------------------\u001b[0m",
      "\u001b[1;31mNameError\u001b[0m                                 Traceback (most recent call last)",
      "\u001b[1;32m<ipython-input-6-709f4b0ba961>\u001b[0m in \u001b[0;36m<module>\u001b[1;34m\u001b[0m\n\u001b[0;32m      3\u001b[0m \u001b[0max\u001b[0m \u001b[1;33m=\u001b[0m \u001b[0mfig\u001b[0m\u001b[1;33m.\u001b[0m\u001b[0madd_subplot\u001b[0m\u001b[1;33m(\u001b[0m\u001b[1;36m1\u001b[0m\u001b[1;33m,\u001b[0m \u001b[1;36m1\u001b[0m\u001b[1;33m,\u001b[0m \u001b[1;36m1\u001b[0m\u001b[1;33m)\u001b[0m \u001b[1;31m#create a new subplot, returning a set of axes\u001b[0m\u001b[1;33m\u001b[0m\u001b[1;33m\u001b[0m\u001b[0m\n\u001b[0;32m      4\u001b[0m \u001b[1;31m# note: the call is formatted fig.add_subplot(rows, columns, index)\u001b[0m\u001b[1;33m\u001b[0m\u001b[1;33m\u001b[0m\u001b[1;33m\u001b[0m\u001b[0m\n\u001b[1;32m----> 5\u001b[1;33m \u001b[0max\u001b[0m\u001b[1;33m.\u001b[0m\u001b[0mplot\u001b[0m\u001b[1;33m(\u001b[0m\u001b[0mgas\u001b[0m\u001b[1;33m[\u001b[0m\u001b[1;33m:\u001b[0m\u001b[1;33m,\u001b[0m \u001b[1;36m1\u001b[0m\u001b[1;33m]\u001b[0m\u001b[1;33m,\u001b[0m \u001b[0mgas\u001b[0m\u001b[1;33m[\u001b[0m\u001b[1;33m:\u001b[0m\u001b[1;33m,\u001b[0m \u001b[1;36m2\u001b[0m\u001b[1;33m]\u001b[0m\u001b[1;33m,\u001b[0m \u001b[1;34m\"-o\"\u001b[0m\u001b[1;33m)\u001b[0m\u001b[1;33m\u001b[0m\u001b[1;33m\u001b[0m\u001b[0m\n\u001b[0m\u001b[0;32m      6\u001b[0m \u001b[0max\u001b[0m\u001b[1;33m.\u001b[0m\u001b[0mset_ylabel\u001b[0m\u001b[1;33m(\u001b[0m\u001b[1;34m\"Gas consumed (megatherms)\"\u001b[0m\u001b[1;33m)\u001b[0m\u001b[1;33m\u001b[0m\u001b[1;33m\u001b[0m\u001b[0m\n\u001b[0;32m      7\u001b[0m \u001b[0max\u001b[0m\u001b[1;33m.\u001b[0m\u001b[0mgrid\u001b[0m\u001b[1;33m(\u001b[0m\u001b[1;34m\"on\"\u001b[0m\u001b[1;33m)\u001b[0m\u001b[1;33m\u001b[0m\u001b[1;33m\u001b[0m\u001b[0m\n",
      "\u001b[1;31mNameError\u001b[0m: name 'gas' is not defined"
     ]
    },
    {
     "data": {
      "image/png": "[encoded data removed]",
      "text/plain": [
       "<Figure size 432x288 with 1 Axes>"
      ]
     },
     "metadata": {
      "needs_background": "light"
     },
     "output_type": "display_data"
    }
   ],
   "source": [
    "fig = plt.figure() # create a new figure\n",
    "\n",
    "ax = fig.add_subplot(1, 1, 1) #create a new subplot, returning a set of axes\n",
    "# note: the call is formatted fig.add_subplot(rows, columns, index)\n",
    "ax.plot(gas[:, 1], gas[:, 2], \"-o\")\n",
    "ax.set_ylabel(\"Gas consumed (megatherms)\")\n",
    "ax.grid(\"on\")\n",
    "ax.set_ylim(0, 1500)\n",
    "ax.set_title(\"UK Gas quarterly gas usage 1960-1986\")"
   ]
  },
  {
   "cell_type": "markdown",
   "metadata": {
    "slideshow": {
     "slide_type": "slide"
    }
   },
   "source": [
    "#### Layered plot split by season"
   ]
  },
  {
   "cell_type": "code",
   "execution_count": null,
   "metadata": {
    "slideshow": {
     "slide_type": "fragment"
    }
   },
   "outputs": [],
   "source": [
    "fig = plt.figure(figsize=(3,3))\n",
    "ax = fig.add_subplot(1,1,1)\n",
    "q1 = gas[::4, :]\n",
    "q2 = gas[1::4, :]\n",
    "q3 = gas[2::4, :]\n",
    "q4 = gas[3::4, :]\n",
    "\n",
    "ax.plot(q1[:,1], q1[:,2], label='Winter', marker='d')\n",
    "ax.plot(q1[:,1], q2[:,2], label='Spring', marker='o')\n",
    "ax.plot(q1[:,1], q3[:,2], label='Summer', marker='*')\n",
    "ax.plot(q1[:,1], q4[:,2], label='Autumn', marker='^')\n",
    "\n",
    "ax.set_xlabel('Date (years AD)')\n",
    "ax.set_ylabel('Gas consumed (megatherms)')\n",
    "ax.grid(\"on\")\n",
    "ax.set_ylim(0,1500)\n",
    "ax.set_title(\"UK Gas quarterly gas usage 1960-1986\")\n",
    "ax.legend()"
   ]
  },
  {
   "cell_type": "markdown",
   "metadata": {
    "slideshow": {
     "slide_type": "slide"
    }
   },
   "source": [
    "#### Faceted plot"
   ]
  },
  {
   "cell_type": "code",
   "execution_count": null,
   "metadata": {
    "slideshow": {
     "slide_type": "fragment"
    }
   },
   "outputs": [],
   "source": [
    "fig = plt.figure(figsize=(4, 4))\n",
    "for ix, quarter, season in zip(\n",
    "    [1, 2, 3, 4], [q1, q2, q3, q4], [\"Winter\", \"Spring\", \"Summer\", \"Autumn\"]\n",
    "):\n",
    "    ax = fig.add_subplot(2, 2, ix)\n",
    "    ax.plot(quarter[:, 1], quarter[:, 2], marker=\".\")\n",
    "    ax.set_xlabel(\"Date\")\n",
    "    ax.set_ylabel(\"megatherms\")\n",
    "    ax.grid(\"on\")\n",
    "    ax.set_title(season)\n",
    "    ax.set_ylim(0, 1200)\n",
    "\n",
    "fig.tight_layout()  # fix overlapping plots!"
   ]
  },
  {
   "cell_type": "markdown",
   "metadata": {
    "slideshow": {
     "slide_type": "slide"
    }
   },
   "source": [
    "#### Adding in some stats"
   ]
  },
  {
   "cell_type": "code",
   "execution_count": null,
   "metadata": {
    "slideshow": {
     "slide_type": "fragment"
    }
   },
   "outputs": [],
   "source": [
    "fig = plt.figure()\n",
    "ax = fig.add_subplot(1, 1, 1)\n",
    "ax.boxplot(\n",
    "    [q1[:, 2], q2[:, 2], q3[:, 2], q4[:, 2]],\n",
    "    labels=[\"Winter\", \"Spring\", \"Summer\", \"Autumn\"],\n",
    "    notch=True, #confidence intervals around the median\n",
    "    bootstrap=1000,\n",
    ")\n",
    "ax.set_xlabel(\"Quarter\")\n",
    "ax.set_ylabel(\"Gas consumed (megatherms)\")\n",
    "ax.set_ylim(0, 1500)\n",
    "ax.set_title(\"UK Gas quarterly gas usage 1960-1986\")\n"
   ]
  },
  {
   "cell_type": "markdown",
   "metadata": {
    "slideshow": {
     "slide_type": "slide"
    }
   },
   "source": [
    "### Box plots\n",
    "* Box plots rely on multiple computed statistics of the data\n",
    "* Useful for comparing distributions: e.g. between patient groups, healthy vs disease\n",
    "* **Whiskers**: represent the 2.5% and 98.5% percentiles (i.e. span 95% of the range).\n",
    "* The **interquartile range** (the range between the 75% and 25% percentiles of the dataset) shown as box\n",
    "\n",
    "<img src=\"imgs/boxplot.png\" width=400 />"
   ]
  },
  {
   "cell_type": "markdown",
   "metadata": {
    "slideshow": {
     "slide_type": "slide"
    }
   },
   "source": [
    "### Violin plots"
   ]
  },
  {
   "cell_type": "markdown",
   "metadata": {},
   "source": [
    "* Violin plots are an extension of box plots. \n",
    "\n",
    "* The distribution of the data can be seen more precisely. \n",
    "\n",
    "* Plotting of the full distribution with a smoothing technique. \n",
    "\n",
    "<img src=\"imgs/violin_box.png\" width=400 />"
   ]
  },
  {
   "cell_type": "markdown",
   "metadata": {
    "slideshow": {
     "slide_type": "slide"
    }
   },
   "source": [
    "### Speaking of distributions"
   ]
  },
  {
   "cell_type": "markdown",
   "metadata": {
    "slideshow": {
     "slide_type": "slide"
    }
   },
   "source": [
    "#### Histograms\n",
    "\n",
    "* Might look like bar charts BUT no space between the bars we are **binning** continuous data\n",
    "* Shows count of values within a range\n",
    "* Useful for visualising the distribution of the data\n",
    "* Important to ensure we are not selecting too many or to few bins\n",
    "\n",
    "\n",
    "<img src=\"imgs/stacked_histogram.png\" width=400 />\n"
   ]
  },
  {
   "cell_type": "markdown",
   "metadata": {
    "slideshow": {
     "slide_type": "slide"
    }
   },
   "source": [
    "### Some other statistics to compute"
   ]
  },
  {
   "cell_type": "code",
   "execution_count": null,
   "metadata": {
    "slideshow": {
     "slide_type": "fragment"
    }
   },
   "outputs": [],
   "source": [
    "#could also do the same with mix and max or confidence intervals\n",
    "quarters = np.stack([q1,q2,q3,q4])\n",
    "mean_gas = np.mean(quarters[:,:,2], axis=0)\n",
    "std_gas = np.std(quarters[:,:,2], axis=0)\n",
    "\n",
    "fig = plt.figure(figsize=(9,6))\n",
    "ax = fig.add_subplot(3,1,1)\n",
    "ax.set_title(\"Mean and std. dev\")\n",
    "ax.set_ylabel(\"Gas usage (megatherms)\")\n",
    "ax.plot(quarters[0,:,1], mean_gas)\n",
    "ax.fill_between(quarters[0,:,1], mean_gas+std_gas, mean_gas-std_gas, alpha=0.2)\n",
    "             "
   ]
  },
  {
   "cell_type": "markdown",
   "metadata": {
    "slideshow": {
     "slide_type": "slide"
    }
   },
   "source": [
    "### Dealing with uncertainty\n",
    "\n",
    "* Data are often collected from measurements with observation error, so the values obtained are corrupted versions of the true values. \n",
    "\n",
    "* Uncertainty of model parameters \n",
    "\n",
    "* As scientists we are meant to communicate those appropriately and be honest about them! \n",
    "\n",
    "* In the earlier examples, we've looked at standard deviation or interquartile range and how they can be used to show summaries of a collection of data."
   ]
  },
  {
   "cell_type": "markdown",
   "metadata": {
    "slideshow": {
     "slide_type": "slide"
    }
   },
   "source": [
    "### Dealing with uncertainty: Error bars\n",
    "\n",
    "There are several choices for the error bars:\n",
    "    \n",
    "* the standard deviation\n",
    "* the standard error\n",
    "* confidence intervals (e.g. 95%)\n",
    "* nonparametric intervals such as interquartile ranges.\n",
    "\n",
    "Make sure you communicate the choice of error bar to the reader: e.g include it in the capture of the figure or the legend. \n",
    "\n",
    "<img src=\"imgs/error_bars.png\" width=300 />\n",
    "\n"
   ]
  },
  {
   "cell_type": "markdown",
   "metadata": {
    "slideshow": {
     "slide_type": "slide"
    }
   },
   "source": [
    "### Some thoughts\n",
    "\n",
    "* Think about the purpose of your plot\n",
    "\n",
    "* Often there are multiple suitable ways of representing your data (e.g think about our gas use in the UK over the years example)\n",
    "\n",
    "* Be careful of variables you place on x and y\n",
    "\n",
    "* Don't forger to include titles, labels, legends, caption, etc\n",
    "\n",
    "* Think about scaling\n",
    "\n",
    "* Think about uncertainty and how you communicate it across in your visualisations"
   ]
  }
 ],
 "metadata": {
  "celltoolbar": "Slideshow",
  "kernelspec": {
   "display_name": "Python 3",
   "language": "python",
   "name": "python3"
  },
  "language_info": {
   "codemirror_mode": {
    "name": "ipython",
    "version": 3
   },
   "file_extension": ".py",
   "mimetype": "text/x-python",
   "name": "python",
   "nbconvert_exporter": "python",
   "pygments_lexer": "ipython3",
   "version": "3.8.8"
  }
 },
 "nbformat": 4,
 "nbformat_minor": 2
}
