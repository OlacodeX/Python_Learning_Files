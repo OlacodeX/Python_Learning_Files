{
 "cells": [
  {
   "cell_type": "markdown",
   "id": "6b34fac4",
   "metadata": {
    "slideshow": {
     "slide_type": "slide"
    }
   },
   "source": [
    "# Wk1 Trk2, Day 4: 02/09/21\n",
    "<br>\n",
    "\n",
    "# Exercises: Advanced Data Types\n",
    "---\n",
    "<br>\n",
    "\n",
    "##### Programming Workshop for Scientists in Africa <www.pwsafrica.org>. \n",
    "##### Supported by the School of Computing Science, University of Glasgow.\n",
    "##### Funded by the Global Challenges Research Fund and Scottish Funding Council.\n",
    "<br>\n",
    "\n",
    "##### PWSA2021. Python 3.x\n",
    "---"
   ]
  },
  {
   "cell_type": "markdown",
   "id": "838dd323",
   "metadata": {},
   "source": [
    "<div class=\"alert alert-danger\"> <b>IMPORTANT:</b> You do not have permission to save any file under the examples/pwsa2021 directory. Before you begin solving the exercises, first save this notebook in your home directory! </div>\n",
    "\n",
    "How do I save a notebook in my home directory?\n",
    "* First open the notebook you want to copy \n",
    "* Go to **File** in the menu bar\n",
    "* Click on **Save Notebook As**\n",
    "* The current path is: **examples/pwsa2021/Week1Track2/Exercises/\\<name of notebook\\>.ipynb**\n",
    "\n",
    "        where <name of notebook> can be day4_exercises ....\n",
    "    \n",
    "* Rename the path to **\\<name of notebook\\>.ipynb**\n",
    "* If you go back to your home directory, i.e., outside \"examples/pwsa2021\", you will see the notebook you copied over. This is where you type your solution and save as you go along.\n",
    "\n",
    "---"
   ]
  },
  {
   "cell_type": "markdown",
   "id": "3a6371f9",
   "metadata": {},
   "source": [
    "In today's exercises, we'll practice the material that was covered in this morning's lecture.\n",
    "\n",
    "Some problems at the end of the exercise notebook are marked as _optional_. Your progress on those problems won't be assessed: these problems have been provided as an additional challenge for people that have found the earlier problems straightforward."
   ]
  },
  {
   "cell_type": "markdown",
   "id": "e1cc702a",
   "metadata": {},
   "source": [
    "## 1. Stacks\n",
    "\n",
    "You should begin this set of exercises by first implementing the stack data structure. An implementation that makes use of object-oriented programming is provided in the notes. If you understand these concepts, you can implement a version that is similar to this.\n",
    "\n",
    "However, if you are not yet comfortable with object-oriented programming, you can implement a stack using a list. Think about how the stack operations can be managed using lists: where does data get added to and removed from?\n",
    "\n",
    "Once you've implemented the stack, try it out with some example data."
   ]
  },
  {
   "cell_type": "code",
   "execution_count": 1,
   "id": "648bb23c",
   "metadata": {},
   "outputs": [
    {
     "data": {
      "text/plain": [
       "['Olawale']"
      ]
     },
     "execution_count": 1,
     "metadata": {},
     "output_type": "execute_result"
    }
   ],
   "source": [
    "# implement and test your stack code here\n",
    "class MyStack:\n",
    "    def __init__(self):\n",
    "        self._data = list()\n",
    "    def add_item(self, item):\n",
    "        self._data.append(item)\n",
    "    def remove(self):\n",
    "        return self._data.pop()\n",
    "\n",
    "names = MyStack()\n",
    "names.add_item(\"Olawale\")\n",
    "names.add_item(\"PWSA2021\")\n",
    "names._data\n",
    "names.remove()\n",
    "names._data"
   ]
  },
  {
   "cell_type": "markdown",
   "id": "416698b0",
   "metadata": {},
   "source": [
    "### 1.1 Reversing strings\n",
    "\n",
    "Using a stack, write a function that takes a string, and returns the reverse of the string."
   ]
  },
  {
   "cell_type": "markdown",
   "id": "168d0842",
   "metadata": {},
   "source": [
    "### Solution one"
   ]
  },
  {
   "cell_type": "code",
   "execution_count": 2,
   "id": "ce7f62cf",
   "metadata": {},
   "outputs": [
    {
     "name": "stdout",
     "output_type": "stream",
     "text": [
      "olleH\n"
     ]
    }
   ],
   "source": [
    "# write your solution here\n",
    "class ReversingStack:\n",
    "    def __init__(self, item):\n",
    "         self._item = item[::-1] \n",
    "\n",
    "string = \"Hello\"\n",
    "text = ReversingStack(string)\n",
    "print(text._item)"
   ]
  },
  {
   "cell_type": "markdown",
   "id": "564b89af",
   "metadata": {},
   "source": [
    "### Solution two following class material sample"
   ]
  },
  {
   "cell_type": "code",
   "execution_count": 3,
   "id": "337785da",
   "metadata": {},
   "outputs": [
    {
     "name": "stdout",
     "output_type": "stream",
     "text": [
      "['H', 'e', 'l', 'l', 'o']\n"
     ]
    },
    {
     "data": {
      "text/plain": [
       "'olleH'"
      ]
     },
     "execution_count": 3,
     "metadata": {},
     "output_type": "execute_result"
    }
   ],
   "source": [
    "def reverseString(string):\n",
    "    stack = MyStack()\n",
    "    for letter in string:\n",
    "        #add each letter to the list\n",
    "        stack.add_item(letter)\n",
    "    #Print list to confirm\n",
    "    print(stack._data)\n",
    "    result = \"\"\n",
    "    while len(stack._data) > 0:\n",
    "        result += stack.remove()\n",
    "    return result\n",
    "reverseString(\"Hello\")"
   ]
  },
  {
   "cell_type": "code",
   "execution_count": 4,
   "id": "b5705177",
   "metadata": {},
   "outputs": [
    {
     "data": {
      "text/plain": [
       "'olleH'"
      ]
     },
     "execution_count": 4,
     "metadata": {},
     "output_type": "execute_result"
    }
   ],
   "source": [
    "class ReversingStack2:\n",
    "    def __init__(self):\n",
    "        self._string = []\n",
    "    def ConvertToString(self, item):\n",
    "        self._string = item\n",
    "    def ReverseIt(self):\n",
    "            return self._string[::-1]\n",
    "rev = ReversingStack2()\n",
    "rev.ConvertToString(\"Hello\")\n",
    "rev.ReverseIt()"
   ]
  },
  {
   "cell_type": "markdown",
   "id": "34772870",
   "metadata": {},
   "source": [
    "### Optional: 1.2 Postfix to infix convertor\n",
    "\n",
    "Using a stack, write a function that will convert an arithmetic expression, written using postfix, into the same expression, written in infix notation. \n",
    "\n",
    "Infix notation is where the operator to be applied to two operands is written between the operands: for example, `2 + 3` is written in infix notation. Postfix notation is where the operator is written after both operands: so, `2 3 +` is the same expression written in postfix notation."
   ]
  },
  {
   "cell_type": "code",
   "execution_count": 5,
   "id": "b8ec1c82",
   "metadata": {},
   "outputs": [
    {
     "data": {
      "text/plain": [
       "'4 2 +'"
      ]
     },
     "execution_count": 5,
     "metadata": {},
     "output_type": "execute_result"
    }
   ],
   "source": [
    "def converter(string):\n",
    "    stack = MyStack()\n",
    "    for i in string:\n",
    "        stack.add_item(i)\n",
    "    result = \"\"\n",
    "    while len(stack._data) > 0:\n",
    "        result += stack.remove()\n",
    "        splitted = result.split()\n",
    "    return splitted[0] +' '+splitted[2] +' ' +splitted[1]\n",
    "converter(\"2 + 4\")"
   ]
  },
  {
   "cell_type": "code",
   "execution_count": 6,
   "id": "faa4531f",
   "metadata": {},
   "outputs": [
    {
     "data": {
      "text/plain": [
       "'2 3 +'"
      ]
     },
     "execution_count": 6,
     "metadata": {},
     "output_type": "execute_result"
    }
   ],
   "source": [
    "# write your solution here\n",
    "class converter:\n",
    "    def __init__(self):\n",
    "        self._expression = \"\"\n",
    "    def InsertText(self, item):\n",
    "        self._expression = str(item)\n",
    "    def SplitIt(self):\n",
    "        text = self._expression.split()\n",
    "        return str(text[0]) +' '+ str(text[2]) + ' '+ str(text[1])\n",
    "expression = \"2 + 3\"\n",
    "MyObject = converter()\n",
    "MyObject.InsertText(expression)\n",
    "MyObject.SplitIt()\n"
   ]
  },
  {
   "cell_type": "markdown",
   "id": "d381e13e",
   "metadata": {},
   "source": [
    "### Optional: 1.3 Next greater element\n",
    "\n",
    "Using a stack, write a function that takes a list of numbers, and returns a list containing the _next greater element_ for each number in the input list. The _next greater element_ for a given number _n_ is the first number in the remainder of the list that is larger than _n_. If no such number exists in the list, then this value is -1. \n",
    "\n",
    "For example, if our input list is `[9, 22, 5, 17]`, then the output list will be `[22, -1, 17, -1]`."
   ]
  },
  {
   "cell_type": "code",
   "execution_count": 5,
   "id": "300becf4",
   "metadata": {},
   "outputs": [],
   "source": [
    "# write your solution here\n"
   ]
  },
  {
   "cell_type": "markdown",
   "id": "d019d540",
   "metadata": {},
   "source": [
    "## 2. Queues\n",
    "\n",
    "Next, implement the queue data structure. As for the stack exercises above, write an implementation with concepts that you are familiar with, and are comfortable using.\n",
    "\n",
    "Once you've implemented the queue, try it out with some example data."
   ]
  },
  {
   "cell_type": "code",
   "execution_count": 7,
   "id": "7ccfe150",
   "metadata": {},
   "outputs": [
    {
     "data": {
      "text/plain": [
       "'Olawal1'"
      ]
     },
     "execution_count": 7,
     "metadata": {},
     "output_type": "execute_result"
    }
   ],
   "source": [
    "class PizzaQueue:\n",
    "    \n",
    "    def __init__(self):\n",
    "        self._data = []\n",
    "    \n",
    "    def Ordered(self, buyer):\n",
    "              self._data = [buyer] + self._data\n",
    "                \n",
    "    def Sold(self):\n",
    "        return self._data.pop() \n",
    "\n",
    "SecurityDoor = PizzaQueue()\n",
    "SecurityDoor.Ordered(\"Olawal1\")\n",
    "SecurityDoor.Ordered(\"Olaale\")\n",
    "SecurityDoor._data\n",
    "SecurityDoor.Sold()"
   ]
  },
  {
   "cell_type": "markdown",
   "id": "9ee95a75",
   "metadata": {},
   "source": [
    "## Wondering how to do this with a dictionary"
   ]
  },
  {
   "cell_type": "code",
   "execution_count": 74,
   "id": "93060b75",
   "metadata": {},
   "outputs": [
    {
     "data": {
      "text/plain": [
       "{'Olawale': 6, 'Olaale': 7}"
      ]
     },
     "execution_count": 74,
     "metadata": {},
     "output_type": "execute_result"
    }
   ],
   "source": [
    "# implement and test your queue code here\n",
    "class PizzaQueue2:\n",
    "    \n",
    "    def __init__(self):\n",
    "        self._data = {} \n",
    "    \n",
    "    def Ordered(self, buyer, order ):\n",
    "              self._data[buyer] = order \n",
    "                \n",
    "    def Sold(self):\n",
    "        return self._data.pop() \n",
    "\n",
    "SecurityDoor = PizzaQueue2()\n",
    "SecurityDoor.Ordered(\"Olawale\", 6)\n",
    "SecurityDoor.Ordered(\"Olaale\", 7)\n",
    "SecurityDoor._data"
   ]
  },
  {
   "cell_type": "markdown",
   "id": "03365e0f",
   "metadata": {},
   "source": [
    "### 2.1 Reversing queues\n",
    "\n",
    "Given a queue that contains some initial element, write a function that will reverse the queue, itself using a queue."
   ]
  },
  {
   "cell_type": "code",
   "execution_count": 68,
   "id": "a7c1fb2c",
   "metadata": {},
   "outputs": [
    {
     "name": "stdout",
     "output_type": "stream",
     "text": [
      "['Olaale', 'Olawale']\n",
      "['Olawale', 'Olaale']\n"
     ]
    }
   ],
   "source": [
    "class PizzaQueue3:\n",
    "    \n",
    "    def __init__(self):\n",
    "        self._data = [] \n",
    "    \n",
    "    def createList(self, item):\n",
    "              self._data = [item] + self._data\n",
    "                \n",
    "    def reverseList(self):\n",
    "        \n",
    "        result = []\n",
    "        while len(self._data) > 0:\n",
    "            result += [self._data.pop()]\n",
    "        return result\n",
    "\n",
    "SecurityDoor = PizzaQueue3()\n",
    "SecurityDoor.createList(\"Olawale\")\n",
    "SecurityDoor.createList(\"Olaale\")\n",
    "print(SecurityDoor._data)\n",
    "print(SecurityDoor.reverseList())\n"
   ]
  },
  {
   "cell_type": "markdown",
   "id": "eea150b2",
   "metadata": {},
   "source": [
    "## 3. Binary Search Trees\n",
    "\n",
    "Finally, implement the binary search tree data structure. As for both stacks and queues, your implementation should use concepts that you are comfortable with. It is possible to use lists to represent binary search trees: each node could be a list with three elements: a left branch, the data itself, and a right branch.\n",
    "\n",
    "Once you've implemented the binary search tree, try it out with some example data."
   ]
  },
  {
   "cell_type": "markdown",
   "id": "c241127b",
   "metadata": {},
   "source": [
    "### I tried passing a list to the tree so that its can iterate through it and insert appropriately into the tree but it's not working fine, I would love if you can help me with that"
   ]
  },
  {
   "cell_type": "code",
   "execution_count": 51,
   "id": "7235ef7c",
   "metadata": {},
   "outputs": [
    {
     "name": "stdout",
     "output_type": "stream",
     "text": [
      "5 10 15 20 30 "
     ]
    }
   ],
   "source": [
    "# implement and test your bst code here\n",
    "class BinarySearchTree:\n",
    "    \n",
    "    def __init__(self, data):\n",
    "        #the data passed to the init here is the base node\n",
    "        self.data = data\n",
    "        self.left = None\n",
    "        self.right = None\n",
    "        \n",
    "    #Insert new data method\n",
    "    def insert(self, data):\n",
    "        #If the parent node is greater than data\n",
    "        if data < self.data:\n",
    "            #Then come to the left node and check if it is empty or not, if it is empty, recursively call the BinarySearchTree\n",
    "            #This begins the whole process again on this node to know where to insert the new data.\n",
    "            if self.left is None:\n",
    "                self.left = BinarySearchTree(data)\n",
    "            else:\n",
    "            # else we call the insert method recursively also which determines which side of the data found on this node\n",
    "            # to place the new data.\n",
    "                self.left.insert(data)\n",
    "        #else if the value of the node is lesser than the new data, go to the right of the node and do samething we did for left\n",
    "        else:\n",
    "            if self.right is None:\n",
    "                self.right = BinarySearchTree(data)\n",
    "            else:\n",
    "                self.right.insert(data)\n",
    "                \n",
    "    # Method to print the created tree\n",
    "    def pretty_print(self):\n",
    "        #If the left is not empty\n",
    "        if self.left is not None:\n",
    "            #print the value found there\n",
    "            self.left.pretty_print()\n",
    "        print(self.data, end=\" \")\n",
    "        # Do same for the right\n",
    "        if self.right is not None:\n",
    "            self.right.pretty_print()\n",
    "            \n",
    "base = BinarySearchTree(20)\n",
    "base.insert(10)\n",
    "base.insert(30)\n",
    "base.insert(15)\n",
    "base.insert(5)\n",
    "base.pretty_print()"
   ]
  },
  {
   "cell_type": "markdown",
   "id": "af2bde5a",
   "metadata": {},
   "source": [
    "### 3.1 Summing the data in a tree\n",
    "\n",
    "Write a function that sums together the values held in a given binary search tree, and returns that value."
   ]
  },
  {
   "cell_type": "code",
   "execution_count": 45,
   "id": "1b798e05",
   "metadata": {},
   "outputs": [
    {
     "ename": "AttributeError",
     "evalue": "'NoneType' object has no attribute 'pretty_print'",
     "output_type": "error",
     "traceback": [
      "\u001b[1;31m---------------------------------------------------------------------------\u001b[0m",
      "\u001b[1;31mAttributeError\u001b[0m                            Traceback (most recent call last)",
      "\u001b[1;32m<ipython-input-45-06bf7a296ec4>\u001b[0m in \u001b[0;36m<module>\u001b[1;34m\u001b[0m\n\u001b[0;32m     41\u001b[0m \u001b[0mbase\u001b[0m\u001b[1;33m.\u001b[0m\u001b[0minsert\u001b[0m\u001b[1;33m(\u001b[0m\u001b[1;36m15\u001b[0m\u001b[1;33m)\u001b[0m\u001b[1;33m\u001b[0m\u001b[1;33m\u001b[0m\u001b[0m\n\u001b[0;32m     42\u001b[0m \u001b[0mbase\u001b[0m\u001b[1;33m.\u001b[0m\u001b[0minsert\u001b[0m\u001b[1;33m(\u001b[0m\u001b[1;36m5\u001b[0m\u001b[1;33m)\u001b[0m\u001b[1;33m\u001b[0m\u001b[1;33m\u001b[0m\u001b[0m\n\u001b[1;32m---> 43\u001b[1;33m \u001b[0mbase\u001b[0m\u001b[1;33m.\u001b[0m\u001b[0mpretty_print\u001b[0m\u001b[1;33m(\u001b[0m\u001b[1;33m)\u001b[0m\u001b[1;33m\u001b[0m\u001b[1;33m\u001b[0m\u001b[0m\n\u001b[0m",
      "\u001b[1;32m<ipython-input-45-06bf7a296ec4>\u001b[0m in \u001b[0;36mpretty_print\u001b[1;34m(self)\u001b[0m\n\u001b[0;32m     31\u001b[0m         \u001b[1;32mif\u001b[0m \u001b[0mself\u001b[0m\u001b[1;33m.\u001b[0m\u001b[0mleft\u001b[0m \u001b[1;32mis\u001b[0m \u001b[1;32mnot\u001b[0m \u001b[1;32mNone\u001b[0m\u001b[1;33m:\u001b[0m\u001b[1;33m\u001b[0m\u001b[1;33m\u001b[0m\u001b[0m\n\u001b[0;32m     32\u001b[0m             \u001b[1;31m#print the value found there\u001b[0m\u001b[1;33m\u001b[0m\u001b[1;33m\u001b[0m\u001b[1;33m\u001b[0m\u001b[0m\n\u001b[1;32m---> 33\u001b[1;33m             \u001b[0mself\u001b[0m\u001b[1;33m.\u001b[0m\u001b[0mleft\u001b[0m\u001b[1;33m.\u001b[0m\u001b[0mpretty_print\u001b[0m\u001b[1;33m(\u001b[0m\u001b[1;33m)\u001b[0m\u001b[1;33m\u001b[0m\u001b[1;33m\u001b[0m\u001b[0m\n\u001b[0m\u001b[0;32m     34\u001b[0m         \u001b[0mprint\u001b[0m\u001b[1;33m(\u001b[0m\u001b[0mself\u001b[0m\u001b[1;33m.\u001b[0m\u001b[0mdata\u001b[0m\u001b[1;33m+\u001b[0m\u001b[0mself\u001b[0m\u001b[1;33m.\u001b[0m\u001b[0mleft\u001b[0m\u001b[1;33m.\u001b[0m\u001b[0mpretty_print\u001b[0m\u001b[1;33m(\u001b[0m\u001b[1;33m)\u001b[0m\u001b[1;33m)\u001b[0m\u001b[1;33m\u001b[0m\u001b[1;33m\u001b[0m\u001b[0m\n\u001b[0;32m     35\u001b[0m         \u001b[1;31m# Do same for the right\u001b[0m\u001b[1;33m\u001b[0m\u001b[1;33m\u001b[0m\u001b[1;33m\u001b[0m\u001b[0m\n",
      "\u001b[1;32m<ipython-input-45-06bf7a296ec4>\u001b[0m in \u001b[0;36mpretty_print\u001b[1;34m(self)\u001b[0m\n\u001b[0;32m     31\u001b[0m         \u001b[1;32mif\u001b[0m \u001b[0mself\u001b[0m\u001b[1;33m.\u001b[0m\u001b[0mleft\u001b[0m \u001b[1;32mis\u001b[0m \u001b[1;32mnot\u001b[0m \u001b[1;32mNone\u001b[0m\u001b[1;33m:\u001b[0m\u001b[1;33m\u001b[0m\u001b[1;33m\u001b[0m\u001b[0m\n\u001b[0;32m     32\u001b[0m             \u001b[1;31m#print the value found there\u001b[0m\u001b[1;33m\u001b[0m\u001b[1;33m\u001b[0m\u001b[1;33m\u001b[0m\u001b[0m\n\u001b[1;32m---> 33\u001b[1;33m             \u001b[0mself\u001b[0m\u001b[1;33m.\u001b[0m\u001b[0mleft\u001b[0m\u001b[1;33m.\u001b[0m\u001b[0mpretty_print\u001b[0m\u001b[1;33m(\u001b[0m\u001b[1;33m)\u001b[0m\u001b[1;33m\u001b[0m\u001b[1;33m\u001b[0m\u001b[0m\n\u001b[0m\u001b[0;32m     34\u001b[0m         \u001b[0mprint\u001b[0m\u001b[1;33m(\u001b[0m\u001b[0mself\u001b[0m\u001b[1;33m.\u001b[0m\u001b[0mdata\u001b[0m\u001b[1;33m+\u001b[0m\u001b[0mself\u001b[0m\u001b[1;33m.\u001b[0m\u001b[0mleft\u001b[0m\u001b[1;33m.\u001b[0m\u001b[0mpretty_print\u001b[0m\u001b[1;33m(\u001b[0m\u001b[1;33m)\u001b[0m\u001b[1;33m)\u001b[0m\u001b[1;33m\u001b[0m\u001b[1;33m\u001b[0m\u001b[0m\n\u001b[0;32m     35\u001b[0m         \u001b[1;31m# Do same for the right\u001b[0m\u001b[1;33m\u001b[0m\u001b[1;33m\u001b[0m\u001b[1;33m\u001b[0m\u001b[0m\n",
      "\u001b[1;32m<ipython-input-45-06bf7a296ec4>\u001b[0m in \u001b[0;36mpretty_print\u001b[1;34m(self)\u001b[0m\n\u001b[0;32m     32\u001b[0m             \u001b[1;31m#print the value found there\u001b[0m\u001b[1;33m\u001b[0m\u001b[1;33m\u001b[0m\u001b[1;33m\u001b[0m\u001b[0m\n\u001b[0;32m     33\u001b[0m             \u001b[0mself\u001b[0m\u001b[1;33m.\u001b[0m\u001b[0mleft\u001b[0m\u001b[1;33m.\u001b[0m\u001b[0mpretty_print\u001b[0m\u001b[1;33m(\u001b[0m\u001b[1;33m)\u001b[0m\u001b[1;33m\u001b[0m\u001b[1;33m\u001b[0m\u001b[0m\n\u001b[1;32m---> 34\u001b[1;33m         \u001b[0mprint\u001b[0m\u001b[1;33m(\u001b[0m\u001b[0mself\u001b[0m\u001b[1;33m.\u001b[0m\u001b[0mdata\u001b[0m\u001b[1;33m+\u001b[0m\u001b[0mself\u001b[0m\u001b[1;33m.\u001b[0m\u001b[0mleft\u001b[0m\u001b[1;33m.\u001b[0m\u001b[0mpretty_print\u001b[0m\u001b[1;33m(\u001b[0m\u001b[1;33m)\u001b[0m\u001b[1;33m)\u001b[0m\u001b[1;33m\u001b[0m\u001b[1;33m\u001b[0m\u001b[0m\n\u001b[0m\u001b[0;32m     35\u001b[0m         \u001b[1;31m# Do same for the right\u001b[0m\u001b[1;33m\u001b[0m\u001b[1;33m\u001b[0m\u001b[1;33m\u001b[0m\u001b[0m\n\u001b[0;32m     36\u001b[0m         \u001b[1;32mif\u001b[0m \u001b[0mself\u001b[0m\u001b[1;33m.\u001b[0m\u001b[0mright\u001b[0m \u001b[1;32mis\u001b[0m \u001b[1;32mnot\u001b[0m \u001b[1;32mNone\u001b[0m\u001b[1;33m:\u001b[0m\u001b[1;33m\u001b[0m\u001b[1;33m\u001b[0m\u001b[0m\n",
      "\u001b[1;31mAttributeError\u001b[0m: 'NoneType' object has no attribute 'pretty_print'"
     ]
    }
   ],
   "source": [
    "# write your solution here\n",
    "\n",
    "sum(base.pretty_print())"
   ]
  },
  {
   "cell_type": "markdown",
   "id": "df14f103",
   "metadata": {},
   "source": [
    "### 3.2 Get tree height\n",
    "\n",
    "Write a function that calculates the height of a given binary search tree. The _height_ of the binary search tree is the length of the largest path between the root node of the tree, and a leaf node."
   ]
  },
  {
   "cell_type": "code",
   "execution_count": 70,
   "id": "0f708b5d",
   "metadata": {},
   "outputs": [
    {
     "ename": "TypeError",
     "evalue": "object of type 'BinarySearchTree' has no len()",
     "output_type": "error",
     "traceback": [
      "\u001b[1;31m---------------------------------------------------------------------------\u001b[0m",
      "\u001b[1;31mTypeError\u001b[0m                                 Traceback (most recent call last)",
      "\u001b[1;32m<ipython-input-70-3315f04aba08>\u001b[0m in \u001b[0;36m<module>\u001b[1;34m\u001b[0m\n\u001b[0;32m     41\u001b[0m \u001b[0mbase\u001b[0m\u001b[1;33m.\u001b[0m\u001b[0minsert\u001b[0m\u001b[1;33m(\u001b[0m\u001b[1;36m15\u001b[0m\u001b[1;33m)\u001b[0m\u001b[1;33m\u001b[0m\u001b[1;33m\u001b[0m\u001b[0m\n\u001b[0;32m     42\u001b[0m \u001b[0mbase\u001b[0m\u001b[1;33m.\u001b[0m\u001b[0minsert\u001b[0m\u001b[1;33m(\u001b[0m\u001b[1;36m5\u001b[0m\u001b[1;33m)\u001b[0m\u001b[1;33m\u001b[0m\u001b[1;33m\u001b[0m\u001b[0m\n\u001b[1;32m---> 43\u001b[1;33m \u001b[0mbase\u001b[0m\u001b[1;33m.\u001b[0m\u001b[0mpretty_print\u001b[0m\u001b[1;33m(\u001b[0m\u001b[1;33m)\u001b[0m\u001b[1;33m\u001b[0m\u001b[1;33m\u001b[0m\u001b[0m\n\u001b[0m",
      "\u001b[1;32m<ipython-input-70-3315f04aba08>\u001b[0m in \u001b[0;36mpretty_print\u001b[1;34m(self)\u001b[0m\n\u001b[0;32m     30\u001b[0m     \u001b[1;32mdef\u001b[0m \u001b[0mpretty_print\u001b[0m\u001b[1;33m(\u001b[0m\u001b[0mself\u001b[0m\u001b[1;33m)\u001b[0m\u001b[1;33m:\u001b[0m\u001b[1;33m\u001b[0m\u001b[1;33m\u001b[0m\u001b[0m\n\u001b[0;32m     31\u001b[0m         \u001b[1;31m#If the left is not empty\u001b[0m\u001b[1;33m\u001b[0m\u001b[1;33m\u001b[0m\u001b[1;33m\u001b[0m\u001b[0m\n\u001b[1;32m---> 32\u001b[1;33m         \u001b[1;32mif\u001b[0m \u001b[0mlen\u001b[0m\u001b[1;33m(\u001b[0m\u001b[0mself\u001b[0m\u001b[1;33m.\u001b[0m\u001b[0mleft\u001b[0m\u001b[1;33m)\u001b[0m \u001b[1;33m>\u001b[0m \u001b[0mlen\u001b[0m\u001b[1;33m(\u001b[0m\u001b[0mself\u001b[0m\u001b[1;33m.\u001b[0m\u001b[0mright\u001b[0m\u001b[1;33m)\u001b[0m\u001b[1;33m:\u001b[0m\u001b[1;33m\u001b[0m\u001b[1;33m\u001b[0m\u001b[0m\n\u001b[0m\u001b[0;32m     33\u001b[0m                 \u001b[0mprint\u001b[0m\u001b[1;33m(\u001b[0m\u001b[0mlen\u001b[0m\u001b[1;33m(\u001b[0m\u001b[0mself\u001b[0m\u001b[1;33m.\u001b[0m\u001b[0mleft\u001b[0m\u001b[1;33m)\u001b[0m\u001b[1;33m)\u001b[0m\u001b[1;33m\u001b[0m\u001b[1;33m\u001b[0m\u001b[0m\n\u001b[0;32m     34\u001b[0m         \u001b[1;31m# Do same for the right\u001b[0m\u001b[1;33m\u001b[0m\u001b[1;33m\u001b[0m\u001b[1;33m\u001b[0m\u001b[0m\n",
      "\u001b[1;31mTypeError\u001b[0m: object of type 'BinarySearchTree' has no len()"
     ]
    }
   ],
   "source": [
    "# implement and test your bst code here\n",
    "class BinarySearchTree1:\n",
    "    \n",
    "    def __init__(self, data):\n",
    "        #the data passed to the init here is the base node\n",
    "        self.data = data\n",
    "        self.left = None\n",
    "        self.right = None\n",
    "        \n",
    "    #Insert new data method\n",
    "    def insert(self, data):\n",
    "        #If the parent node is greater than data\n",
    "        if data < self.data:\n",
    "            #Then come to the left node and check if it is empty or not, if it is empty, recursively call the BinarySearchTree\n",
    "            #This begins the whole process again on this node to know where to insert the new data.\n",
    "            if self.left is None:\n",
    "                self.left = BinarySearchTree(data)\n",
    "            else:\n",
    "            # else we call the insert method recursively also which determines which side of the data found on this node\n",
    "            # to place the new data.\n",
    "                self.left.insert(data)\n",
    "        #else if the value of the node is lesser than the new data, go to the right of the node and do samething we did for left\n",
    "        else:\n",
    "            if self.right is None:\n",
    "                self.right = BinarySearchTree(data)\n",
    "            else:\n",
    "                self.right.insert(data)\n",
    "                \n",
    "    # Method to print the created tree\n",
    "    def pretty_print(self):\n",
    "        #If the left is not empty\n",
    "        if len(self.left) > len(self.right):\n",
    "                print(len(self.left))\n",
    "        # Do same for the right\n",
    "        else:\n",
    "            print(len(self.right))\n",
    "            \n",
    "base = BinarySearchTree1(20)\n",
    "base.insert(10)\n",
    "base.insert(30)\n",
    "base.insert(15)\n",
    "base.insert(5)\n",
    "base.pretty_print()"
   ]
  },
  {
   "cell_type": "code",
   "execution_count": null,
   "id": "5bdf7e59",
   "metadata": {},
   "outputs": [],
   "source": []
  },
  {
   "cell_type": "code",
   "execution_count": null,
   "id": "d326d57d",
   "metadata": {},
   "outputs": [],
   "source": []
  },
  {
   "cell_type": "code",
   "execution_count": null,
   "id": "22c1c0fd",
   "metadata": {},
   "outputs": [],
   "source": []
  },
  {
   "cell_type": "code",
   "execution_count": null,
   "id": "e7747ef9",
   "metadata": {},
   "outputs": [],
   "source": []
  },
  {
   "cell_type": "code",
   "execution_count": null,
   "id": "c5dbf183",
   "metadata": {},
   "outputs": [],
   "source": []
  }
 ],
 "metadata": {
  "kernelspec": {
   "display_name": "Python 3",
   "language": "python",
   "name": "python3"
  },
  "language_info": {
   "codemirror_mode": {
    "name": "ipython",
    "version": 3
   },
   "file_extension": ".py",
   "mimetype": "text/x-python",
   "name": "python",
   "nbconvert_exporter": "python",
   "pygments_lexer": "ipython3",
   "version": "3.8.8"
  }
 },
 "nbformat": 4,
 "nbformat_minor": 5
}
