{
 "cells": [
  {
   "cell_type": "markdown",
   "id": "2d856090",
   "metadata": {
    "slideshow": {
     "slide_type": "slide"
    }
   },
   "source": [
    "### Data Science Week: Day 1\n",
    "\n",
    "### Introduction to numPy\n",
    "\n",
    "##### PWSA2021"
   ]
  },
  {
   "cell_type": "markdown",
   "id": "fd500eee",
   "metadata": {
    "slideshow": {
     "slide_type": "slide"
    }
   },
   "source": [
    "#### Day 1, Part 1: Overview\n",
    "\n",
    "* What are numpy arrays (ndarrays)\n",
    "* Why ndarrays\n",
    "* Lists vs ndarrays\n",
    "* Creating ndarrays\n",
    "* Array operations\n",
    "    * Slicing and Indexing\n",
    "    * Boolean Indexing\n",
    "    * Mathematical and statistical operations with arrays\n",
    "* Additional resources"
   ]
  },
  {
   "cell_type": "markdown",
   "id": "721bcc9c",
   "metadata": {
    "slideshow": {
     "slide_type": "slide"
    }
   },
   "source": [
    "### What is numPy? \n",
    "\n",
    "* powerful package for scientific computing\n",
    "* contains n-dimensional array object (ndarray)\n",
    "* provides support for linear algebra \n",
    "* loads of useful functions\n",
    "* integrates nicely with the scientific Python stack: matplotlib, scipy, etc"
   ]
  },
  {
   "cell_type": "markdown",
   "id": "57daac67",
   "metadata": {
    "slideshow": {
     "slide_type": "slide"
    }
   },
   "source": [
    "### Ndarrays\n",
    "\n",
    "**ndarrays** stands for n-dimensional arrays.\n",
    "\n",
    "Why would we use arrays? \n",
    "\n",
    "* Some operations are easily expressed as array operations\n",
    "* Makes linear algebra easier\n",
    "* Memory and computationally efficient \n",
    "* Deep learning: speech recognition, image recognition, etc\n"
   ]
  },
  {
   "cell_type": "markdown",
   "id": "78cbc049",
   "metadata": {
    "slideshow": {
     "slide_type": "slide"
    }
   },
   "source": [
    "#### Recap: lists in Python (1)\n",
    "\n",
    "*** Let's remind ourselves of what we can do with lists *** \n",
    "\n",
    "\n",
    "Lists can hold **different data types**. \n",
    "\n",
    "For example the simplel list contains a string, an int, and a list. "
   ]
  },
  {
   "cell_type": "code",
   "execution_count": 20,
   "id": "57d836cc",
   "metadata": {
    "slideshow": {
     "slide_type": "fragment"
    }
   },
   "outputs": [],
   "source": [
    "simplel = ['week',3,['day1','day2']]"
   ]
  },
  {
   "cell_type": "markdown",
   "id": "7a6cf86a",
   "metadata": {
    "slideshow": {
     "slide_type": "slide"
    }
   },
   "source": [
    "#### Recap: lists in Python (2)\n",
    "\n",
    "We can **update** the contents of a list. Let's say we want to update the 2nd element to be 2 instead of 3. Remember In Python we start indexing from 0."
   ]
  },
  {
   "cell_type": "code",
   "execution_count": 21,
   "id": "45bef952",
   "metadata": {
    "slideshow": {
     "slide_type": "fragment"
    }
   },
   "outputs": [
    {
     "name": "stdout",
     "output_type": "stream",
     "text": [
      "['week', 2, ['day1', 'day2']]\n"
     ]
    }
   ],
   "source": [
    "simplel [1] = 2\n",
    "print (simplel)"
   ]
  },
  {
   "cell_type": "markdown",
   "id": "82152056",
   "metadata": {
    "slideshow": {
     "slide_type": "slide"
    }
   },
   "source": [
    "#### Recap: lists in Python (3)\n",
    "\n",
    "We can always **augment a list and add more elements to it**. "
   ]
  },
  {
   "cell_type": "code",
   "execution_count": 22,
   "id": "7517b297",
   "metadata": {
    "slideshow": {
     "slide_type": "fragment"
    }
   },
   "outputs": [
    {
     "name": "stdout",
     "output_type": "stream",
     "text": [
      "['week', 2, ['day1', 'day2'], 10]\n"
     ]
    }
   ],
   "source": [
    "simplel.append(10)\n",
    "print (simplel)"
   ]
  },
  {
   "cell_type": "markdown",
   "id": "72b634d3",
   "metadata": {
    "slideshow": {
     "slide_type": "slide"
    }
   },
   "source": [
    "####  But what is an array and how is it different from what we've been using so far?\n",
    "\n",
    "They have\n",
    "\n",
    "* fixed, predefined size (or \"shape\")\n",
    "* fixed, predefined type (all elements have the same type)\n",
    "* they are inherently multidimensional\n",
    "* a 2D array must have the same number of columns in each row, for example.\n",
    "\n",
    "Arrays **are** typically mutable, we can change the values they hold after creation. So we can write new values into an existing array.\n"
   ]
  },
  {
   "cell_type": "markdown",
   "id": "e8971a33",
   "metadata": {
    "slideshow": {
     "slide_type": "slide"
    }
   },
   "source": [
    "### Numpy and ndarrays\n",
    "\n",
    "Main characterists of arrays:\n",
    "*  **dtype** : the type of elements contained in the array\n",
    "* **shape**: dimensions, shape is usually presented in the form of **rows** by **columns**"
   ]
  },
  {
   "cell_type": "markdown",
   "id": "9746a6bc",
   "metadata": {
    "slideshow": {
     "slide_type": "slide"
    }
   },
   "source": [
    "**dtype** just stands for the *d*ata *type*, and it is the data type of every element in an array (what kind of number it is). For the moment, we will assume we get floating point elements in our arrays: we'll discuss this in more detail later. Every element has the same *dtype*; it applies to the whole array.\n",
    "\n",
    "Common *dtypes* are:\n",
    "* `float64` double-precision float numbers\n",
    "* `float32` single-precision float numbers\n",
    "* `int32` 32 bit integers\n",
    "\n",
    "though there are many more."
   ]
  },
  {
   "cell_type": "markdown",
   "id": "4cf345b1",
   "metadata": {
    "slideshow": {
     "slide_type": "slide"
    }
   },
   "source": [
    "### Creating NumPy Arrays (ndarrays)\n",
    "\n",
    "* From numpy sequence objects\n",
    "* Using numpy functions\n",
    "    * np.arange(start,stop, step)\n",
    "    * np.linspace(start,stop, num=50)\n",
    "    * np.zeros(shape)\n",
    "    * np.ones(shape)\n",
    "    * np.full (shape, value)"
   ]
  },
  {
   "cell_type": "code",
   "execution_count": 23,
   "id": "6645bfaa",
   "metadata": {
    "slideshow": {
     "slide_type": "slide"
    }
   },
   "outputs": [],
   "source": [
    "# tradional way of importing numpy\n",
    "import numpy as np\n",
    "\n",
    "# Creating an ndarray from a list\n",
    "my_list1 = [ 2, 7, -1, 10]\n",
    "\n",
    "my_array1 = np.array(my_list1) #dtype = int64"
   ]
  },
  {
   "cell_type": "markdown",
   "id": "74f7766d",
   "metadata": {
    "slideshow": {
     "slide_type": "slide"
    }
   },
   "source": [
    "One of the simplest ways to create an ndarray is to convert a sequence data object (e.g. a list) to an array.\n",
    "\n",
    "* Note that the data type of the array created depends on the data type of the elements of the sequence data object. \n",
    "\n",
    "* To check the size of the array created, use the len() function or size function. **len and size will return the same for one dimensional arrays**\n",
    "\n",
    "* If the original sequence contains another sequence (e.g. list of lists), \n",
    "the sub-sequences need to be of the same length."
   ]
  },
  {
   "cell_type": "code",
   "execution_count": 26,
   "id": "61e26b06",
   "metadata": {
    "slideshow": {
     "slide_type": "fragment"
    }
   },
   "outputs": [
    {
     "name": "stdout",
     "output_type": "stream",
     "text": [
      "4\n",
      "4\n"
     ]
    }
   ],
   "source": [
    "print (len(my_array1))\n",
    "\n",
    "print (my_array1.size)"
   ]
  },
  {
   "cell_type": "markdown",
   "id": "7ca74816",
   "metadata": {
    "slideshow": {
     "slide_type": "slide"
    }
   },
   "source": [
    "Tuples can also be converted to ndarrays.\n",
    "\n",
    "The elements are **promoted** to the highest data type in the original sequence\n",
    "\n"
   ]
  },
  {
   "cell_type": "code",
   "execution_count": 80,
   "id": "1ec27368",
   "metadata": {
    "slideshow": {
     "slide_type": "fragment"
    }
   },
   "outputs": [
    {
     "name": "stdout",
     "output_type": "stream",
     "text": [
      "[2.  3.  4.3 7.9]\n",
      "float64\n"
     ]
    }
   ],
   "source": [
    "my_list2 = (2, 3, 4.3, 7.9)\n",
    "\n",
    "my_array2 = np.array(my_list2) #dtype = float64\n",
    "\n",
    "print (my_array2)\n",
    "\n",
    "print (my_array2.dtype)"
   ]
  },
  {
   "cell_type": "markdown",
   "id": "10e193bd",
   "metadata": {
    "slideshow": {
     "slide_type": "slide"
    }
   },
   "source": [
    "What about a list of lists? \n",
    "\n",
    "**multidimensional array**"
   ]
  },
  {
   "cell_type": "code",
   "execution_count": 127,
   "id": "1a45a00c",
   "metadata": {
    "slideshow": {
     "slide_type": "fragment"
    }
   },
   "outputs": [
    {
     "name": "stdout",
     "output_type": "stream",
     "text": [
      "2\n",
      "6\n"
     ]
    }
   ],
   "source": [
    "my_list3 = [[2, 4, 5], [12.2, 9, 6 + 2j]]\n",
    "\n",
    "my_array3 = np.array(my_list3) #dtype = complex128\n",
    "\n",
    "print (len(my_array3))\n",
    "print (my_array3.size)"
   ]
  },
  {
   "cell_type": "markdown",
   "id": "e1109ed7",
   "metadata": {
    "slideshow": {
     "slide_type": "slide"
    }
   },
   "source": [
    "#### Creating ndarrays (cont)\n",
    "\n",
    "In addition to converting lists to arrays, numpy provides us with a range of functions. Let's see some examples. You will also have the chance to practice some of those in the afternoon. \n",
    "\n",
    "        np.arange(start, stop, step)\n",
    "        \n",
    "        np.linspace(start, stop,num) \n",
    "        \n",
    "        np.ones(shape)\n",
    "        \n",
    "        np.zeros(shape)\n",
    "        \n",
    "        np.full(shape, value): could also be done with np.empty followed by np.fill\n"
   ]
  },
  {
   "cell_type": "code",
   "execution_count": 117,
   "id": "33de36e2",
   "metadata": {
    "slideshow": {
     "slide_type": "slide"
    }
   },
   "outputs": [
    {
     "name": "stdout",
     "output_type": "stream",
     "text": [
      "[10 12 14 16 18]\n",
      "[ 1.          1.47368421  1.94736842  2.42105263  2.89473684  3.36842105\n",
      "  3.84210526  4.31578947  4.78947368  5.26315789  5.73684211  6.21052632\n",
      "  6.68421053  7.15789474  7.63157895  8.10526316  8.57894737  9.05263158\n",
      "  9.52631579 10.        ]\n",
      "[[1. 1.]\n",
      " [1. 1.]]\n",
      "[[3.14159265 3.14159265 3.14159265]\n",
      " [3.14159265 3.14159265 3.14159265]\n",
      " [3.14159265 3.14159265 3.14159265]]\n"
     ]
    }
   ],
   "source": [
    "print (np.arange(10,20,2))\n",
    "\n",
    "print (np.linspace(1,10,20))\n",
    "\n",
    "print (np.ones((2,2)))\n",
    "       \n",
    "print (np.full((3,3),np.pi))"
   ]
  },
  {
   "cell_type": "markdown",
   "id": "45b1e693",
   "metadata": {
    "slideshow": {
     "slide_type": "slide"
    }
   },
   "source": [
    "#### Ndarrays are more efficient\n",
    "\n",
    "Why would we prefer arrays over lists?\n",
    "Let's have a look and compare how long a simple operation would take when using lists and when using arrays."
   ]
  },
  {
   "cell_type": "code",
   "execution_count": 118,
   "id": "e62898ba",
   "metadata": {
    "slideshow": {
     "slide_type": "slide"
    }
   },
   "outputs": [],
   "source": [
    "a_array = np.arange(10000000)\n",
    "b_array = np.arange(10000000)\n",
    "\n",
    "a_list = list(a_array)\n",
    "b_list = list(b_array)\n"
   ]
  },
  {
   "cell_type": "code",
   "execution_count": 119,
   "id": "0e7c3c92",
   "metadata": {
    "slideshow": {
     "slide_type": "fragment"
    }
   },
   "outputs": [
    {
     "name": "stdout",
     "output_type": "stream",
     "text": [
      "2.38 s ± 200 ms per loop (mean ± std. dev. of 7 runs, 1 loop each)\n"
     ]
    }
   ],
   "source": [
    "%%timeit\n",
    "for i in range(len(a_list)):\n",
    "        a_list[i] += 2 * b_list[i]"
   ]
  },
  {
   "cell_type": "code",
   "execution_count": 120,
   "id": "685708a9",
   "metadata": {
    "slideshow": {
     "slide_type": "fragment"
    }
   },
   "outputs": [
    {
     "name": "stdout",
     "output_type": "stream",
     "text": [
      "31.5 ms ± 1.85 ms per loop (mean ± std. dev. of 7 runs, 10 loops each)\n"
     ]
    }
   ],
   "source": [
    "%%timeit\n",
    "newArray = a_array + 2*b_array"
   ]
  },
  {
   "cell_type": "markdown",
   "id": "7a6f09b2",
   "metadata": {
    "slideshow": {
     "slide_type": "slide"
    }
   },
   "source": [
    "#### Element wise operations\n",
    "\n",
    "Some further examples of avoiding for loops: \n",
    "* Addition \n",
    "* Subtration\n",
    "* Multiplication\n",
    "* Division (e.g. used to normalise data features in data analysis)"
   ]
  },
  {
   "cell_type": "code",
   "execution_count": 121,
   "id": "c81eb80f",
   "metadata": {
    "slideshow": {
     "slide_type": "slide"
    }
   },
   "outputs": [
    {
     "name": "stdout",
     "output_type": "stream",
     "text": [
      "[12 14 16 18 20 22 24 26 28]\n",
      "[10 13 16 19 22 25 28 31 34]\n",
      "[2.  2.6 3.2 3.8 4.4 5.  5.6 6.2 6.8]\n",
      "735\n"
     ]
    }
   ],
   "source": [
    "A = np.arange(1,10)\n",
    "B = np.arange(11,20)\n",
    "\n",
    "X = A + B \n",
    "print(X)\n",
    "\n",
    "Y = 2*A + B-3\n",
    "print(Y)\n",
    "\n",
    "Z = Y / 5\n",
    "print(Z)\n",
    "\n",
    "# To perform matrix multiplication, use the '@' operator or matmul()\n",
    "Q = A @ B\n",
    "print(Q)"
   ]
  },
  {
   "cell_type": "markdown",
   "id": "87d75177",
   "metadata": {
    "slideshow": {
     "slide_type": "slide"
    }
   },
   "source": [
    "### Mutability and copying \n"
   ]
  },
  {
   "cell_type": "code",
   "execution_count": 122,
   "id": "0d678ea8",
   "metadata": {
    "slideshow": {
     "slide_type": "fragment"
    }
   },
   "outputs": [],
   "source": [
    "x = np.array([1,2,3])\n",
    "z = x\n",
    "x[0] = 0 "
   ]
  },
  {
   "cell_type": "code",
   "execution_count": 87,
   "id": "b2a71eb0",
   "metadata": {
    "slideshow": {
     "slide_type": "fragment"
    }
   },
   "outputs": [
    {
     "name": "stdout",
     "output_type": "stream",
     "text": [
      "[0 2 3]\n",
      "[0 2 3]\n"
     ]
    }
   ],
   "source": [
    "print (x)\n",
    "print (z)"
   ]
  },
  {
   "cell_type": "code",
   "execution_count": 88,
   "id": "628b6826",
   "metadata": {
    "slideshow": {
     "slide_type": "slide"
    }
   },
   "outputs": [
    {
     "name": "stdout",
     "output_type": "stream",
     "text": [
      "[0 2 3]\n",
      "[1 2 3]\n",
      "[1 2 3]\n"
     ]
    }
   ],
   "source": [
    "x = np.array([1,2,3])\n",
    "y = np.array(x) # copy\n",
    "z = x.copy()  #same as the line above\n",
    "x[0] = 0\n",
    "\n",
    "print (x)\n",
    "print (y)\n",
    "print (z)"
   ]
  },
  {
   "cell_type": "markdown",
   "id": "7765f87f",
   "metadata": {
    "slideshow": {
     "slide_type": "slide"
    }
   },
   "source": [
    "#### Indexing and slicing\n",
    "\n",
    "\n",
    "With lists we were able to: \n",
    "\n",
    "* access an element at a particular index\n",
    "* use negative indexing \n",
    "* take a slice "
   ]
  },
  {
   "cell_type": "code",
   "execution_count": 96,
   "id": "d141063f",
   "metadata": {
    "slideshow": {
     "slide_type": "slide"
    }
   },
   "outputs": [
    {
     "name": "stdout",
     "output_type": "stream",
     "text": [
      "1\n",
      "6\n",
      "[4, 5, 6, 6]\n"
     ]
    }
   ],
   "source": [
    "mytest = [1,2,4,5,6,6,8]\n",
    "\n",
    "print (mytest[0])\n",
    "\n",
    "print (mytest[-2])\n",
    "\n",
    "print(mytest[2:6])"
   ]
  },
  {
   "cell_type": "markdown",
   "id": "cddcd340",
   "metadata": {
    "slideshow": {
     "slide_type": "slide"
    }
   },
   "source": [
    "#### Indexing and slicing in arrays "
   ]
  },
  {
   "cell_type": "code",
   "execution_count": 97,
   "id": "0a549e84",
   "metadata": {
    "slideshow": {
     "slide_type": "fragment"
    }
   },
   "outputs": [
    {
     "name": "stdout",
     "output_type": "stream",
     "text": [
      "[ 1  2  3  4  5  6  7  8  9 10 11 12 13 14 15 16 17 18 19]\n",
      "1\n",
      "19\n",
      "[3 4 5 6]\n",
      "[ 2  4  6  8 10 12 14]\n"
     ]
    }
   ],
   "source": [
    "array1 = np.arange(1,20)\n",
    "print (array1)\n",
    "print (array1[0]) # first element\n",
    "print(array1[-1]) # last element\n",
    "print (array1[2:6]) #slicing\n",
    "print (array1[1:15:2])"
   ]
  },
  {
   "cell_type": "markdown",
   "id": "6a7ff6e7",
   "metadata": {
    "slideshow": {
     "slide_type": "slide"
    }
   },
   "source": [
    "#### What about multidimensional arrays? "
   ]
  },
  {
   "cell_type": "code",
   "execution_count": 144,
   "id": "4800bd2a",
   "metadata": {
    "slideshow": {
     "slide_type": "fragment"
    }
   },
   "outputs": [
    {
     "name": "stdout",
     "output_type": "stream",
     "text": [
      "[[ 1  2  3  4  5]\n",
      " [ 6  7  8  9 10]\n",
      " [11 12 13 14 15]\n",
      " [16 17 18 19 20]]\n",
      "__________\n",
      "[1 2 3 4 5]\n",
      "2\n"
     ]
    }
   ],
   "source": [
    "array2 = np.arange(1,21).reshape(4,5)\n",
    "print (array2)\n",
    "print (\"__________\")\n",
    "print (array2[0]) #first row of the array (a subarray)\n",
    "print (array2[0,1]) #first row (0 index) and second column\n",
    "#print (array2[0][1]) #equaivalent to the line above"
   ]
  },
  {
   "cell_type": "code",
   "execution_count": 145,
   "id": "7400c47e",
   "metadata": {},
   "outputs": [
    {
     "name": "stdout",
     "output_type": "stream",
     "text": [
      "[[ 1  2  3  4  5]\n",
      " [ 6  7  8  9 10]]\n",
      "[[ 1  2]\n",
      " [ 6  7]\n",
      " [11 12]\n",
      " [16 17]]\n"
     ]
    }
   ],
   "source": [
    "print (array2[0:2,:])\n",
    "print (array2[:,0:2])"
   ]
  },
  {
   "cell_type": "code",
   "execution_count": 138,
   "id": "9f24f817",
   "metadata": {
    "slideshow": {
     "slide_type": "slide"
    }
   },
   "outputs": [
    {
     "name": "stdout",
     "output_type": "stream",
     "text": [
      "(108, 3)\n",
      "[[   1.   1960.    160.1 ]\n",
      " [   2.   1960.25  129.7 ]\n",
      " [   3.   1960.5    84.8 ]]\n"
     ]
    }
   ],
   "source": [
    "gas = np.loadtxt(\"data/gas.csv\",delimiter=',')\n",
    "np.set_printoptions(suppress=True)\n",
    "print (gas.shape)\n",
    "print (gas[:3])"
   ]
  },
  {
   "cell_type": "code",
   "execution_count": 139,
   "id": "34d6cde9",
   "metadata": {
    "slideshow": {
     "slide_type": "fragment"
    }
   },
   "outputs": [
    {
     "name": "stdout",
     "output_type": "stream",
     "text": [
      "[[   1.  1960.   160.1]\n",
      " [   5.  1961.   160.1]\n",
      " [   9.  1962.   169.7]\n",
      " [  13.  1963.   187.3]\n",
      " [  17.  1964.   176.1]\n",
      " [  21.  1965.   185.7]\n",
      " [  25.  1966.   200.1]\n",
      " [  29.  1967.   204.9]\n",
      " [  33.  1968.   227.3]\n",
      " [  37.  1969.   244.9]\n",
      " [  41.  1970.   244.9]\n",
      " [  45.  1971.   301. ]\n",
      " [  49.  1972.   317. ]\n",
      " [  53.  1973.   371.4]\n",
      " [  57.  1974.   449.9]\n",
      " [  61.  1975.   491.5]\n",
      " [  65.  1976.   593.9]\n",
      " [  69.  1977.   584.3]\n",
      " [  73.  1978.   669.2]\n",
      " [  77.  1979.   827.7]\n",
      " [  81.  1980.   840.5]\n",
      " [  85.  1981.   848.5]\n",
      " [  89.  1982.   925.3]\n",
      " [  93.  1983.   917.3]\n",
      " [  97.  1984.   989.4]\n",
      " [ 101.  1985.  1087. ]\n",
      " [ 105.  1986.  1163.9]]\n"
     ]
    }
   ],
   "source": [
    "print (gas[::4])"
   ]
  },
  {
   "cell_type": "markdown",
   "id": "096d7f95",
   "metadata": {
    "slideshow": {
     "slide_type": "slide"
    }
   },
   "source": [
    "#### Boolean indexing\n",
    "\n",
    "* For a range of tasks, we would like to select only elements of an array that meet a certain condition. \n",
    "* Boolean indexing results in a 1-D array corresponding to elements of the original array where the given\n",
    "condition evaluates to *True*.\n",
    "* For example, let's say we want to subset only the array elements greater than 5"
   ]
  },
  {
   "cell_type": "code",
   "execution_count": 91,
   "id": "795f9614",
   "metadata": {
    "slideshow": {
     "slide_type": "fragment"
    }
   },
   "outputs": [
    {
     "name": "stdout",
     "output_type": "stream",
     "text": [
      "[ 1  2  3  4  5  6  7  8  9 10 11 12 13 14]\n"
     ]
    }
   ],
   "source": [
    "booleanexample = np.arange(1,15)\n",
    "print (booleanexample)"
   ]
  },
  {
   "cell_type": "code",
   "execution_count": 92,
   "id": "7ed6baa4",
   "metadata": {
    "slideshow": {
     "slide_type": "fragment"
    }
   },
   "outputs": [
    {
     "data": {
      "text/plain": [
       "array([False, False, False, False, False,  True,  True,  True,  True,\n",
       "        True,  True,  True,  True,  True])"
      ]
     },
     "execution_count": 92,
     "metadata": {},
     "output_type": "execute_result"
    }
   ],
   "source": [
    "booleanexample>5 #boolean values specifying if we are meeting a condition"
   ]
  },
  {
   "cell_type": "code",
   "execution_count": 93,
   "id": "cf9d0366",
   "metadata": {
    "slideshow": {
     "slide_type": "slide"
    }
   },
   "outputs": [
    {
     "data": {
      "text/plain": [
       "array([ 6,  7,  8,  9, 10, 11, 12, 13, 14])"
      ]
     },
     "execution_count": 93,
     "metadata": {},
     "output_type": "execute_result"
    }
   ],
   "source": [
    "# What we actually need is members of the original array that are > 5, not boolean values!\n",
    "# We obtain this by using the array to index into the original array as follows\n",
    "\n",
    "booleanexample[booleanexample>5]"
   ]
  },
  {
   "cell_type": "markdown",
   "id": "803dc815",
   "metadata": {
    "slideshow": {
     "slide_type": "slide"
    }
   },
   "source": [
    "#### Some further examples"
   ]
  },
  {
   "cell_type": "code",
   "execution_count": 94,
   "id": "f656c3a0",
   "metadata": {
    "slideshow": {
     "slide_type": "fragment"
    }
   },
   "outputs": [
    {
     "name": "stdout",
     "output_type": "stream",
     "text": [
      "[[ 0  1  2  3  4]\n",
      " [ 5  6  7  8  9]\n",
      " [10 11 12 13 14]\n",
      " [15 16 17 18 19]]\n"
     ]
    },
    {
     "data": {
      "text/plain": [
       "array([[ 5,  6,  7,  8,  9],\n",
       "       [10, 11, 12, 13, 14],\n",
       "       [15, 16, 17, 18, 19]])"
      ]
     },
     "execution_count": 94,
     "metadata": {},
     "output_type": "execute_result"
    }
   ],
   "source": [
    "booleanexample[booleanexample%2==0]\n",
    "\n",
    "my_multi_arr = np.arange(20).reshape(4,5) #reshaping to obtain a multidimensional array\n",
    "print(my_multi_arr)\n",
    "\n",
    "my_multi_arr[my_multi_arr.sum(axis=1)>20]"
   ]
  },
  {
   "cell_type": "markdown",
   "id": "23420d7c",
   "metadata": {
    "slideshow": {
     "slide_type": "slide"
    }
   },
   "source": [
    "#### Some useful functions\n",
    "\n",
    "\n",
    "* sum(axis): In the earlier example, we've used the funcion sum() on the rows, that's what axis=1 specifies. \n",
    "\n",
    "* mean(axis)\n",
    "\n",
    "* randn(shape)\n"
   ]
  },
  {
   "cell_type": "code",
   "execution_count": 99,
   "id": "7523ee3b",
   "metadata": {
    "slideshow": {
     "slide_type": "slide"
    }
   },
   "outputs": [
    {
     "name": "stdout",
     "output_type": "stream",
     "text": [
      "[[-0.11255676 -1.10310164]\n",
      " [-0.69304035 -1.59960378]\n",
      " [-2.96040353  0.62991994]\n",
      " [ 2.0387931   0.0609298 ]\n",
      " [-2.44084119  0.79901156]\n",
      " [ 0.37809254  1.30802467]\n",
      " [ 0.05479912  0.01631539]\n",
      " [-1.49975216 -0.3782039 ]\n",
      " [-0.75337108 -0.98809464]\n",
      " [-0.46746675 -0.44362607]]\n"
     ]
    }
   ],
   "source": [
    "testarray = np.random.randn(10,2)\n",
    "print (testarray)"
   ]
  },
  {
   "cell_type": "code",
   "execution_count": 101,
   "id": "0253194a",
   "metadata": {
    "slideshow": {
     "slide_type": "fragment"
    }
   },
   "outputs": [
    {
     "name": "stdout",
     "output_type": "stream",
     "text": [
      "[-6.45574705 -1.69842867]\n",
      "[-1.21565841 -2.29264413 -2.3304836   2.09972291 -1.64182962  1.68611722\n",
      "  0.07111451 -1.87795606 -1.74146572 -0.91109282]\n"
     ]
    }
   ],
   "source": [
    "print (testarray.sum(axis=0))\n",
    "print (testarray.sum(axis=1))"
   ]
  },
  {
   "cell_type": "code",
   "execution_count": null,
   "id": "bf2c81f3",
   "metadata": {},
   "outputs": [],
   "source": []
  }
 ],
 "metadata": {
  "celltoolbar": "Slideshow",
  "kernelspec": {
   "display_name": "Python 3",
   "language": "python",
   "name": "python3"
  },
  "language_info": {
   "codemirror_mode": {
    "name": "ipython",
    "version": 3
   },
   "file_extension": ".py",
   "mimetype": "text/x-python",
   "name": "python",
   "nbconvert_exporter": "python",
   "pygments_lexer": "ipython3",
   "version": "3.8.8"
  }
 },
 "nbformat": 4,
 "nbformat_minor": 5
}
