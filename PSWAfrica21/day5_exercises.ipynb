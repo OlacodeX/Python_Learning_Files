{
 "cells": [
  {
   "cell_type": "markdown",
   "id": "d10d284f",
   "metadata": {
    "slideshow": {
     "slide_type": "slide"
    }
   },
   "source": [
    "# Wk1 Trk2, Day 5: 03/09/21\n",
    "<br>\n",
    "\n",
    "# Exercises: Exception handling and problem solving\n",
    "---\n",
    "<br>\n",
    "\n",
    "##### Programming Workshop for Scientists in Africa <www.pwsafrica.org>. \n",
    "##### Supported by the School of Computing Science, University of Glasgow.\n",
    "##### Funded by the Global Challenges Research Fund and Scottish Funding Council.\n",
    "<br>\n",
    "\n",
    "##### PWSA2021. Python 3.x\n",
    "---"
   ]
  },
  {
   "cell_type": "markdown",
   "id": "f22e75ee",
   "metadata": {},
   "source": [
    "<div class=\"alert alert-danger\"> <b>IMPORTANT:</b> You do not have permission to save any file under the examples/pwsa2021 directory. Before you begin solving the exercises, first save this notebook in your home directory! </div>\n",
    "\n",
    "How do I save a notebook in my home directory?\n",
    "* First open the notebook you want to copy \n",
    "* Go to **File** in the menu bar\n",
    "* Click on **Save Notebook As**\n",
    "* The current path is: **examples/pwsa2021/Week1Track2/Exercises/\\<name of notebook\\>.ipynb**\n",
    "\n",
    "        where <name of notebook> can be day5_exercises ....\n",
    "    \n",
    "* Rename the path to **\\<name of notebook\\>.ipynb**\n",
    "* If you go back to your home directory, i.e., outside \"examples/pwsa2021\", you will see the notebook you copied over. This is where you type your solution and save as you go along.\n",
    "\n",
    "---"
   ]
  },
  {
   "cell_type": "markdown",
   "id": "3fcc5769",
   "metadata": {},
   "source": [
    "In today's exercises, we'll practice the material that was covered in this morning's lecture.\n",
    "\n",
    "Some problems at the end of the exercise notebook are marked as _optional_. Your progress on those problems won't be assessed: these problems have been provided as an additional challenge for people that have found the earlier problems straightforward."
   ]
  },
  {
   "cell_type": "markdown",
   "id": "b22aba81",
   "metadata": {},
   "source": [
    "## 1. Did you manage yesterday's problems?\n",
    "\n",
    "If you haven't yet done so, please spend some time working on yesterday's problems, including the optional problems at the end."
   ]
  },
  {
   "cell_type": "code",
   "execution_count": 1,
   "id": "8a8a8c31",
   "metadata": {},
   "outputs": [],
   "source": [
    "# nothing to do here"
   ]
  },
  {
   "cell_type": "markdown",
   "id": "faa0dc67",
   "metadata": {},
   "source": [
    "## 2. Python Presto Pizza Co.\n",
    "\n",
    "![Python Presto Pizza Co.](data/yes_the_name_is_trademarked_thanks_for_asking.png \"Python Presto Pizza Co.\")\n",
    "\n",
    "Your pizza-based events have become increasingly popular, and so you've decided to open a pizza restaurant. To help manage your kitchen, you've decided to implement an order management system. Each order will be contained in an individual file that looks like this:\n",
    "\n",
    "```\n",
    "1 margherita\n",
    "3 pepperoni\n",
    "1 tuna\n",
    "1 mushroom\n",
    "2 four cheese\n",
    "```\n",
    "\n",
    "Each line contains the number of that pizza that the order contains. You need to write a function that will read in an order file, and produce a list of the ingredients that are needed to make the pizzas that have been ordered. To allow you to calculate this, `recipes.txt` has been provided (in the `data` directory). This file contains the recipes for the pizzas that your restaurant sells. It is structured like this:\n",
    "\n",
    "```\n",
    "margherita:tomato mozzarella garlic basil\n",
    "tuna:tomato mozzarella tuna onion\n",
    "pepperoni:tomato mozzarella pepperoni\n",
    "mushroom:tomato mozzarella garlic mushrooms\n",
    "four cheese:tomato mozzarella cheddar parmesan gorgonzola\n",
    "hawaiian:tomato mozzarella ham pineapple\n",
    "```\n",
    "\n",
    "Each recipe requires 1 unit of each ingredient listed. **Your solution must read in the recipes.txt file, rather than using hard-coded values.**\n",
    "\n",
    "Your program should output a list of the needed ingredients for a given order file. The list should be ordered by the number of each ingredient needed, with the ingredient that we need most of listed first. So, based on the example order above, your program would output:\n",
    "\n",
    "```\n",
    "8 x tomato \n",
    "8 x mozzarella\n",
    "3 x pepperoni\n",
    "1 x garlic\n",
    "1 x basil\n",
    "1 x tuna\n",
    "1 x onion\n",
    "1 x mushrooms\n",
    "1 x cheddar\n",
    "1 x parmesan\n",
    "1 x gorgonzola\n",
    "```\n",
    "\n",
    "You should begin by writing a plan for how you'll structure your program. In particular, think about the inputs to your program, what the program needs to do, and what your program needs to produce. Consider the data structures that you require to help you."
   ]
  },
  {
   "cell_type": "code",
   "execution_count": 121,
   "id": "f291b753",
   "metadata": {},
   "outputs": [
    {
     "name": "stdout",
     "output_type": "stream",
     "text": [
      "Order of 1 pepperon is not processed because it is not available\n",
      "6 x tomato\n",
      "6 x mozzarella\n",
      "3 x ham\n",
      "3 x pineapple\n",
      "2 x tuna\n",
      "2 x onion\n",
      "1 x garlic\n",
      "1 x basil\n"
     ]
    }
   ],
   "source": [
    "# write your plan here\n",
    "# Func to read and split files\n",
    "def readFileCxt(a,b):\n",
    "    orders = {}\n",
    "    ingredients = {}\n",
    "    #Open and split the order file and store in a dictionary with the pizza name as key and the order amount as value\n",
    "    with open(a) as orderFile:\n",
    "        for line in orderFile:\n",
    "            split_line = line.strip().split()\n",
    "            pizzaName = split_line[1]\n",
    "            order_value = split_line[0]\n",
    "            orders[pizzaName] = order_value\n",
    "    #Open and split the recipes file and store in a dictionary with the pizza name as key and the ingredients as value in a list\n",
    "    with open(b) as pizza_ing:\n",
    "        for line in pizza_ing:\n",
    "            #first split data into two by the :\n",
    "            split_ing = line.strip().split(':')\n",
    "            #Then split the second part by the space and save in a list\n",
    "            new_split = split_ing[1].strip().split()\n",
    "            pizza = split_ing[0]\n",
    "            needed_ing = []\n",
    "            for ing in new_split[:]:\n",
    "                needed_ing.append(str(ing))\n",
    "            ingredients[pizza] = needed_ing\n",
    "            #Print out a tuple of the two splitted dictionaries\n",
    "        return orders, ingredients\n",
    "    \n",
    "#Unpack the tuple returned from above function and combine into a single dictionary\n",
    "def joinTwoDicts(turp):\n",
    "    #Instantiate an empty dictionary to hold the combined dictionaries\n",
    "    joinedDict = {}\n",
    "    #Unpack tuple into orders and ingredients dictionaries respectively\n",
    "    orders,ingredients = turp\n",
    "    #Iterate through the orders dictionary\n",
    "    for key, value in orders.items():\n",
    "        #Iterate through the ingredients dictionary\n",
    "        for i,j in ingredients.items(): \n",
    "                #Iterate through the ingredients list in the value of the ingredients dictionary\n",
    "                for elt in j: \n",
    "                    #Check if a pizza in orders dictionary is in ingredients dictionary\n",
    "                    if key == i:\n",
    "                        #If so, check if it is already in the joined dictionary if so, just add the values\n",
    "                        if elt in joinedDict: \n",
    "                            joinedDict[elt] += int(value)\n",
    "                        #If not insert a new record in the joined dictionary\n",
    "                        else:\n",
    "                            joinedDict[elt] = int(value)\n",
    "        #If an order is not in the recipe list(part of exercise 2 solution)\n",
    "        if ingredients.get(key) == None: \n",
    "                print(f\"Order of {value} {key} is not processed because it is not available\")\n",
    "    #return the joined dictionary\n",
    "    return joinedDict\n",
    "\n",
    "#Function to sort list\n",
    "def sortDict(dictionary, reverse = True):\n",
    "    #Below I return a dictionary that contains the sorted dictionary that I passed to the function.\n",
    "    #Using the sorted() function, I pass to the key(which specifies the sorting order) an annonymous function\n",
    "    #This function takes the dictionary as a parameter, then sorts it using the index passed in my case [1] since \n",
    "    #I want to use the values for my sorting, the reverse is a boolean operator which specifies either asc or desc order\n",
    "    # true is descending while false is ascending\n",
    "    return dict(sorted(dictionary.items(), key = lambda x: x[1], reverse = reverse))\n",
    "\n",
    "#Function to print list\n",
    "def printList(dictionary):\n",
    "    #Iterate through the sorted dictionary and print out each element in desired format.\n",
    "    for key, value in dictionary.items():\n",
    "        print(str(value) +' ' + \"x\" + ' '+ str(key))\n",
    "\n",
    "\n",
    "order = \"../Data/order1.txt\"\n",
    "ig = \"../Data/recipes.txt\"\n",
    "filesCxt = readFileCxt(order,ig) \n",
    "joinedFilesCxt = joinTwoDicts(filesCxt)  \n",
    "finalList = sortDict(joinedFilesCxt)\n",
    "printList(finalList)"
   ]
  },
  {
   "cell_type": "markdown",
   "id": "c9f5f918",
   "metadata": {},
   "source": [
    "Now, you can implement your plan. We've provided three order files in the `data` directory to allow you to test your program."
   ]
  },
  {
   "cell_type": "code",
   "execution_count": null,
   "id": "2c09b671",
   "metadata": {},
   "outputs": [],
   "source": [
    "# write your solution here\n",
    "order2 = \"../Data/order2.txt\"\n",
    "ig2 = \"../Data/recipes.txt\"\n",
    "filesCxt2 = readFileCxt(order2,ig2) \n",
    "joinedFilesCxt2 = joinTwoDicts(filesCxt2)  \n",
    "finalList2 = sortDict(joinedFilesCxt2)\n",
    "printList(finalList2)\n",
    "\n",
    "order3 = \"../Data/order3.txt\"\n",
    "ig3 = \"../Data/recipes.txt\""
   ]
  },
  {
   "cell_type": "code",
   "execution_count": 93,
   "id": "6ab5eca7",
   "metadata": {},
   "outputs": [
    {
     "name": "stdout",
     "output_type": "stream",
     "text": [
      "6 x tomato\n",
      "6 x mozzarella\n",
      "4 x garlic\n",
      "4 x mushrooms\n",
      "1 x tuna\n",
      "1 x onion\n",
      "1 x pepperoni\n"
     ]
    }
   ],
   "source": [
    "# write your solution here\n",
    "order2 = \"../Data/order2.txt\"\n",
    "ig2 = \"../Data/recipes.txt\"\n",
    "filesCxt2 = readFileCxt(order2,ig2) \n",
    "joinedFilesCxt2 = joinTwoDicts(filesCxt2)  \n",
    "finalList2 = sortDict(joinedFilesCxt2)\n",
    "printList(finalList2)"
   ]
  },
  {
   "cell_type": "code",
   "execution_count": 98,
   "id": "04bd2bc3",
   "metadata": {},
   "outputs": [
    {
     "name": "stdout",
     "output_type": "stream",
     "text": [
      "9 x tomato\n",
      "9 x mozzarella\n",
      "4 x garlic\n",
      "3 x ham\n",
      "3 x pineapple\n",
      "2 x tuna\n",
      "2 x onion\n",
      "2 x basil\n",
      "2 x mushrooms\n"
     ]
    }
   ],
   "source": [
    "order3 = \"../Data/order3.txt\"\n",
    "ig3 = \"../Data/recipes.txt\"\n",
    "filesCxt3 = readFileCxt(order3,ig3) \n",
    "joinedFilesCxt3 = joinTwoDicts(filesCxt3)  \n",
    "finalList3 = sortDict(joinedFilesCxt3)\n",
    "printList(finalList3)"
   ]
  },
  {
   "cell_type": "markdown",
   "id": "8d706aa9",
   "metadata": {},
   "source": [
    "## 2.1. Adding robustness\n",
    "\n",
    "You should make your pizza ordering program more robust, by detecting and/or handling various errors that might occur. There are lots of things that can go wrong:\n",
    "- the order file might not exist;\n",
    "- the recipes file might not exist;\n",
    "- the files not be in the correct format;\n",
    "- sometimes, the orders contain requests for menu items that don't exist in `recipes.txt`.\n",
    "\n",
    "Modify your pizza ordering program to detect or handle as many errors as you can think of. Sometimes, this means handling exceptions that Python raises (like that raised if we try to open a file that doesn't exist). We can also raise our own exceptions, or use other flow-control statements - like `if`s -- to ensure that our program continues to run as expected."
   ]
  },
  {
   "cell_type": "code",
   "execution_count": 122,
   "id": "0e648473",
   "metadata": {},
   "outputs": [
    {
     "name": "stdout",
     "output_type": "stream",
     "text": [
      "Order of 4 four is not processed because it is not available\n",
      "6 x tomato\n",
      "6 x mozzarella\n",
      "4 x garlic\n",
      "4 x mushrooms\n",
      "1 x tuna\n",
      "1 x onion\n",
      "1 x pepperoni\n"
     ]
    }
   ],
   "source": [
    "# modify your solution above\n",
    "order4 = \"../Data/order2.txt\"\n",
    "ig4 = \"../Data/recipes.txt\"\n",
    "try:\n",
    "    filesCxt4 = readFileCxt(order4,ig4)\n",
    "except (FileNotFoundError,NameError):\n",
    "    print(\"Oops, looks like the file you selected does not exist \\\n",
    "    or the name is not correctly spelt!\")\n",
    "except (NameError):\n",
    "    print(\"Oops, looks like the file you selected does not exist!\")\n",
    "try:\n",
    "    joinedFilesCxt4 = joinTwoDicts(filesCxt4)\n",
    "    finalList4 = sortDict(joinedFilesCxt4)\n",
    "    printList(finalList4)\n",
    "except:\n",
    "    print(\"Something went wrong, please try again\")"
   ]
  },
  {
   "cell_type": "markdown",
   "id": "698f299b",
   "metadata": {},
   "source": [
    "## Optional: 3. Birthday book\n",
    "\n",
    "In this exercise, you'll write a program that manages people's birthdays. Your program will read in people's birthdays and produce reminders of those that are coming up. We can represent birthdays using a dictionary:\n",
    "\n",
    "`{\"month\": \"Dec\", \"day\": 17}`\n",
    "\n",
    "The _birthday book_ is a dictionary where the keys are people's names, and the corresponding values are their birthdays, as represented with a dictionary in the format above. You'll write several functions to manage the birthday book. Before you start coding, read through all of the functions that you'll be implementing. This will make sure that you can plan to use the correct data structures.\n",
    "\n",
    "First, instantiate a birthday book, and populate it with some sample people and birthdays:"
   ]
  },
  {
   "cell_type": "code",
   "execution_count": 4,
   "id": "782dc0e8",
   "metadata": {},
   "outputs": [],
   "source": [
    "# write your solution here"
   ]
  },
  {
   "cell_type": "markdown",
   "id": "bb89c40f",
   "metadata": {},
   "source": [
    "Next, define a function that, given a person's name, prints a message containing their birthday."
   ]
  },
  {
   "cell_type": "code",
   "execution_count": 5,
   "id": "f20f6b5e",
   "metadata": {},
   "outputs": [],
   "source": [
    "# write your solution here"
   ]
  },
  {
   "cell_type": "markdown",
   "id": "d1711bab",
   "metadata": {},
   "source": [
    "Next, define a function that, given a month, prints a list of all the people who have birthdays in that month, with the date of their birthday."
   ]
  },
  {
   "cell_type": "code",
   "execution_count": 6,
   "id": "60ac11b6",
   "metadata": {},
   "outputs": [],
   "source": [
    "# write your solution here"
   ]
  },
  {
   "cell_type": "markdown",
   "id": "75c4e060",
   "metadata": {},
   "source": [
    "Next, define a function that, given a month and date, prints a list of all of the people that have birthdays within the next 7 days, along with the date of their birthday. \n",
    "\n",
    "**Remember: some of these birthdays might be in the next month, and, if the given date is at the end of December, some of them might be in January.**"
   ]
  },
  {
   "cell_type": "code",
   "execution_count": 7,
   "id": "b2b61ec1",
   "metadata": {},
   "outputs": [],
   "source": [
    "# write your solution here"
   ]
  },
  {
   "cell_type": "markdown",
   "id": "c5050ec8",
   "metadata": {},
   "source": [
    "Finally, write a function that will produce a birthday book from a file containing birthday data. The format of this file is as shown:\n",
    "\n",
    "```\n",
    "Bob,Apr,12\n",
    "Alice,Dec,6\n",
    "Joe,Feb,16\n",
    "```\n",
    "\n",
    "A sample file is given in the `data` directory."
   ]
  },
  {
   "cell_type": "code",
   "execution_count": null,
   "id": "daf51a0b",
   "metadata": {},
   "outputs": [],
   "source": [
    "# write your solution here"
   ]
  },
  {
   "cell_type": "markdown",
   "id": "258dfed4",
   "metadata": {},
   "source": [
    "## Optional: 3.1. Adding robustness\n",
    "\n",
    "As for the pizza ordering system, you should add robustness to your birthday book program, by detecting and handling exceptions. Detect or handle as many exceptions as you can think of in your solution above."
   ]
  },
  {
   "cell_type": "code",
   "execution_count": null,
   "id": "a53853fa",
   "metadata": {},
   "outputs": [],
   "source": [
    "# modify your solution above"
   ]
  }
 ],
 "metadata": {
  "kernelspec": {
   "display_name": "Python 3",
   "language": "python",
   "name": "python3"
  },
  "language_info": {
   "codemirror_mode": {
    "name": "ipython",
    "version": 3
   },
   "file_extension": ".py",
   "mimetype": "text/x-python",
   "name": "python",
   "nbconvert_exporter": "python",
   "pygments_lexer": "ipython3",
   "version": "3.8.8"
  }
 },
 "nbformat": 4,
 "nbformat_minor": 5
}
