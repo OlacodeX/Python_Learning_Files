{
 "cells": [
  {
   "cell_type": "markdown",
   "id": "f7d3ef0c",
   "metadata": {},
   "source": [
    "# Wk2 Trk1, Day 2: 07/09/21\n",
    "<br>\n",
    "\n",
    "# Exercises: Classification\n",
    "---\n",
    "<br>\n",
    "\n",
    "##### Programming Workshop for Scientists in Africa <www.pwsafrica.org>. \n",
    "##### Supported by the School of Computing Science, University of Glasgow.\n",
    "##### Funded by the Global Challenges Research Fund and Scottish Funding Council.\n",
    "\n",
    "Today, we are going to practice what we have learned about classification. The tasks are split into two categories: *implementation of a classification algorithm from scratch* and *application of classifiers to a dataset and evaluating performance using sklearn*. \n",
    "\n",
    "While we haven't covered how to use ML libraries in the lectures, we are hoping that you can put everything you've learned from using numpy and matplotlib to practice when it comes to reading documentation. As usual, your friendly volunteers will be available for questions. "
   ]
  },
  {
   "cell_type": "markdown",
   "id": "6f52d119",
   "metadata": {},
   "source": [
    "#### Task 1: Implementing KNN from scratch. \n",
    "\n",
    "**Aims**:\n",
    "1. Based on the way KNN works as described in the lectures, implement your own KNN. \n",
    "2. Compute accuracy for a particular K value. Again, accuracy is an easy to compute metric. Do that from scratch.\n",
    "3. What's the effect of K on the accuracy? Plot that. \n",
    "\n",
    "\n",
    "The cells below read the data you are going to use for training and testing.\n",
    "\n",
    "    "
   ]
  },
  {
   "cell_type": "code",
   "execution_count": 1,
   "id": "a74a4b86",
   "metadata": {},
   "outputs": [],
   "source": [
    "import numpy as np\n",
    "import matplotlib.pyplot as plt\n",
    "%matplotlib inline\n",
    "\n",
    "traindata = np.loadtxt('examples/pwsa2021/Week2Track1/Exercises/classification_data/trainx.csv',delimiter=',')\n",
    "testdata = np.loadtxt('examples/pwsa2021/Week2Track1/Exercises/classification_data/testx.csv',delimiter=',')\n",
    "trainX = traindata[:,:2]\n",
    "traint = traindata[:,2]\n",
    "testX = testdata[:,:2]\n",
    "testt = testdata[:,2]"
   ]
  },
  {
   "cell_type": "code",
   "execution_count": 17,
   "id": "7d77c978",
   "metadata": {},
   "outputs": [
    {
     "data": {
      "text/plain": [
       "array([0., 0., 0., 0., 0., 0., 0., 0., 0., 0., 0., 0., 0., 0., 0., 0., 0.,\n",
       "       0., 0., 0., 0., 0., 0., 0., 0., 0., 0., 0., 0., 0., 0., 0., 0., 0.,\n",
       "       0., 0., 0., 0., 0., 0., 0., 0., 0., 0., 0., 0., 0., 0., 0., 0., 1.,\n",
       "       1., 1., 1., 1., 1., 1., 1., 1., 1., 1., 1., 1., 1., 1., 1., 1., 1.,\n",
       "       1., 1., 1., 1., 1., 1., 1., 1., 1., 1., 1., 1., 1., 1., 1., 1., 1.,\n",
       "       1., 1., 1., 1., 1., 1., 1., 1., 1., 1., 1., 1., 1., 1., 1.])"
      ]
     },
     "execution_count": 17,
     "metadata": {},
     "output_type": "execute_result"
    }
   ],
   "source": [
    "traint"
   ]
  },
  {
   "cell_type": "code",
   "execution_count": 3,
   "id": "95bcb804",
   "metadata": {},
   "outputs": [
    {
     "data": {
      "image/png": "[encoded data removed]",
      "text/plain": [
       "<Figure size 432x288 with 1 Axes>"
      ]
     },
     "metadata": {
      "needs_background": "light"
     },
     "output_type": "display_data"
    }
   ],
   "source": [
    "classes = {0:'ro',1:'bo'}\n",
    "plt.figure()\n",
    "for cl in classes:\n",
    "    pos = np.where(traint == cl)[0]\n",
    "    plt.plot(trainX[pos,0],trainX[pos,1],classes[cl])"
   ]
  },
  {
   "cell_type": "markdown",
   "id": "c50443a9",
   "metadata": {},
   "source": [
    "#### Some hints: \n",
    "\n",
    "1. Might be easier to write a knn function for a single test example (a row in the testX)\n",
    "2. Computing distances (you can do this like this to obtain a single numeric distance between a train point and a test point):  (trainPoints - testpoint)**2.sum(axis=1)\n",
    "3. In the spirit of writing good functions, think of what parameters you need to pass to your knn function\n",
    "4. For your accuracy implementation: remember that accuracy is correct predictions/total\n",
    "5. Try a different range of K: e.g from 2 to 100\n"
   ]
  },
  {
   "cell_type": "code",
   "execution_count": 75,
   "id": "6952d168",
   "metadata": {},
   "outputs": [],
   "source": [
    "###YOUR CODE GOES HERE\n",
    "\n",
    "# We take: Xtrain and train labels, we take a test point --> return class assignment \n",
    "\n",
    "# 1. Compute distance (done)\n",
    "# 2. Get nearest neighbours (done)\n",
    "# 3. Count number from each class (done)\n",
    "# 4. Return the class assignment \n",
    "\n",
    "def computeDist(trainX,testrow):\n",
    "    distances = ((trainX-testrow)**2).sum(axis=1)\n",
    "    return distances\n",
    "\n",
    "def knn_classifier (trainX,traint, testrow,K=30): \n",
    "    dists = computeDist(trainX, testrow) #step 1: compute distances\n",
    "    dc = zip(dists,traint) #step 2: get nearest neighbour\n",
    "    dc = sorted(dc,key = lambda x:x[0]) # step 2:\n",
    "    #print (dc)\n",
    "    labels = {} #labels = {0: numOccurence, 1:numOccurence}\n",
    "    for i in range(K):\n",
    "        current_class = dc[i][1]\n",
    "    \n",
    "        if current_class not in labels.keys():\n",
    "            labels[current_class] = 1\n",
    "        else:\n",
    "            labels[current_class] += 1\n",
    "            \n",
    "    maxVal = max(labels,key=labels.get)\n",
    "    return maxVal\n",
    "    "
   ]
  },
  {
   "cell_type": "code",
   "execution_count": 65,
   "id": "88feadff",
   "metadata": {},
   "outputs": [],
   "source": [
    "#dict = {\"Alex\":21,\"Stephen\":23,\"Sofiat\":24,\"Moses\":25}"
   ]
  },
  {
   "cell_type": "code",
   "execution_count": 80,
   "id": "7451fcf4",
   "metadata": {},
   "outputs": [
    {
     "data": {
      "text/plain": [
       "1.0"
      ]
     },
     "execution_count": 80,
     "metadata": {},
     "output_type": "execute_result"
    }
   ],
   "source": [
    "knn_classifier(trainX,traint,testX[150],K=10) #--> output: 0"
   ]
  },
  {
   "cell_type": "code",
   "execution_count": 72,
   "id": "137cc389",
   "metadata": {},
   "outputs": [
    {
     "name": "stdout",
     "output_type": "stream",
     "text": [
      "0\n"
     ]
    }
   ],
   "source": [
    "testdic = {0:10,1:3}\n",
    "print (max(testdic,key=testdic.get))"
   ]
  },
  {
   "cell_type": "code",
   "execution_count": null,
   "id": "22efd982",
   "metadata": {},
   "outputs": [],
   "source": [
    "#zip: (dist1,0), (dist2,1)\n",
    "#sorted: (dist2,1) < (dist1,0)"
   ]
  },
  {
   "cell_type": "code",
   "execution_count": 16,
   "id": "9386f6c2",
   "metadata": {},
   "outputs": [
    {
     "name": "stdout",
     "output_type": "stream",
     "text": [
      "[3.97189147e+00 1.30925824e+00 2.34508543e+00 1.66772767e+00\n",
      " 5.47752193e+00 1.51309920e+01 4.53187038e+00 7.08970181e-01\n",
      " 3.81485272e-01 6.66083334e+00 5.08696968e+00 1.56896149e+00\n",
      " 2.31519970e+00 3.38431746e+00 1.51062483e+00 5.68980279e+00\n",
      " 5.01833110e+00 5.52110201e+00 1.03917698e+00 6.24851949e+00\n",
      " 7.76957658e+00 3.49862737e+00 7.16890319e-01 2.21994900e-02\n",
      " 3.93599044e+00 8.32480134e+00 3.44963143e+00 2.35942281e-02\n",
      " 6.38901239e-01 3.03354439e+00 1.94801110e+00 6.98461073e+00\n",
      " 1.36703901e+00 5.11671752e+00 6.02404307e+00 1.02313109e+01\n",
      " 6.23697924e+00 8.92466430e-01 1.79381883e+00 8.00720120e-01\n",
      " 7.61760489e+00 2.22067331e+00 2.43096656e-01 3.81923222e-02\n",
      " 5.21112040e-01 1.43088003e+00 8.91860442e-02 2.51995377e+00\n",
      " 1.77737742e+00 2.92658018e+00 3.97884250e+00 2.19724880e+01\n",
      " 1.49851902e+01 7.55855698e+00 1.43241289e+01 2.96893687e+00\n",
      " 1.10573997e+01 1.04816833e+01 4.41752614e+00 1.24533239e+01\n",
      " 1.30856793e+01 1.20635854e+01 3.50196804e+01 1.62651497e+00\n",
      " 8.34734511e+00 8.21009882e+00 3.82005988e+00 6.44814419e+00\n",
      " 1.83424326e+01 1.16814950e+01 7.14106967e-01 3.97193149e+00\n",
      " 8.32313202e+00 1.40799804e+01 3.28324951e+00 7.00441725e+00\n",
      " 2.44386538e+01 1.77023084e+01 1.74684343e+01 1.38506772e+01\n",
      " 1.62248951e+01 6.18813966e+00 3.07121202e+00 2.11021623e+00\n",
      " 6.98469719e+00 1.03383971e+01 8.67944637e+00 5.05876852e+00\n",
      " 8.15930488e+00 7.54715422e+00 1.20502904e+01 1.04150629e+01\n",
      " 4.28819819e+00 1.03887362e+01 9.68300465e+00 9.67753065e+00\n",
      " 9.79369089e+00 1.87368058e+00 6.84961869e+00 3.16362588e+01]\n"
     ]
    }
   ],
   "source": [
    "print(computeDist(trainX, testX[0]))"
   ]
  },
  {
   "cell_type": "markdown",
   "id": "8b75bd26",
   "metadata": {},
   "source": [
    "#### Task 2: Getting familiar with sklearn. Exploring an example dataset, choosing some of the classifiers described in the morning session, and evaluating the performance of the chosen classifiers.\n",
    "\n",
    "In many situations the machine learning algorithms we would like to use are readily available as part of existing libraries. And as with any other code, we don't want to reinvent the wheel as those libraries often take into consideration complex optimisations that can speed up the training of the algorithm of interest. \n",
    "\n",
    "Suggested steps: \n",
    "1. Import the data from sklearn\n",
    "2. Don't forget to split your data into training and testing\n",
    "3. Choose classifiers and compare performance. What performance metric are you going to use and why?\n",
    "\n",
    "Note: Don't forget to add the necessary imports"
   ]
  },
  {
   "cell_type": "code",
   "execution_count": 17,
   "id": "eba449da",
   "metadata": {},
   "outputs": [],
   "source": [
    "from sklearn import datasets\n",
    "from sklearn.datasets import load_breast_cancer\n",
    "cancer = datasets.load_breast_cancer() "
   ]
  },
  {
   "cell_type": "code",
   "execution_count": 19,
   "id": "2aa4920b",
   "metadata": {},
   "outputs": [
    {
     "name": "stdout",
     "output_type": "stream",
     "text": [
      "{'data': array([[1.799e+01, 1.038e+01, 1.228e+02, ..., 2.654e-01, 4.601e-01,\n",
      "        1.189e-01],\n",
      "       [2.057e+01, 1.777e+01, 1.329e+02, ..., 1.860e-01, 2.750e-01,\n",
      "        8.902e-02],\n",
      "       [1.969e+01, 2.125e+01, 1.300e+02, ..., 2.430e-01, 3.613e-01,\n",
      "        8.758e-02],\n",
      "       ...,\n",
      "       [1.660e+01, 2.808e+01, 1.083e+02, ..., 1.418e-01, 2.218e-01,\n",
      "        7.820e-02],\n",
      "       [2.060e+01, 2.933e+01, 1.401e+02, ..., 2.650e-01, 4.087e-01,\n",
      "        1.240e-01],\n",
      "       [7.760e+00, 2.454e+01, 4.792e+01, ..., 0.000e+00, 2.871e-01,\n",
      "        7.039e-02]]), 'target': array([0, 0, 0, 0, 0, 0, 0, 0, 0, 0, 0, 0, 0, 0, 0, 0, 0, 0, 0, 1, 1, 1,\n",
      "       0, 0, 0, 0, 0, 0, 0, 0, 0, 0, 0, 0, 0, 0, 0, 1, 0, 0, 0, 0, 0, 0,\n",
      "       0, 0, 1, 0, 1, 1, 1, 1, 1, 0, 0, 1, 0, 0, 1, 1, 1, 1, 0, 1, 0, 0,\n",
      "       1, 1, 1, 1, 0, 1, 0, 0, 1, 0, 1, 0, 0, 1, 1, 1, 0, 0, 1, 0, 0, 0,\n",
      "       1, 1, 1, 0, 1, 1, 0, 0, 1, 1, 1, 0, 0, 1, 1, 1, 1, 0, 1, 1, 0, 1,\n",
      "       1, 1, 1, 1, 1, 1, 1, 0, 0, 0, 1, 0, 0, 1, 1, 1, 0, 0, 1, 0, 1, 0,\n",
      "       0, 1, 0, 0, 1, 1, 0, 1, 1, 0, 1, 1, 1, 1, 0, 1, 1, 1, 1, 1, 1, 1,\n",
      "       1, 1, 0, 1, 1, 1, 1, 0, 0, 1, 0, 1, 1, 0, 0, 1, 1, 0, 0, 1, 1, 1,\n",
      "       1, 0, 1, 1, 0, 0, 0, 1, 0, 1, 0, 1, 1, 1, 0, 1, 1, 0, 0, 1, 0, 0,\n",
      "       0, 0, 1, 0, 0, 0, 1, 0, 1, 0, 1, 1, 0, 1, 0, 0, 0, 0, 1, 1, 0, 0,\n",
      "       1, 1, 1, 0, 1, 1, 1, 1, 1, 0, 0, 1, 1, 0, 1, 1, 0, 0, 1, 0, 1, 1,\n",
      "       1, 1, 0, 1, 1, 1, 1, 1, 0, 1, 0, 0, 0, 0, 0, 0, 0, 0, 0, 0, 0, 0,\n",
      "       0, 0, 1, 1, 1, 1, 1, 1, 0, 1, 0, 1, 1, 0, 1, 1, 0, 1, 0, 0, 1, 1,\n",
      "       1, 1, 1, 1, 1, 1, 1, 1, 1, 1, 1, 0, 1, 1, 0, 1, 0, 1, 1, 1, 1, 1,\n",
      "       1, 1, 1, 1, 1, 1, 1, 1, 1, 0, 1, 1, 1, 0, 1, 0, 1, 1, 1, 1, 0, 0,\n",
      "       0, 1, 1, 1, 1, 0, 1, 0, 1, 0, 1, 1, 1, 0, 1, 1, 1, 1, 1, 1, 1, 0,\n",
      "       0, 0, 1, 1, 1, 1, 1, 1, 1, 1, 1, 1, 1, 0, 0, 1, 0, 0, 0, 1, 0, 0,\n",
      "       1, 1, 1, 1, 1, 0, 1, 1, 1, 1, 1, 0, 1, 1, 1, 0, 1, 1, 0, 0, 1, 1,\n",
      "       1, 1, 1, 1, 0, 1, 1, 1, 1, 1, 1, 1, 0, 1, 1, 1, 1, 1, 0, 1, 1, 0,\n",
      "       1, 1, 1, 1, 1, 1, 1, 1, 1, 1, 1, 1, 0, 1, 0, 0, 1, 0, 1, 1, 1, 1,\n",
      "       1, 0, 1, 1, 0, 1, 0, 1, 1, 0, 1, 0, 1, 1, 1, 1, 1, 1, 1, 1, 0, 0,\n",
      "       1, 1, 1, 1, 1, 1, 0, 1, 1, 1, 1, 1, 1, 1, 1, 1, 1, 0, 1, 1, 1, 1,\n",
      "       1, 1, 1, 0, 1, 0, 1, 1, 0, 1, 1, 1, 1, 1, 0, 0, 1, 0, 1, 0, 1, 1,\n",
      "       1, 1, 1, 0, 1, 1, 0, 1, 0, 1, 0, 0, 1, 1, 1, 0, 1, 1, 1, 1, 1, 1,\n",
      "       1, 1, 1, 1, 1, 0, 1, 0, 0, 1, 1, 1, 1, 1, 1, 1, 1, 1, 1, 1, 1, 1,\n",
      "       1, 1, 1, 1, 1, 1, 1, 1, 1, 1, 1, 1, 0, 0, 0, 0, 0, 0, 1]), 'frame': None, 'target_names': array(['malignant', 'benign'], dtype='<U9'), 'DESCR': '.. _breast_cancer_dataset:\\n\\nBreast cancer wisconsin (diagnostic) dataset\\n--------------------------------------------\\n\\n**Data Set Characteristics:**\\n\\n    :Number of Instances: 569\\n\\n    :Number of Attributes: 30 numeric, predictive attributes and the class\\n\\n    :Attribute Information:\\n        - radius (mean of distances from center to points on the perimeter)\\n        - texture (standard deviation of gray-scale values)\\n        - perimeter\\n        - area\\n        - smoothness (local variation in radius lengths)\\n        - compactness (perimeter^2 / area - 1.0)\\n        - concavity (severity of concave portions of the contour)\\n        - concave points (number of concave portions of the contour)\\n        - symmetry\\n        - fractal dimension (\"coastline approximation\" - 1)\\n\\n        The mean, standard error, and \"worst\" or largest (mean of the three\\n        worst/largest values) of these features were computed for each image,\\n        resulting in 30 features.  For instance, field 0 is Mean Radius, field\\n        10 is Radius SE, field 20 is Worst Radius.\\n\\n        - class:\\n                - WDBC-Malignant\\n                - WDBC-Benign\\n\\n    :Summary Statistics:\\n\\n    ===================================== ====== ======\\n                                           Min    Max\\n    ===================================== ====== ======\\n    radius (mean):                        6.981  28.11\\n    texture (mean):                       9.71   39.28\\n    perimeter (mean):                     43.79  188.5\\n    area (mean):                          143.5  2501.0\\n    smoothness (mean):                    0.053  0.163\\n    compactness (mean):                   0.019  0.345\\n    concavity (mean):                     0.0    0.427\\n    concave points (mean):                0.0    0.201\\n    symmetry (mean):                      0.106  0.304\\n    fractal dimension (mean):             0.05   0.097\\n    radius (standard error):              0.112  2.873\\n    texture (standard error):             0.36   4.885\\n    perimeter (standard error):           0.757  21.98\\n    area (standard error):                6.802  542.2\\n    smoothness (standard error):          0.002  0.031\\n    compactness (standard error):         0.002  0.135\\n    concavity (standard error):           0.0    0.396\\n    concave points (standard error):      0.0    0.053\\n    symmetry (standard error):            0.008  0.079\\n    fractal dimension (standard error):   0.001  0.03\\n    radius (worst):                       7.93   36.04\\n    texture (worst):                      12.02  49.54\\n    perimeter (worst):                    50.41  251.2\\n    area (worst):                         185.2  4254.0\\n    smoothness (worst):                   0.071  0.223\\n    compactness (worst):                  0.027  1.058\\n    concavity (worst):                    0.0    1.252\\n    concave points (worst):               0.0    0.291\\n    symmetry (worst):                     0.156  0.664\\n    fractal dimension (worst):            0.055  0.208\\n    ===================================== ====== ======\\n\\n    :Missing Attribute Values: None\\n\\n    :Class Distribution: 212 - Malignant, 357 - Benign\\n\\n    :Creator:  Dr. William H. Wolberg, W. Nick Street, Olvi L. Mangasarian\\n\\n    :Donor: Nick Street\\n\\n    :Date: November, 1995\\n\\nThis is a copy of UCI ML Breast Cancer Wisconsin (Diagnostic) datasets.\\nhttps://goo.gl/U2Uwz2\\n\\nFeatures are computed from a digitized image of a fine needle\\naspirate (FNA) of a breast mass.  They describe\\ncharacteristics of the cell nuclei present in the image.\\n\\nSeparating plane described above was obtained using\\nMultisurface Method-Tree (MSM-T) [K. P. Bennett, \"Decision Tree\\nConstruction Via Linear Programming.\" Proceedings of the 4th\\nMidwest Artificial Intelligence and Cognitive Science Society,\\npp. 97-101, 1992], a classification method which uses linear\\nprogramming to construct a decision tree.  Relevant features\\nwere selected using an exhaustive search in the space of 1-4\\nfeatures and 1-3 separating planes.\\n\\nThe actual linear program used to obtain the separating plane\\nin the 3-dimensional space is that described in:\\n[K. P. Bennett and O. L. Mangasarian: \"Robust Linear\\nProgramming Discrimination of Two Linearly Inseparable Sets\",\\nOptimization Methods and Software 1, 1992, 23-34].\\n\\nThis database is also available through the UW CS ftp server:\\n\\nftp ftp.cs.wisc.edu\\ncd math-prog/cpo-dataset/machine-learn/WDBC/\\n\\n.. topic:: References\\n\\n   - W.N. Street, W.H. Wolberg and O.L. Mangasarian. Nuclear feature extraction \\n     for breast tumor diagnosis. IS&T/SPIE 1993 International Symposium on \\n     Electronic Imaging: Science and Technology, volume 1905, pages 861-870,\\n     San Jose, CA, 1993.\\n   - O.L. Mangasarian, W.N. Street and W.H. Wolberg. Breast cancer diagnosis and \\n     prognosis via linear programming. Operations Research, 43(4), pages 570-577, \\n     July-August 1995.\\n   - W.H. Wolberg, W.N. Street, and O.L. Mangasarian. Machine learning techniques\\n     to diagnose breast cancer from fine-needle aspirates. Cancer Letters 77 (1994) \\n     163-171.', 'feature_names': array(['mean radius', 'mean texture', 'mean perimeter', 'mean area',\n",
      "       'mean smoothness', 'mean compactness', 'mean concavity',\n",
      "       'mean concave points', 'mean symmetry', 'mean fractal dimension',\n",
      "       'radius error', 'texture error', 'perimeter error', 'area error',\n",
      "       'smoothness error', 'compactness error', 'concavity error',\n",
      "       'concave points error', 'symmetry error',\n",
      "       'fractal dimension error', 'worst radius', 'worst texture',\n",
      "       'worst perimeter', 'worst area', 'worst smoothness',\n",
      "       'worst compactness', 'worst concavity', 'worst concave points',\n",
      "       'worst symmetry', 'worst fractal dimension'], dtype='<U23'), 'filename': '/Users/alexpancheva/.local/lib/python3.6/site-packages/sklearn/datasets/data/breast_cancer.csv'}\n"
     ]
    }
   ],
   "source": [
    "#cancer has data and targets\n",
    "print (cancer)"
   ]
  },
  {
   "cell_type": "code",
   "execution_count": 21,
   "id": "e4b6a62a",
   "metadata": {},
   "outputs": [],
   "source": [
    "X = cancer.data\n",
    "y = cancer.target"
   ]
  },
  {
   "cell_type": "code",
   "execution_count": 22,
   "id": "a96cc283",
   "metadata": {},
   "outputs": [],
   "source": [
    "###YOUR CODE GOES HERE\n",
    "\n"
   ]
  },
  {
   "cell_type": "code",
   "execution_count": null,
   "id": "0ad7c93f",
   "metadata": {},
   "outputs": [],
   "source": []
  }
 ],
 "metadata": {
  "kernelspec": {
   "display_name": "Python 3",
   "language": "python",
   "name": "python3"
  },
  "language_info": {
   "codemirror_mode": {
    "name": "ipython",
    "version": 3
   },
   "file_extension": ".py",
   "mimetype": "text/x-python",
   "name": "python",
   "nbconvert_exporter": "python",
   "pygments_lexer": "ipython3",
   "version": "3.8.8"
  }
 },
 "nbformat": 4,
 "nbformat_minor": 5
}
