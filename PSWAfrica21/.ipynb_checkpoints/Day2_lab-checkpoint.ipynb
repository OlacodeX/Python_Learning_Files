{
 "cells": [
  {
   "cell_type": "markdown",
   "id": "b4e62400",
   "metadata": {},
   "source": [
    "# Wk2 Trk1, Day 2: 07/09/21\n",
    "<br>\n",
    "\n",
    "# Exercises: Classification\n",
    "---\n",
    "<br>\n",
    "\n",
    "##### Programming Workshop for Scientists in Africa <www.pwsafrica.org>. \n",
    "##### Supported by the School of Computing Science, University of Glasgow.\n",
    "##### Funded by the Global Challenges Research Fund and Scottish Funding Council.\n",
    "\n",
    "Today, we are going to practice what we have learned about classification. The tasks are split into two categories: *implementation of a classification algorithm from scratch* and *application of classifiers to a dataset and evaluating performance using sklearn*. \n",
    "\n",
    "While we haven't covered how to use ML libraries in the lectures, we are hoping that you can put everything you've learned from using numpy and matplotlib to practice when it comes to reading documentation. As usual, your friendly volunteers will be available for questions. "
   ]
  },
  {
   "cell_type": "markdown",
   "id": "d6597b01",
   "metadata": {},
   "source": [
    "#### Task 1: Implementing KNN from scratch. \n",
    "\n",
    "**Aims**:\n",
    "1. Based on the way KNN works as described in the lectures, implement your own KNN. \n",
    "2. Compute accuracy for a particular K value. Again, accuracy is an easy to compute metric. Do that from scratch.\n",
    "3. What's the effect of K on the accuracy? Plot that. \n",
    "\n",
    "\n",
    "The cells below read the data you are going to use for training and testing.\n",
    "\n",
    "    "
   ]
  },
  {
   "cell_type": "code",
   "execution_count": 1,
   "id": "b3f6ebb3",
   "metadata": {},
   "outputs": [],
   "source": [
    "import numpy as np\n",
    "import matplotlib.pyplot as plt\n",
    "%matplotlib inline\n",
    "\n",
    "traindata = np.loadtxt('classification_data/trainx.csv',delimiter=',')\n",
    "testdata = np.loadtxt('classification_data/testx.csv',delimiter=',')\n",
    "trainX = traindata[:,:2]\n",
    "traint = traindata[:,2]\n",
    "testX = testdata[:,:2]\n",
    "testt = testdata[:,2]"
   ]
  },
  {
   "cell_type": "code",
   "execution_count": 4,
   "id": "3e690138",
   "metadata": {},
   "outputs": [
    {
     "data": {
      "image/png": "[encoded data removed]",
      "text/plain": [
       "<Figure size 432x288 with 1 Axes>"
      ]
     },
     "metadata": {},
     "output_type": "display_data"
    }
   ],
   "source": [
    "classes = {0:'ro',1:'bo'}\n",
    "plt.figure()\n",
    "for cl in classes:\n",
    "    pos = np.where(traint == cl)[0]\n",
    "    plt.plot(trainX[pos,0],trainX[pos,1],classes[cl])"
   ]
  },
  {
   "cell_type": "markdown",
   "id": "463acdfc",
   "metadata": {},
   "source": [
    "#### Some hints: \n",
    "\n",
    "1. Might be easier to write a knn function for a single test example (a row in the testX)\n",
    "2. Computing distances (you can do this like this to obtain a single numeric distance between a train point and a test point):  (trainPoints - testpoint)**2.sum(axis=1)\n",
    "3. In the spirit of writing good functions, think of what parameters you need to pass to your knn function\n",
    "4. For your accuracy implementation: remember that accuracy is correct predictions/total\n",
    "5. Try a different range of K: e.g from 2 to 100\n"
   ]
  },
  {
   "cell_type": "code",
   "execution_count": 90,
   "id": "def94e3a",
   "metadata": {},
   "outputs": [],
   "source": [
    "###YOUR CODE GOES HERE\n",
    "\n",
    "# We take: Xtrain and train labels, we take a test point --> return class assignment \n",
    "\n",
    "# 1. Compute distance (done)\n",
    "# 2. Get nearest neighbours (done)\n",
    "# 3. Count number from each class (done)\n",
    "# 4. Return the class assignment \n",
    "\n",
    "def computeDist(trainX,testrow):\n",
    "    distances = ((trainX-testrow)**2).sum(axis=1)\n",
    "    return distances\n",
    "\n",
    "def knn_classifier (trainX,traint, testrow,K=30): \n",
    "    dists = computeDist(trainX, testrow) #step 1: compute distances\n",
    "    #The zip function takes two arrays and match each element with the same index into a combination(list) of turpes\n",
    "    dc = zip(dists,traint) #step 2: get nearest neighbour \n",
    "    #the sorted fuction sorts the passed list,turpe,dict based on the passed key. Here we are saying sort with the first\n",
    "    #element in the turpe\n",
    "    dc = sorted(dc,key = lambda x:x[0]) # step 2:\n",
    "    #print (dc)\n",
    "    labels = {} #labels = {0: numOccurence, 1:numOccurence}\n",
    "    for i in range(K):#select only the elements in the range of the specified k\n",
    "        current_class = dc[i][1]#the second element of the i_th turple in the dc zip\n",
    "    \n",
    "        if current_class not in labels.keys():\n",
    "            labels[current_class] = 1\n",
    "        else:\n",
    "            labels[current_class] += 1\n",
    "     #the .get is used on a dictionary to get the value of a specified key.\n",
    "    #In our case below, we are setting the maxVal variable to the label with the maximum value.\n",
    "    #The key=labels.get is saying, get us the value of that particular element with the highest number.\n",
    "    maxVal = max(labels,key=labels.get)\n",
    "    return maxVal\n",
    "\n"
   ]
  },
  {
   "cell_type": "code",
   "execution_count": 83,
   "id": "8f09b939",
   "metadata": {},
   "outputs": [
    {
     "data": {
      "text/plain": [
       "1.0"
      ]
     },
     "execution_count": 83,
     "metadata": {},
     "output_type": "execute_result"
    }
   ],
   "source": [
    "knn_classifier(trainX,traint,testX[150],K=10)"
   ]
  },
  {
   "cell_type": "code",
   "execution_count": 98,
   "id": "b9870023",
   "metadata": {},
   "outputs": [
    {
     "data": {
      "text/plain": [
       "array(<zip object at 0x000001E630E4B140>, dtype=object)"
      ]
     },
     "execution_count": 98,
     "metadata": {},
     "output_type": "execute_result"
    }
   ],
   "source": [
    "one = [1,2,3]\n",
    "two = [2,3,4]\n",
    "three = zip(one,two)\n",
    "np.array(three)"
   ]
  },
  {
   "cell_type": "markdown",
   "id": "7082d6d0",
   "metadata": {},
   "source": [
    "#### Task 2: Getting familiar with sklearn. Exploring an example dataset, choosing some of the classifiers described in the morning session, and evaluating the performance of the chosen classifiers.\n",
    "\n",
    "In many situations the machine learning algorithms we would like to use are readily available as part of existing libraries. And as with any other code, we don't want to reinvent the wheel as those libraries often take into consideration complex optimisations that can speed up the training of the algorithm of interest. \n",
    "\n",
    "Suggested steps: \n",
    "1. Import the data from sklearn\n",
    "2. Don't forget to split your data into training and testing\n",
    "3. Choose classifiers and compare performance. What performance metric are you going to use and why?\n",
    "\n",
    "Note: Don't forget to add the necessary imports"
   ]
  },
  {
   "cell_type": "code",
   "execution_count": 34,
   "id": "4fbd9476",
   "metadata": {},
   "outputs": [],
   "source": [
    "from sklearn import datasets\n",
    "from sklearn.datasets import load_breast_cancer\n",
    "from sklearn.model_selection import train_test_split\n",
    "from sklearn.linear_model import LinearRegression\n",
    "import matplotlib.pyplot as plt\n",
    "import seaborn as sns\n",
    "from sklearn.preprocessing import StandardScaler\n",
    "sns.set()\n",
    "cancer = datasets.load_breast_cancer() "
   ]
  },
  {
   "cell_type": "code",
   "execution_count": 36,
   "id": "b90e349f",
   "metadata": {},
   "outputs": [],
   "source": [
    "#cancer has data and targets\n",
    "X = cancer.data\n",
    "y = cancer.target\n",
    "cancer\n",
    "scaler = StandardScaler()\n",
    "scaler.fit(X)\n",
    "x_scaled = scaler.transform(X)\n"
   ]
  },
  {
   "cell_type": "code",
   "execution_count": 37,
   "id": "c0d4a2c5",
   "metadata": {},
   "outputs": [
    {
     "data": {
      "text/plain": [
       "array([[9.465e+00, 2.101e+01, 6.011e+01, ..., 6.517e-02, 2.878e-01,\n",
       "        9.211e-02],\n",
       "       [1.390e+01, 1.924e+01, 8.873e+01, ..., 8.150e-02, 2.356e-01,\n",
       "        7.603e-02],\n",
       "       [1.321e+01, 2.806e+01, 8.488e+01, ..., 7.958e-02, 2.473e-01,\n",
       "        6.443e-02],\n",
       "       ...,\n",
       "       [1.044e+01, 1.546e+01, 6.662e+01, ..., 4.464e-02, 2.615e-01,\n",
       "        8.269e-02],\n",
       "       [1.735e+01, 2.306e+01, 1.110e+02, ..., 8.235e-02, 2.452e-01,\n",
       "        6.515e-02],\n",
       "       [1.113e+01, 1.662e+01, 7.047e+01, ..., 4.044e-02, 2.383e-01,\n",
       "        7.083e-02]])"
      ]
     },
     "execution_count": 37,
     "metadata": {},
     "output_type": "execute_result"
    }
   ],
   "source": [
    "###YOUR CODE GOES HERE\n",
    "\n",
    "#Split data\n",
    "x_train, x_test, y_train, y_test = train_test_split(X, y, test_size=0.2, random_state=365)\n",
    "reg = LinearRegression()\n",
    "reg.fit(x_train, y_train)\n",
    "x_train"
   ]
  },
  {
   "cell_type": "code",
   "execution_count": 38,
   "id": "f289a595",
   "metadata": {},
   "outputs": [],
   "source": [
    "y_hat = reg.predict(x_train)"
   ]
  },
  {
   "cell_type": "code",
   "execution_count": 39,
   "id": "5ca77b29",
   "metadata": {},
   "outputs": [
    {
     "data": {
      "image/png": "[encoded data removed]",
      "text/plain": [
       "<Figure size 432x288 with 1 Axes>"
      ]
     },
     "metadata": {},
     "output_type": "display_data"
    }
   ],
   "source": [
    "plt.scatter(y_train, y_hat)\n",
    "plt.xlabel('Targets (y_train)', size=18)\n",
    "plt.ylabel('Predictions (y_hat)', size=18)\n",
    "plt.show()"
   ]
  },
  {
   "cell_type": "code",
   "execution_count": null,
   "id": "d55e2fc2",
   "metadata": {},
   "outputs": [],
   "source": []
  }
 ],
 "metadata": {
  "kernelspec": {
   "display_name": "Python 3",
   "language": "python",
   "name": "python3"
  },
  "language_info": {
   "codemirror_mode": {
    "name": "ipython",
    "version": 3
   },
   "file_extension": ".py",
   "mimetype": "text/x-python",
   "name": "python",
   "nbconvert_exporter": "python",
   "pygments_lexer": "ipython3",
   "version": "3.8.8"
  }
 },
 "nbformat": 4,
 "nbformat_minor": 5
}
