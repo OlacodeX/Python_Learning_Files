{
 "cells": [
  {
   "cell_type": "markdown",
   "id": "3faf493a",
   "metadata": {},
   "source": [
    "# Wk2 Trk1, Day 1, Part 1: 06/09/21\n",
    "<br>\n",
    "\n",
    "# Exercises: NumPy\n",
    "---\n",
    "<br>\n",
    "\n",
    "##### Programming Workshop for Scientists in Africa <www.pwsafrica.org>. \n",
    "##### Supported by the School of Computing Science, University of Glasgow.\n",
    "##### Funded by the Global Challenges Research Fund and Scottish Funding Council.\n",
    "\n",
    "Welcome to the first half of today's lab! In this lab, we are going to practice the fundamentals of numpy by creating arrays, accessing elements, subsetting using Boolean indexing and finally, we are also going to practice some well known numpy functions. \n",
    "\n",
    "\n",
    "Of course, we are not able to cover it all and as such we recommend the online resouces below. As always, documentation is your friend, so make sure you have a look if uncertain. \n",
    "\n",
    "Useful references: \n",
    "* [Official NumPy reference ](https://numpy.org/doc/stable/reference/index.html)\n",
    "* [Cheatsheet](https://s3.amazonaws.com/assets.datacamp.com/blog_assets/Numpy_Python_Cheat_Sheet.pdf)\n"
   ]
  },
  {
   "cell_type": "code",
   "execution_count": 1,
   "id": "5c4d44e1",
   "metadata": {},
   "outputs": [],
   "source": [
    "#first step if we want to use functions that have been already implemented in a library is to import that library\n",
    "\n",
    "#traditional way of importing numpy\n",
    "import numpy as np"
   ]
  },
  {
   "cell_type": "markdown",
   "id": "b0225a14",
   "metadata": {},
   "source": [
    "#### Task 1: Mastering the basics"
   ]
  },
  {
   "cell_type": "markdown",
   "id": "2002afa1",
   "metadata": {},
   "source": [
    "##### Part A: Create some arrays\n",
    "\n",
    "\n",
    "* Create an array from the following list \n",
    "        sample_list = [1.0,4.0,9.0,23.0]\n",
    "\n",
    "* **Do not use** *np.array* for the next problems: \n",
    "    * create a 10 x 10 matrix of all ones\n",
    "    * a 15 element vector, with all elements equal to np.pi\n",
    "    * an 1D array with elements between 0 and 50, stepping by 2\n",
    "    * an array of random numbers of 0 mean and unit std; choose the size yourselves \n",
    "    * create an array of even numbers between 100 and 500 and then divide it by 2\n",
    "\n",
    "\n",
    "\n"
   ]
  },
  {
   "cell_type": "code",
   "execution_count": 2,
   "id": "c7d4ffb3",
   "metadata": {},
   "outputs": [],
   "source": [
    "### YOUR CODE GOES HERE"
   ]
  },
  {
   "cell_type": "code",
   "execution_count": 31,
   "id": "7abda0cb",
   "metadata": {},
   "outputs": [
    {
     "name": "stdout",
     "output_type": "stream",
     "text": [
      "[[1. 1. 1. 1. 1. 1. 1. 1. 1. 1.]\n",
      " [1. 1. 1. 1. 1. 1. 1. 1. 1. 1.]\n",
      " [1. 1. 1. 1. 1. 1. 1. 1. 1. 1.]\n",
      " [1. 1. 1. 1. 1. 1. 1. 1. 1. 1.]\n",
      " [1. 1. 1. 1. 1. 1. 1. 1. 1. 1.]\n",
      " [1. 1. 1. 1. 1. 1. 1. 1. 1. 1.]\n",
      " [1. 1. 1. 1. 1. 1. 1. 1. 1. 1.]\n",
      " [1. 1. 1. 1. 1. 1. 1. 1. 1. 1.]\n",
      " [1. 1. 1. 1. 1. 1. 1. 1. 1. 1.]\n",
      " [1. 1. 1. 1. 1. 1. 1. 1. 1. 1.]]\n",
      "[3.14159265 3.14159265 3.14159265 3.14159265 3.14159265 3.14159265\n",
      " 3.14159265 3.14159265 3.14159265 3.14159265 3.14159265 3.14159265\n",
      " 3.14159265 3.14159265 3.14159265]\n",
      "[ 0  2  4  6  8 10 12 14 16 18 20 22 24 26 28 30 32 34 36 38 40 42 44 46\n",
      " 48]\n",
      "0.011438462211839985\n",
      "[ 50.  51.  52.  53.  54.  55.  56.  57.  58.  59.  60.  61.  62.  63.\n",
      "  64.  65.  66.  67.  68.  69.  70.  71.  72.  73.  74.  75.  76.  77.\n",
      "  78.  79.  80.  81.  82.  83.  84.  85.  86.  87.  88.  89.  90.  91.\n",
      "  92.  93.  94.  95.  96.  97.  98.  99. 100. 101. 102. 103. 104. 105.\n",
      " 106. 107. 108. 109. 110. 111. 112. 113. 114. 115. 116. 117. 118. 119.\n",
      " 120. 121. 122. 123. 124. 125. 126. 127. 128. 129. 130. 131. 132. 133.\n",
      " 134. 135. 136. 137. 138. 139. 140. 141. 142. 143. 144. 145. 146. 147.\n",
      " 148. 149. 150. 151. 152. 153. 154. 155. 156. 157. 158. 159. 160. 161.\n",
      " 162. 163. 164. 165. 166. 167. 168. 169. 170. 171. 172. 173. 174. 175.\n",
      " 176. 177. 178. 179. 180. 181. 182. 183. 184. 185. 186. 187. 188. 189.\n",
      " 190. 191. 192. 193. 194. 195. 196. 197. 198. 199. 200. 201. 202. 203.\n",
      " 204. 205. 206. 207. 208. 209. 210. 211. 212. 213. 214. 215. 216. 217.\n",
      " 218. 219. 220. 221. 222. 223. 224. 225. 226. 227. 228. 229. 230. 231.\n",
      " 232. 233. 234. 235. 236. 237. 238. 239. 240. 241. 242. 243. 244. 245.\n",
      " 246. 247. 248. 249.]\n"
     ]
    }
   ],
   "source": [
    "sample_list = [1.0, 4.0, 9.0, 23.0]\n",
    "np.array(sample_list)\n",
    "#10 x 10 matrix array\n",
    "print(np.ones((10,10)))\n",
    "#15 element vector with all elements = np.pi\n",
    "print(np.full((15),np.pi))\n",
    "#1D array range 0 - 50 step by 2\n",
    "print(np.arange(0,50,2))\n",
    "#array of random numbers\n",
    "print(np.random.randn(100,3).mean())\n",
    "#array of even numbers\n",
    "all_array = np.arange(100,500)\n",
    "evens = all_array[all_array%2 == 0]\n",
    "evens_div_by_2 = evens / 2\n",
    "print(evens_div_by_2)"
   ]
  },
  {
   "cell_type": "markdown",
   "id": "c45690f2",
   "metadata": {},
   "source": [
    "##### Part B: Practing indexing and slicing\n",
    "\n",
    "Given the array below, access the following elements:\n",
    "\n",
    "* access 39 using negative indexing\n",
    "* slice the first five elements of each row\n",
    "* slice the numbers between 0 and 5\n",
    "* slice all the odd numbers (use Boolean indexing)"
   ]
  },
  {
   "cell_type": "code",
   "execution_count": 51,
   "id": "71353da3",
   "metadata": {},
   "outputs": [
    {
     "name": "stdout",
     "output_type": "stream",
     "text": [
      "[[ 0  1  2  3  4  5  6  7  8  9 10 11 12 13 14 15 16 17 18 19]\n",
      " [20 21 22 23 24 25 26 27 28 29 30 31 32 33 34 35 36 37 38 39]]\n",
      "39\n",
      "[0 1 2 3 4] [20 21 22 23 24]\n",
      "[0 1 2 3 4 5]\n",
      "[ 1  3  5  7  9 11 13 15 17 19 21 23 25 27 29 31 33 35 37 39]\n"
     ]
    }
   ],
   "source": [
    "test1 = np.arange(0,40).reshape(2,20)\n",
    "print(test1)\n",
    "#39\n",
    "print(test1[-1][-1])\n",
    "#slicing the first five elements of each row\n",
    "print(test1[0][:5], test1[1][:5])\n",
    "#numbers between o and 5\n",
    "print(test1[test1 <= 5])\n",
    "#odd numbers\n",
    "print(test1[test1%2 != 0 ])"
   ]
  },
  {
   "cell_type": "markdown",
   "id": "b99eb5da",
   "metadata": {},
   "source": [
    "#### Task 2: Snails\n",
    "\n",
    "The snails data can be found in the dataLab folder. \n",
    "\n",
    "Groups of 20 snails were held for periods of 1, 2, 3 or 4 weeks in carefully controlled conditions of temperature\n",
    "and relative humidity. The two species of snails are labelled as 0 and 1. At the end of the exposure time the snails were tested to see if\n",
    "they had survived.\n",
    "\n",
    "Data format, 6 columns as follows: \n",
    "    * species (0 or 1)\n",
    "    * exposure (weeks)\n",
    "    * humidity\n",
    "    * temperature\n",
    "    * ndeaths\n",
    "    * nsnails (initial number at the start)\n",
    "    \n",
    "    \n",
    "    \n",
    "**What you need to do**: \n",
    "\n",
    "* Read the data. Use numpy!\n",
    "* Practice indexing and slicing: \n",
    "        * temperature of last entry\n",
    "        * humidity of the 5th entry\n",
    "        * get 2nd and 3rd column\n",
    "        * get the first 5 rows\n",
    "        \n",
    "* Compute the following: \n",
    "        * total number of deaths :(\n",
    "        * total number of snails that survived :)\n",
    "        * max temperature\n",
    "        * mean humidity\n",
    "        * average death rate \n",
    "* Split the snails in 2 arrays based on their species\n",
    "* Which group of snails has the highest average death rate? \n",
    "* What are the optimum living conditions (temperature and humidity) for snails? Use only snails kept for the full duration of the experiment. \n"
   ]
  },
  {
   "cell_type": "code",
   "execution_count": 91,
   "id": "b1f85e06",
   "metadata": {},
   "outputs": [
    {
     "name": "stdout",
     "output_type": "stream",
     "text": [
      "(96, 6)\n",
      "[[ 0.   1.  60.  10.   0.  20. ]\n",
      " [ 0.   1.  60.  15.   0.  20. ]\n",
      " [ 0.   1.  60.  20.   0.  20. ]\n",
      " [ 0.   1.  65.8 10.   0.  20. ]]\n"
     ]
    }
   ],
   "source": [
    "snails = np.loadtxt(\"../Data/snails.txt\")\n",
    "np.set_printoptions(suppress=True)\n",
    "print (snails.shape)\n",
    "print (snails[:4, :])"
   ]
  },
  {
   "cell_type": "code",
   "execution_count": 92,
   "id": "6fcb3225",
   "metadata": {},
   "outputs": [
    {
     "name": "stdout",
     "output_type": "stream",
     "text": [
      "last entry\n",
      "[ 1.   4.  75.8 20.   7.  20. ]\n"
     ]
    }
   ],
   "source": [
    "#last entry\n",
    "print(\"last entry\")\n",
    "print(snails[-1])"
   ]
  },
  {
   "cell_type": "code",
   "execution_count": 93,
   "id": "4c06948b",
   "metadata": {},
   "outputs": [
    {
     "name": "stdout",
     "output_type": "stream",
     "text": [
      "Temperature of last entry\n",
      "[20.]\n"
     ]
    }
   ],
   "source": [
    "#Temperature of last entry\n",
    "print(\"Temperature of last entry\")\n",
    "print(snails[-1][3:4])"
   ]
  },
  {
   "cell_type": "code",
   "execution_count": 94,
   "id": "42bd1399",
   "metadata": {},
   "outputs": [
    {
     "name": "stdout",
     "output_type": "stream",
     "text": [
      "Humidity of 5th entry\n",
      "[70.5]\n"
     ]
    }
   ],
   "source": [
    "#Humidity of 5th entry\n",
    "print(\"Humidity of 5th entry\")\n",
    "print(snails[-5][2:3])"
   ]
  },
  {
   "cell_type": "code",
   "execution_count": 95,
   "id": "1ec9d061",
   "metadata": {},
   "outputs": [
    {
     "name": "stdout",
     "output_type": "stream",
     "text": [
      "Second/third columns\n",
      "[[ 1.  60. ]\n",
      " [ 1.  60. ]\n",
      " [ 1.  60. ]\n",
      " [ 1.  65.8]\n",
      " [ 1.  65.8]\n",
      " [ 1.  65.8]\n",
      " [ 1.  70.5]\n",
      " [ 1.  70.5]\n",
      " [ 1.  70.5]\n",
      " [ 1.  75.8]\n",
      " [ 1.  75.8]\n",
      " [ 1.  75.8]\n",
      " [ 2.  60. ]\n",
      " [ 2.  60. ]\n",
      " [ 2.  60. ]\n",
      " [ 2.  65.8]\n",
      " [ 2.  65.8]\n",
      " [ 2.  65.8]\n",
      " [ 2.  70.5]\n",
      " [ 2.  70.5]\n",
      " [ 2.  70.5]\n",
      " [ 2.  75.8]\n",
      " [ 2.  75.8]\n",
      " [ 2.  75.8]\n",
      " [ 3.  60. ]\n",
      " [ 3.  60. ]\n",
      " [ 3.  60. ]\n",
      " [ 3.  65.8]\n",
      " [ 3.  65.8]\n",
      " [ 3.  65.8]\n",
      " [ 3.  70.5]\n",
      " [ 3.  70.5]\n",
      " [ 3.  70.5]\n",
      " [ 3.  75.8]\n",
      " [ 3.  75.8]\n",
      " [ 3.  75.8]\n",
      " [ 4.  60. ]\n",
      " [ 4.  60. ]\n",
      " [ 4.  60. ]\n",
      " [ 4.  65.8]\n",
      " [ 4.  65.8]\n",
      " [ 4.  65.8]\n",
      " [ 4.  70.5]\n",
      " [ 4.  70.5]\n",
      " [ 4.  70.5]\n",
      " [ 4.  75.8]\n",
      " [ 4.  75.8]\n",
      " [ 4.  75.8]\n",
      " [ 1.  60. ]\n",
      " [ 1.  60. ]\n",
      " [ 1.  60. ]\n",
      " [ 1.  65.8]\n",
      " [ 1.  65.8]\n",
      " [ 1.  65.8]\n",
      " [ 1.  70.5]\n",
      " [ 1.  70.5]\n",
      " [ 1.  70.5]\n",
      " [ 1.  75.8]\n",
      " [ 1.  75.8]\n",
      " [ 1.  75.8]\n",
      " [ 2.  60. ]\n",
      " [ 2.  60. ]\n",
      " [ 2.  60. ]\n",
      " [ 2.  65.8]\n",
      " [ 2.  65.8]\n",
      " [ 2.  65.8]\n",
      " [ 2.  70.5]\n",
      " [ 2.  70.5]\n",
      " [ 2.  70.5]\n",
      " [ 2.  75.8]\n",
      " [ 2.  75.8]\n",
      " [ 2.  75.8]\n",
      " [ 3.  60. ]\n",
      " [ 3.  60. ]\n",
      " [ 3.  60. ]\n",
      " [ 3.  65.8]\n",
      " [ 3.  65.8]\n",
      " [ 3.  65.8]\n",
      " [ 3.  70.5]\n",
      " [ 3.  70.5]\n",
      " [ 3.  70.5]\n",
      " [ 3.  75.8]\n",
      " [ 3.  75.8]\n",
      " [ 3.  75.8]\n",
      " [ 4.  60. ]\n",
      " [ 4.  60. ]\n",
      " [ 4.  60. ]\n",
      " [ 4.  65.8]\n",
      " [ 4.  65.8]\n",
      " [ 4.  65.8]\n",
      " [ 4.  70.5]\n",
      " [ 4.  70.5]\n",
      " [ 4.  70.5]\n",
      " [ 4.  75.8]\n",
      " [ 4.  75.8]\n",
      " [ 4.  75.8]]\n"
     ]
    }
   ],
   "source": [
    "#2nd and 3rd columns\n",
    "print(\"Second/third columns\")\n",
    "print(snails[:, 1:3])"
   ]
  },
  {
   "cell_type": "code",
   "execution_count": 90,
   "id": "9d15f16b",
   "metadata": {},
   "outputs": [
    {
     "name": "stdout",
     "output_type": "stream",
     "text": [
      "(96, 6)\n",
      "[[ 0.   1.  60.  10.   0.  20. ]\n",
      " [ 0.   1.  60.  15.   0.  20. ]\n",
      " [ 0.   1.  60.  20.   0.  20. ]\n",
      " [ 0.   1.  65.8 10.   0.  20. ]]\n",
      "last entry\n",
      "[ 1.   4.  75.8 20.   7.  20. ]\n",
      "Temperature of last entry\n",
      "[20.]\n",
      "Humidity of 5th entry\n",
      "[70.5]\n",
      "Second/third columns\n",
      "[[ 1.  60. ]\n",
      " [ 1.  60. ]\n",
      " [ 1.  60. ]\n",
      " [ 1.  65.8]\n",
      " [ 1.  65.8]\n",
      " [ 1.  65.8]\n",
      " [ 1.  70.5]\n",
      " [ 1.  70.5]\n",
      " [ 1.  70.5]\n",
      " [ 1.  75.8]\n",
      " [ 1.  75.8]\n",
      " [ 1.  75.8]\n",
      " [ 2.  60. ]\n",
      " [ 2.  60. ]\n",
      " [ 2.  60. ]\n",
      " [ 2.  65.8]\n",
      " [ 2.  65.8]\n",
      " [ 2.  65.8]\n",
      " [ 2.  70.5]\n",
      " [ 2.  70.5]\n",
      " [ 2.  70.5]\n",
      " [ 2.  75.8]\n",
      " [ 2.  75.8]\n",
      " [ 2.  75.8]\n",
      " [ 3.  60. ]\n",
      " [ 3.  60. ]\n",
      " [ 3.  60. ]\n",
      " [ 3.  65.8]\n",
      " [ 3.  65.8]\n",
      " [ 3.  65.8]\n",
      " [ 3.  70.5]\n",
      " [ 3.  70.5]\n",
      " [ 3.  70.5]\n",
      " [ 3.  75.8]\n",
      " [ 3.  75.8]\n",
      " [ 3.  75.8]\n",
      " [ 4.  60. ]\n",
      " [ 4.  60. ]\n",
      " [ 4.  60. ]\n",
      " [ 4.  65.8]\n",
      " [ 4.  65.8]\n",
      " [ 4.  65.8]\n",
      " [ 4.  70.5]\n",
      " [ 4.  70.5]\n",
      " [ 4.  70.5]\n",
      " [ 4.  75.8]\n",
      " [ 4.  75.8]\n",
      " [ 4.  75.8]\n",
      " [ 1.  60. ]\n",
      " [ 1.  60. ]\n",
      " [ 1.  60. ]\n",
      " [ 1.  65.8]\n",
      " [ 1.  65.8]\n",
      " [ 1.  65.8]\n",
      " [ 1.  70.5]\n",
      " [ 1.  70.5]\n",
      " [ 1.  70.5]\n",
      " [ 1.  75.8]\n",
      " [ 1.  75.8]\n",
      " [ 1.  75.8]\n",
      " [ 2.  60. ]\n",
      " [ 2.  60. ]\n",
      " [ 2.  60. ]\n",
      " [ 2.  65.8]\n",
      " [ 2.  65.8]\n",
      " [ 2.  65.8]\n",
      " [ 2.  70.5]\n",
      " [ 2.  70.5]\n",
      " [ 2.  70.5]\n",
      " [ 2.  75.8]\n",
      " [ 2.  75.8]\n",
      " [ 2.  75.8]\n",
      " [ 3.  60. ]\n",
      " [ 3.  60. ]\n",
      " [ 3.  60. ]\n",
      " [ 3.  65.8]\n",
      " [ 3.  65.8]\n",
      " [ 3.  65.8]\n",
      " [ 3.  70.5]\n",
      " [ 3.  70.5]\n",
      " [ 3.  70.5]\n",
      " [ 3.  75.8]\n",
      " [ 3.  75.8]\n",
      " [ 3.  75.8]\n",
      " [ 4.  60. ]\n",
      " [ 4.  60. ]\n",
      " [ 4.  60. ]\n",
      " [ 4.  65.8]\n",
      " [ 4.  65.8]\n",
      " [ 4.  65.8]\n",
      " [ 4.  70.5]\n",
      " [ 4.  70.5]\n",
      " [ 4.  70.5]\n",
      " [ 4.  75.8]\n",
      " [ 4.  75.8]\n",
      " [ 4.  75.8]]\n",
      "First 5 rows\n",
      "[[ 0.   1.  60.  10.   0.  20. ]\n",
      " [ 0.   1.  60.  15.   0.  20. ]\n",
      " [ 0.   1.  60.  20.   0.  20. ]\n",
      " [ 0.   1.  65.8 10.   0.  20. ]\n",
      " [ 0.   1.  65.8 15.   0.  20. ]]\n"
     ]
    }
   ],
   "source": [
    "#first 5 rows\n",
    "print(\"First 5 rows\")\n",
    "print(snails[:5])"
   ]
  },
  {
   "cell_type": "code",
   "execution_count": 105,
   "id": "e010ac0e",
   "metadata": {},
   "outputs": [
    {
     "name": "stdout",
     "output_type": "stream",
     "text": [
      "Total number of deaths\n",
      "275.0\n"
     ]
    }
   ],
   "source": [
    "print(\"Total number of deaths\")\n",
    "deaths = snails[:, 4:5]\n",
    "print(deaths.sum())"
   ]
  },
  {
   "cell_type": "code",
   "execution_count": 108,
   "id": "90600a43",
   "metadata": {},
   "outputs": [
    {
     "name": "stdout",
     "output_type": "stream",
     "text": [
      "Total number of snails that survived\n",
      "1645.0\n"
     ]
    }
   ],
   "source": [
    "print(\"Total number of snails that survived\")\n",
    "deaths = snails[:, 4:5]\n",
    "all_snails = snails[:, 5:]\n",
    "print(all_snails.sum() - deaths.sum())"
   ]
  },
  {
   "cell_type": "code",
   "execution_count": 110,
   "id": "60cba9b8",
   "metadata": {},
   "outputs": [
    {
     "name": "stdout",
     "output_type": "stream",
     "text": [
      "max temperature\n",
      "20.0\n"
     ]
    }
   ],
   "source": [
    "print(\"max temperature\")\n",
    "print(snails[:, 3:4].max())"
   ]
  },
  {
   "cell_type": "code",
   "execution_count": 111,
   "id": "d2b33d22",
   "metadata": {},
   "outputs": [
    {
     "name": "stdout",
     "output_type": "stream",
     "text": [
      "Min Humidity\n",
      "60.0\n"
     ]
    }
   ],
   "source": [
    "print(\"Min Humidity\")\n",
    "print(snails[:, 2:3].min())"
   ]
  },
  {
   "cell_type": "code",
   "execution_count": 112,
   "id": "fa3b0eac",
   "metadata": {},
   "outputs": [
    {
     "name": "stdout",
     "output_type": "stream",
     "text": [
      "Average death rate\n",
      "2.8645833333333335\n"
     ]
    }
   ],
   "source": [
    "print(\"Average death rate\")\n",
    "print(snails[:, 4:5].mean())"
   ]
  }
 ],
 "metadata": {
  "kernelspec": {
   "display_name": "Python 3",
   "language": "python",
   "name": "python3"
  },
  "language_info": {
   "codemirror_mode": {
    "name": "ipython",
    "version": 3
   },
   "file_extension": ".py",
   "mimetype": "text/x-python",
   "name": "python",
   "nbconvert_exporter": "python",
   "pygments_lexer": "ipython3",
   "version": "3.8.8"
  }
 },
 "nbformat": 4,
 "nbformat_minor": 5
}
