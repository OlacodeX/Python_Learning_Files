{
 "cells": [
  {
   "cell_type": "markdown",
   "id": "threatened-testimony",
   "metadata": {},
   "source": [
    "# Day 4: Advanced data structures\n",
    "\n",
    "In today's tutorial, we'll cover:\n",
    "- Stacks\n",
    "- Queues\n",
    "- Binary search trees\n",
    "\n",
    "A set of exercises that will allow you to test your learning of this tutorial will also be made available.  "
   ]
  },
  {
   "cell_type": "markdown",
   "id": "chicken-observation",
   "metadata": {},
   "source": [
    "## Introduction\n",
    "\n",
    "Python provides us with a set of built-in data types, and collection structures like lists and dictionaries. However, sometimes we want to structure our data in different, specific ways, so that we can write algorithms with known properties. For example, we might want to create a structure that maintains the order of its elements, so that we can find an element within a known time complexity.\n",
    "\n",
    "In this tutorial, we're going to introduce three data structures: stacks, queues, and binary search trees. We're going to define these data structures ourselves, using classes. While the classes that we create won't be particularly complicated, make sure that you've understood the object-oriented section of Day 2's tutorial before continuing.\n",
    "\n",
    "## Stacks\n",
    "\n",
    "A stack is a data structure where we have two operations for adding and removing data. We can _push_ new items on to the top of the stack, and _pop_ items off of the top of the stack. We can think of this as a pile of books or papers on your desk, but where you can only take the top book from the pile, or add a new book on top. We can illustrate stacks like this:\n",
    "\n",
    "![A stack](images/stack.png \"A stack\")\n",
    "\n",
    "By only having these two operations - push and pop - stacks are _LIFO_ data structures. This stands for **l**ast-**i**n **f**irst-**o**ut: when we pop, we remove the last item that we added to the stack.\n",
    "\n",
    "In Python, we can represent the stack using a list, where we add and remove data from the end of the list. In fact, Python lists have a `pop` method that will remove the last item from the list. However, Python lists have more operations than we want to allow for our stack, so we'll wrap our list inside our own `Stack` class:"
   ]
  },
  {
   "cell_type": "code",
   "execution_count": 25,
   "id": "interracial-survivor",
   "metadata": {},
   "outputs": [],
   "source": [
    "class Stack:\n",
    "    \n",
    "    def __init__(self):\n",
    "        self._data = []\n",
    "    \n",
    "    def push(self, item):\n",
    "        self._data.append(item)\n",
    "    \n",
    "    def pop(self):\n",
    "        return self._data.pop()"
   ]
  },
  {
   "cell_type": "markdown",
   "id": "changed-potential",
   "metadata": {},
   "source": [
    "Our `Stack` class is quite straightforward. When we instantiate the class, we create a protected member (`_data`) that points to an empty list. We then define our two methods: `push`, which appends a given item to the end of the list, and `pop` which removes, and returns, the last item of the list. \n",
    "\n",
    "We can test out our new `Stack` like this:"
   ]
  },
  {
   "cell_type": "code",
   "execution_count": 31,
   "id": "micro-extension",
   "metadata": {},
   "outputs": [
    {
     "name": "stdout",
     "output_type": "stream",
     "text": [
      "The Hundred-Year-Old Man Who Climbed Out the Window and Disappeared\n",
      "Before the Coffee Gets Cold\n",
      "The Glass Hotel\n"
     ]
    }
   ],
   "source": [
    "my_books = Stack()\n",
    "my_books.push(\"The Glass Hotel\")\n",
    "my_books.push(\"Before the Coffee Gets Cold\")\n",
    "my_books.push(\"The Hundred-Year-Old Man Who Climbed Out the Window and Disappeared\")\n",
    "print(my_books.pop())\n",
    "print(my_books.pop())\n",
    "print(my_books.pop())"
   ]
  },
  {
   "cell_type": "markdown",
   "id": "departmental-metropolitan",
   "metadata": {},
   "source": [
    "In this example, we instantiate our stack, and assign it to the `my_books` variable. Then, we push three book titles onto the stack, before popping the stack three times. As we can see from the output, the books are popped in reverse order to how they were pushed: the first book back out of the stack is the last one that we pushed."
   ]
  },
  {
   "cell_type": "markdown",
   "id": "desirable-absence",
   "metadata": {},
   "source": [
    "## Queues\n",
    "\n",
    "Related to a stack, a queue is also a data structure with two operations that allow us to add and remove data from it. We can _enqueue_ data to the back of the queue, and _dequeue_ data from the front of the queue. We can think of this structure in the same way as a queue at the bank or cafeteria: people join the back of the queue, and the next person to get served is at the front of the queue. We can illustrate queues like this:\n",
    "\n",
    "![A queue](images/queue.png \"A queue\")\n",
    "\n",
    "Queues are a _FIFO_ data structure. This stands for **f**irst-**i**n **f**irst-**o**ut: when we dequeue, we are removing the item that we added first.\n",
    "\n",
    "Similar to our stack implementation, we can represent a queue with a list. Again, we'll wrap this inside our own `Queue` class, so that we only provide the methods that we want:"
   ]
  },
  {
   "cell_type": "code",
   "execution_count": 33,
   "id": "black-compiler",
   "metadata": {},
   "outputs": [],
   "source": [
    "class Queue:\n",
    "    \n",
    "    def __init__(self):\n",
    "        self._data = []\n",
    "    \n",
    "    def enqueue(self, item):\n",
    "        self._data = [item] + self._data\n",
    "    \n",
    "    def dequeue(self):\n",
    "        return self._data.pop()    "
   ]
  },
  {
   "cell_type": "markdown",
   "id": "electrical-istanbul",
   "metadata": {},
   "source": [
    "When we instantiate our `Queue` class, we create a protected member (`_data`) that points to an empty list. We then define our two methods: `enqueue`, which adds data to the start of the list, and `dequeue`, which removes data from the end of the list.\n",
    "\n",
    "We can test out our new `Queue` like this:"
   ]
  },
  {
   "cell_type": "code",
   "execution_count": 34,
   "id": "consistent-looking",
   "metadata": {},
   "outputs": [
    {
     "name": "stdout",
     "output_type": "stream",
     "text": [
      "Fionnuala\n",
      "Sofiat\n",
      "Kenechi\n"
     ]
    }
   ],
   "source": [
    "cafeteria_queue = Queue()\n",
    "cafeteria_queue.enqueue(\"Fionnuala\")\n",
    "cafeteria_queue.enqueue(\"Sofiat\")\n",
    "cafeteria_queue.enqueue(\"Kenechi\")\n",
    "print(cafeteria_queue.dequeue())\n",
    "print(cafeteria_queue.dequeue())\n",
    "print(cafeteria_queue.dequeue())"
   ]
  },
  {
   "cell_type": "markdown",
   "id": "adequate-democracy",
   "metadata": {},
   "source": [
    "In this example, we instantiate our queue, and assign it to the `cafeteria_queue` variable. Then, we enqueue three people, before dequeuing three times. As the output shows, people are removed from the queue in the order that the entered it: `Fionnuala` was enqueued first, and is the first to be dequeued."
   ]
  },
  {
   "cell_type": "markdown",
   "id": "appropriate-plant",
   "metadata": {},
   "source": [
    "## Binary Search Trees\n",
    "\n",
    "The final data structure that we'll introduce is a _binary search tree_. This is a type of tree data structure. In computing, trees are data structures that are hierarchical, as opposed to the linear data structures (like lists, stacks, and queues). We are familiar with lots of hierarchical structures in every day life: the organisation of a company, for example, is often hierarchical: with the boss at the top, managers below them, and workers below the managers. As another example, we can think of family trees: each person is shown, with a connection to the people directly related to them.\n",
    "\n",
    "We can think of trees in more abstract terms. Trees contain _nodes_ that hold data. Nodes are connected to each other: a node has _child_ nodes (and in turn, a _parent_ node). Trees have roots: that is, a node that is a parent node, but that itself doesn't have a parent. Finally, we also have _leaf_ nodes: these are nodes at the bottom of the tree that don't have any child nodes.\n",
    "\n",
    "In this tutorial, we're going to look at a particular type of tree data structure: a _binary search tree_. Nodes have at most two child nodes (which, of course, might themselves have child nodes), which are labelled _left_ and _right_. Importantly, the value held by a node is greater than all of the values held in any of the nodes on in the branch to the _left_ and less than any of the values held in the _right_.\n",
    "\n",
    "We can illustrate binary search trees like this:\n",
    "\n",
    "![A binary search tree](images/bst.png \"A binary search tree\")\n",
    "\n",
    "In this example, the root node contains the value `8`, and it has a left node containing `3` and a right node containing `15`. We can see that the left and right branches contain other nodes with different values, but that the order of the binary search tree is maintained: all the child nodes to the left have values less than the node, and all the child nodes to the right have values greater than the node.\n",
    "\n",
    "We can illustrate this further by thinking about what happens when we want to insert a new value into the tree. Let's try adding `16` to our example binary search tree:\n",
    "\n",
    "![Inserting into a binary search tree (1)](images/bst_insert1.png \"Inserting into a binary search tree (1)\")\n",
    "\n",
    "We first compare `16` to the root node. Since `16` is greater than `8`, it means that this new value will go into the right branch. So, to continue the insertion, we need to look at the value of the node on the right:\n",
    "\n",
    "![Inserting into a binary search tree (2)](images/bst_insert2.png \"Inserting into a binary search tree (2)\")\n",
    "\n",
    "That means that we compare `16` with `15`. Again, `16` is greater than `15`, so the value is to be inserted on the right branch. Again, continuing with the insertion, we follow the right branch:\n",
    "\n",
    "![Inserting into a binary search tree (3)](images/bst_insert3.png \"Inserting into a binary search tree (3)\")\n",
    "\n",
    "Here, we compare `16` with `17`. Now, since `16` is less than `17`, we know that the new value must go to the left of this node. Since the `17` node does not have a left child, the new value becomes the left child of that node:\n",
    "\n",
    "![Inserting into a binary search tree (4)](images/bst_insert4.png \"Inserting into a binary search tree (4)\")\n",
    "\n",
    "This completes the insertion of the new value. We can see that by following this algorithm, we've maintained the order of the binary search tree.\n",
    "\n",
    "Since binary search trees maintain an ordering of the nodes, we can see that we could perform certain algorithms within a known time. For example, if we wanted to find out if a value is inside a node, we could write an algorithm to do that, where we could reason about how many nodes, on average, we'd have to look at. Say we wanted to find out if the number `5` was in our example tree: we'd compare values, starting with the root node, and working our way towards the leaf nodes. Because of the strict ordering guarantee, we essentially ignore half of the tree: as soon as we compare `5` with `8` (the root node), we know that we only need to consider the left branch of the tree.\n",
    "\n",
    "While we'll explore some more advanced algorithms for binary search trees in the exercises, we can define our own `BinarySearchTree` type:"
   ]
  },
  {
   "cell_type": "code",
   "execution_count": 1,
   "id": "designed-variance",
   "metadata": {},
   "outputs": [],
   "source": [
    "class BinarySearchTree:\n",
    "    \n",
    "    def __init__(self, data):\n",
    "        self.data = data\n",
    "        self.left = None\n",
    "        self.right = None\n",
    "        \n",
    "    def insert(self, data):\n",
    "        if data < self.data:\n",
    "            if self.left is None:\n",
    "                self.left = BinarySearchTree(data)\n",
    "            else:\n",
    "                self.left.insert(data)\n",
    "        else:\n",
    "            if self.right is None:\n",
    "                self.right = BinarySearchTree(data)\n",
    "            else:\n",
    "                self.right.insert(data)\n",
    "\n",
    "    def pretty_print(self):\n",
    "        if self.left is not None:\n",
    "            self.left.pretty_print()\n",
    "        print(self.data, end=\" \")\n",
    "        if self.right is not None:\n",
    "            self.right.pretty_print()"
   ]
  },
  {
   "cell_type": "markdown",
   "id": "expressed-blink",
   "metadata": {},
   "source": [
    "The key to understanding this implementation is knowing that the left and right branches of a given node are themselves binary search trees, with the ordering property as described.\n",
    "\n",
    "When we initialise a `BinarySearchTree` we set the value to that specified, and set the `left` and `right` branches to `None`, since they don't yet exist. The `insert` method follows the insertion method described above: we compare the node's value, and follow the `left` and `right` branches as needed. When we find where the new value is to be inserted, we instantiate a new `BinarySearchTree`, and set it as the relevant `left` or `right` node.\n",
    "\n",
    "The `pretty_print` prints the values held in the binary search tree, in order. It first prints out the values of any nodes to the left, then the value of the node itself, and finally, the value of any nodes to the right. Again, because the `left` and `right` branches are binary search trees themselves, we can keep our code simple."
   ]
  },
  {
   "cell_type": "markdown",
   "id": "moral-combination",
   "metadata": {},
   "source": [
    "## Summary\n",
    "\n",
    "In this tutorial, we've learned about three new data structures:\n",
    "- stacks;\n",
    "- queues; and\n",
    "- binary search trees.\n",
    "\n",
    "We've also seen how to implement these new structures in Python."
   ]
  }
 ],
 "metadata": {
  "kernelspec": {
   "display_name": "Python 3",
   "language": "python",
   "name": "python3"
  },
  "language_info": {
   "codemirror_mode": {
    "name": "ipython",
    "version": 3
   },
   "file_extension": ".py",
   "mimetype": "text/x-python",
   "name": "python",
   "nbconvert_exporter": "python",
   "pygments_lexer": "ipython3",
   "version": "3.8.8"
  }
 },
 "nbformat": 4,
 "nbformat_minor": 5
}
