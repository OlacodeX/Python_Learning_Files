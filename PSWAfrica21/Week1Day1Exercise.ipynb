{
 "cells": [
  {
   "cell_type": "markdown",
   "id": "74fc3116",
   "metadata": {},
   "source": [
    "# Wk1 Trk1, Day 1: 30/08/21\n",
    "<br>\n",
    "\n",
    "# Exercises: Introduction to Python programming, variables, and expressions\n",
    "---\n",
    "<br>\n",
    "\n",
    "##### Programming Workshop for Scientists in Africa <www.pwsafrica.org>. \n",
    "##### Supported by the School of Computing Science, University of Glasgow.\n",
    "##### Funded by the Global Challenges Research Fund and Scottish Funding Council.\n",
    "<br>\n",
    "\n",
    "##### PWSA2021. Python 3.x\n",
    "---"
   ]
  },
  {
   "cell_type": "markdown",
   "id": "4310d2cc",
   "metadata": {},
   "source": [
    "<div class=\"alert alert-danger\"> <b>IMPORTANT:</b> You do not have permission to save any file under the examples/pwsa2021 directory. Before you begin solving the exercises, first save this notebook in your home directory! </div>\n",
    "\n",
    "How do I save a notebook in my home directory?\n",
    "* First open the notebook you want to copy \n",
    "* Go to **File** in the menu bar\n",
    "* Click on **Save Notebook As**\n",
    "* The current path is: **examples/pwsa2021/Week1Track1/Exercises/\\<name of notebook\\>.ipynb**\n",
    "\n",
    "        where <name of notebook> can be Day1 Exercises ....\n",
    "    \n",
    "* Rename the path to **\\<name of notebook\\>.ipynb**\n",
    "* If you go back to your home directory, i.e., outside \"examples/pwsa2021\", you will see the notebook you copied over. This is where you type your solution and save as you go along.\n",
    "\n",
    "---"
   ]
  },
  {
   "cell_type": "markdown",
   "id": "9327d51d",
   "metadata": {
    "slideshow": {
     "slide_type": "slide"
    }
   },
   "source": [
    "In today's exercises, we'll practice the material that was covered in this morning's lecture.\n",
    "\n",
    "Some problems at the end of the exercise notebook are marked as _optional_. Your progress on those problems won't be assessed: these problems have been provided as an additional challenge for people that have found the earlier problems straightforward."
   ]
  },
  {
   "cell_type": "markdown",
   "id": "7a9644ee",
   "metadata": {},
   "source": [
    "## 1. Hello, world\n",
    "\n",
    "Write code that prints the message \"Hello, world\" to the screen."
   ]
  },
  {
   "cell_type": "code",
   "execution_count": null,
   "id": "5082beff",
   "metadata": {},
   "outputs": [],
   "source": [
    "# write your solution here"
   ]
  },
  {
   "cell_type": "markdown",
   "id": "eb602b2c",
   "metadata": {},
   "source": [
    "## 2. Error message\n",
    "\n",
    "Why does the following code create an error?"
   ]
  },
  {
   "cell_type": "code",
   "execution_count": 1,
   "id": "c7a1cefc",
   "metadata": {},
   "outputs": [
    {
     "ename": "SyntaxError",
     "evalue": "EOL while scanning string literal (<ipython-input-1-54e5edd55239>, line 1)",
     "output_type": "error",
     "traceback": [
      "\u001b[0;36m  File \u001b[0;32m\"<ipython-input-1-54e5edd55239>\"\u001b[0;36m, line \u001b[0;32m1\u001b[0m\n\u001b[0;31m    print('bad code, or good code?\")\u001b[0m\n\u001b[0m                                    ^\u001b[0m\n\u001b[0;31mSyntaxError\u001b[0m\u001b[0;31m:\u001b[0m EOL while scanning string literal\n"
     ]
    }
   ],
   "source": [
    "print('bad code, or good code?\")"
   ]
  },
  {
   "cell_type": "code",
   "execution_count": null,
   "id": "52048b86",
   "metadata": {},
   "outputs": [],
   "source": [
    "# write your solution here"
   ]
  },
  {
   "cell_type": "markdown",
   "id": "ed1c0eab",
   "metadata": {},
   "source": [
    "## 3. Welcome\n",
    "\n",
    "Print this statement to the screen, including the quotation marks:\n",
    "\n",
    "``` The PWSA team says \"Welcome to the workshop!\" ```"
   ]
  },
  {
   "cell_type": "code",
   "execution_count": null,
   "id": "c62da585",
   "metadata": {},
   "outputs": [],
   "source": [
    "# write your solution here"
   ]
  },
  {
   "cell_type": "markdown",
   "id": "7be756ff",
   "metadata": {},
   "source": [
    "## 4. Vital stats\n",
    "\n",
    "Given these details, print out a summary:\n",
    "\n",
    "```\n",
    "age: 29\n",
    "name: Bob\n",
    "height: 1.85m\n",
    "hair: black\n",
    "eyes: brown\n",
    "```\n",
    "\n",
    "For example, you could print the message: \n",
    "**\"Bob is 29 years old, with black hair and brown eyes. Bob is 1.85m tall.\"**\n"
   ]
  },
  {
   "cell_type": "code",
   "execution_count": null,
   "id": "52c7e817",
   "metadata": {},
   "outputs": [],
   "source": [
    "# write your solution here"
   ]
  },
  {
   "cell_type": "markdown",
   "id": "044283fc",
   "metadata": {},
   "source": [
    "## 5. Types\n",
    "\n",
    "Print out the types of the following values and expressions:\n",
    "\n",
    "```\n",
    "5\n",
    "5.0\n",
    "True\n",
    "\"hello\"\n",
    "'h'\n",
    "'hello'\n",
    "print\n",
    "len\n",
    "7 + 9\n",
    "\"six\" + \"seven\"\n",
    "None\n",
    "```\n",
    "\n",
    "For example, for the last item, you'd write `print(\"None\", type(None))`.\n",
    "\n",
    "Did anything surprise you about this? If so, why? Share this with your group."
   ]
  },
  {
   "cell_type": "code",
   "execution_count": null,
   "id": "a23a0521",
   "metadata": {},
   "outputs": [],
   "source": [
    "# write your solution here"
   ]
  },
  {
   "cell_type": "markdown",
   "id": "30f4cf36",
   "metadata": {},
   "source": [
    "## 6. Hungry for pizza\n",
    "\n",
    "15 people are attending a pizza party. Each person requires 3 slices of pizza. For every diameter inch of pizza, there are 0.75 slices. If two pizzas arrive, one 16 inches in diameter, and the other 24 inches in diameter, how many people will not have had enough pizza? How many more 16 inch pizzas are required?\n",
    "\n"
   ]
  },
  {
   "cell_type": "code",
   "execution_count": null,
   "id": "95d841b6",
   "metadata": {},
   "outputs": [],
   "source": [
    "# write your solution here"
   ]
  },
  {
   "cell_type": "markdown",
   "id": "cddb8134",
   "metadata": {},
   "source": [
    "## 7. Area of a field\n",
    "\n",
    "If a field, in feet, is 96,700 feet in width, by 101,399 feet in length, display the area of the field in acres.\n",
    "\n",
    "_Hint: 1 acre is 43,560 square feet._"
   ]
  },
  {
   "cell_type": "code",
   "execution_count": null,
   "id": "cb77f195",
   "metadata": {},
   "outputs": [],
   "source": [
    "# write your solution here"
   ]
  },
  {
   "cell_type": "markdown",
   "id": "94da1052",
   "metadata": {},
   "source": [
    "## 8. Arithmetic\n",
    "\n",
    "Create a program that has two numbers `x` and `y`. Display the results of the following:\n",
    "- The sum of the two numbers;\n",
    "- The difference between the second and first numbers;\n",
    "- The product of the two numbers;\n",
    "- The quotient, when the first number is divided by the second;\n",
    "- The remainder, when the first number is divided by the second;\n",
    "- The first number to the power of the second."
   ]
  },
  {
   "cell_type": "code",
   "execution_count": null,
   "id": "e4e2cbf2",
   "metadata": {},
   "outputs": [],
   "source": [
    "# write your solution here"
   ]
  },
  {
   "cell_type": "markdown",
   "id": "6c9583b2",
   "metadata": {},
   "source": [
    "## Optional: 9. Widgets and gizmos\n",
    "\n",
    "An online retailer sells two products: widgets and gizmos. Each widget weighs 75 grams, while each gizmo weighs 112 grams. \n",
    "\n",
    "Write a program that displays the total weight of an order, in kilograms, given two variables containing the number of widgets and gizmos."
   ]
  },
  {
   "cell_type": "code",
   "execution_count": null,
   "id": "999b58e8",
   "metadata": {},
   "outputs": [],
   "source": [
    "# write your solution here"
   ]
  },
  {
   "cell_type": "markdown",
   "id": "bc85cd3c",
   "metadata": {},
   "source": [
    "## Optional: 10. Time\n",
    "\n",
    "Given:\n",
    "\n",
    "```\n",
    "days: 17\n",
    "hours: 23\n",
    "minutes: 17\n",
    "seconds: 45\n",
    "```\n",
    "\n",
    "Display the total number of seconds in the above duration."
   ]
  },
  {
   "cell_type": "code",
   "execution_count": null,
   "id": "6111554a",
   "metadata": {},
   "outputs": [],
   "source": [
    "# write your solution here"
   ]
  }
 ],
 "metadata": {
  "kernelspec": {
   "display_name": "Default",
   "language": "python",
   "name": "python3"
  },
  "language_info": {
   "codemirror_mode": {
    "name": "ipython",
    "version": 3
   },
   "file_extension": ".py",
   "mimetype": "text/x-python",
   "name": "python",
   "nbconvert_exporter": "python",
   "pygments_lexer": "ipython3",
   "version": "3.8.6"
  },
  "latex_envs": {
   "LaTeX_envs_menu_present": true,
   "autoclose": false,
   "autocomplete": true,
   "bibliofile": "biblio.bib",
   "cite_by": "apalike",
   "current_citInitial": 1,
   "eqLabelWithNumbers": true,
   "eqNumInitial": 1,
   "hotkeys": {
    "equation": "Ctrl-E",
    "itemize": "Ctrl-I"
   },
   "labels_anchors": false,
   "latex_user_defs": false,
   "report_style_numbering": false,
   "user_envs_cfg": false
  },
  "toc": {
   "base_numbering": 1,
   "nav_menu": {},
   "number_sections": true,
   "sideBar": true,
   "skip_h1_title": true,
   "title_cell": "Table of Contents",
   "title_sidebar": "Contents",
   "toc_cell": false,
   "toc_position": {},
   "toc_section_display": true,
   "toc_window_display": false
  }
 },
 "nbformat": 4,
 "nbformat_minor": 5
}
