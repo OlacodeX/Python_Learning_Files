{
 "cells": [
  {
   "cell_type": "code",
   "execution_count": 1,
   "id": "37a7cc62",
   "metadata": {},
   "outputs": [],
   "source": [
    "#They are just like lists but are immutable i.e they can't be edited\n",
    "#objects can't be deleted, updated etc once declared.\n",
    "#Instead of [] for list, () is used"
   ]
  },
  {
   "cell_type": "code",
   "execution_count": 2,
   "id": "61dbf1ca",
   "metadata": {},
   "outputs": [
    {
     "data": {
      "text/plain": [
       "(40, 31, 42)"
      ]
     },
     "execution_count": 2,
     "metadata": {},
     "output_type": "execute_result"
    }
   ],
   "source": [
    "Turple_X = (40, 31, 42)\n",
    "Turple_X"
   ]
  },
  {
   "cell_type": "code",
   "execution_count": 3,
   "id": "e233698a",
   "metadata": {},
   "outputs": [],
   "source": [
    "#Turples are the default use of sequence in python.\n",
    "#For example, if a set of objects is declared without using (),[],{}\n",
    "#It will automatically be packed into a turple\n",
    "y = 50, 40, 30"
   ]
  },
  {
   "cell_type": "code",
   "execution_count": 4,
   "id": "3def19dc",
   "metadata": {},
   "outputs": [
    {
     "data": {
      "text/plain": [
       "(50, 40, 30)"
      ]
     },
     "execution_count": 4,
     "metadata": {},
     "output_type": "execute_result"
    }
   ],
   "source": [
    "y"
   ]
  },
  {
   "cell_type": "code",
   "execution_count": 5,
   "id": "30fdbf89",
   "metadata": {},
   "outputs": [
    {
     "data": {
      "text/plain": [
       "2"
      ]
     },
     "execution_count": 5,
     "metadata": {},
     "output_type": "execute_result"
    }
   ],
   "source": [
    "#We can use this method to define multiple variables at once - turple assignment\n",
    "a, b, c = 2, 6, 8\n",
    "a"
   ]
  },
  {
   "cell_type": "code",
   "execution_count": 6,
   "id": "ea70060a",
   "metadata": {},
   "outputs": [
    {
     "data": {
      "text/plain": [
       "6"
      ]
     },
     "execution_count": 6,
     "metadata": {},
     "output_type": "execute_result"
    }
   ],
   "source": [
    "b"
   ]
  },
  {
   "cell_type": "code",
   "execution_count": 7,
   "id": "128411be",
   "metadata": {},
   "outputs": [
    {
     "data": {
      "text/plain": [
       "50"
      ]
     },
     "execution_count": 7,
     "metadata": {},
     "output_type": "execute_result"
    }
   ],
   "source": [
    "#Indexing\n",
    "y[0]"
   ]
  },
  {
   "cell_type": "code",
   "execution_count": 8,
   "id": "501d47e8",
   "metadata": {},
   "outputs": [],
   "source": [
    "#List of turples\n",
    "List_1 = [Turple_X, y]"
   ]
  },
  {
   "cell_type": "code",
   "execution_count": 9,
   "id": "9d27388c",
   "metadata": {},
   "outputs": [
    {
     "data": {
      "text/plain": [
       "[(40, 31, 42), (50, 40, 30)]"
      ]
     },
     "execution_count": 9,
     "metadata": {},
     "output_type": "execute_result"
    }
   ],
   "source": [
    "List_1"
   ]
  },
  {
   "cell_type": "code",
   "execution_count": 11,
   "id": "b8caf761",
   "metadata": {},
   "outputs": [
    {
     "name": "stdout",
     "output_type": "stream",
     "text": [
      "30\n",
      "17\n"
     ]
    }
   ],
   "source": [
    "#Applications - say we have a dataset of pair values such as:\n",
    "(age, years_of_school) = \"30,17\".split(',')\n",
    "#The .split() method is saying, assign each value to each variable separated by a ,\n",
    "print(age)\n",
    "print(years_of_school)"
   ]
  },
  {
   "cell_type": "code",
   "execution_count": 13,
   "id": "7d044152",
   "metadata": {},
   "outputs": [
    {
     "name": "stdout",
     "output_type": "stream",
     "text": [
      "Area and Perimeter:\n"
     ]
    },
    {
     "data": {
      "text/plain": [
       "(9, 12)"
      ]
     },
     "execution_count": 13,
     "metadata": {},
     "output_type": "execute_result"
    }
   ],
   "source": [
    "#Turples with functions\n",
    "def square_info(x):\n",
    "    A = x ** 2\n",
    "    P = 4 * x\n",
    "    print (\"Area and Perimeter:\")\n",
    "    #Return them as a turple below\n",
    "    return A,P\n",
    "square_info(3)"
   ]
  }
 ],
 "metadata": {
  "kernelspec": {
   "display_name": "Python 3",
   "language": "python",
   "name": "python3"
  },
  "language_info": {
   "codemirror_mode": {
    "name": "ipython",
    "version": 3
   },
   "file_extension": ".py",
   "mimetype": "text/x-python",
   "name": "python",
   "nbconvert_exporter": "python",
   "pygments_lexer": "ipython3",
   "version": "3.8.8"
  }
 },
 "nbformat": 4,
 "nbformat_minor": 5
}
