{
 "cells": [
  {
   "cell_type": "code",
   "execution_count": 4,
   "id": "efaf7a56",
   "metadata": {},
   "outputs": [
    {
     "name": "stdout",
     "output_type": "stream",
     "text": [
      "0 2 4 6 8 10 12 14 16 18 20 "
     ]
    }
   ],
   "source": [
    "#For loops\n",
    "even = [0,2,4,6,8,10,12,14,16,18,20]\n",
    "#write a for loop to print out this list\n",
    "for n in even: #i.e for every element n in the list. n can be any letter\n",
    "    #print (n) #Print out the element. \n",
    "#If I want the output to be printed on a straight line with signle space\n",
    "#between them, I can achieve that through\n",
    "    print (n, end = \" \") \n",
    "    #the end = \" \" means at the end of each\n",
    "    #iteration, add a single space"
   ]
  },
  {
   "cell_type": "code",
   "execution_count": 7,
   "id": "a57760aa",
   "metadata": {},
   "outputs": [
    {
     "name": "stdout",
     "output_type": "stream",
     "text": [
      "0 2 4 6 8 10 12 14 16 18 20 "
     ]
    }
   ],
   "source": [
    "#While loops\n",
    "x = 0\n",
    "while x <= 20:\n",
    "    print (x, end = \" \")\n",
    "    #to prevent an infinite loop, this line must be added to while loops\n",
    "    x += 2 #increment x by 2"
   ]
  },
  {
   "cell_type": "code",
   "execution_count": 8,
   "id": "b6d97249",
   "metadata": {},
   "outputs": [
    {
     "name": "stdout",
     "output_type": "stream",
     "text": [
      "1 2 4 8 16 32 64 128 256 512 "
     ]
    }
   ],
   "source": [
    "#loops with range() function\n",
    "for n in range(10):\n",
    "    print (2 ** n, end = \" \")"
   ]
  },
  {
   "cell_type": "code",
   "execution_count": 9,
   "id": "e408d191",
   "metadata": {},
   "outputs": [
    {
     "name": "stdout",
     "output_type": "stream",
     "text": [
      "0 Odd 2 Odd 4 Odd 6 Odd 8 Odd 10 Odd 12 Odd 14 Odd 16 Odd 18 Odd "
     ]
    }
   ],
   "source": [
    "#Conditional statements\n",
    "for x in range(20):\n",
    "    # If x/2 leaves a remainder of 0(even number),\n",
    "    if x % 2 == 0:\n",
    "        #print x\n",
    "        print (x, end = \" \")\n",
    "    else:\n",
    "        #print Odd\n",
    "        print (\"Odd\", end = \" \")"
   ]
  },
  {
   "cell_type": "code",
   "execution_count": 10,
   "id": "637a3f91",
   "metadata": {},
   "outputs": [
    {
     "name": "stdout",
     "output_type": "stream",
     "text": [
      "0 1 2 "
     ]
    }
   ],
   "source": [
    "#Another way to use loops\n",
    "x = [0,1,2]\n",
    "#I can loop through the list above by creating a range of elements/values\n",
    "#that access them through their index\n",
    "\n",
    "#Below I am saying for every item in the range of the length of list x\n",
    "#i.e 3 items\n",
    "for item in range(len(x)):\n",
    "    #print x with index of item i.e x[0], x[1], x[2] making 3 items\n",
    "    print (x[item], end = \" \")"
   ]
  },
  {
   "cell_type": "code",
   "execution_count": 12,
   "id": "9afe4b91",
   "metadata": {},
   "outputs": [],
   "source": [
    "#Using loops and conditional statements with functions\n",
    "\n",
    "#The function below counts the number of values less than 20 in a list\n",
    "def count(numbers):\n",
    "#create a total variable & set to 0.Dis is called a rolling sum in python\n",
    "    total = 0\n",
    "#loop through the list\n",
    "    for x in numbers:\n",
    "#If x is less than 20\n",
    "        if x < 20:\n",
    "#Increment total by 1\n",
    "            total += 1\n",
    "#Return total\n",
    "    return total"
   ]
  },
  {
   "cell_type": "code",
   "execution_count": 13,
   "id": "9cb039a6",
   "metadata": {},
   "outputs": [
    {
     "data": {
      "text/plain": [
       "16"
      ]
     },
     "execution_count": 13,
     "metadata": {},
     "output_type": "execute_result"
    }
   ],
   "source": [
    "list_1 = [0,1,3,4,5,6,7,8,9,10,11,12,13,14,15,16,20,23,24,25]\n",
    "count(list_1)"
   ]
  }
 ],
 "metadata": {
  "kernelspec": {
   "display_name": "Python 3",
   "language": "python",
   "name": "python3"
  },
  "language_info": {
   "codemirror_mode": {
    "name": "ipython",
    "version": 3
   },
   "file_extension": ".py",
   "mimetype": "text/x-python",
   "name": "python",
   "nbconvert_exporter": "python",
   "pygments_lexer": "ipython3",
   "version": "3.8.8"
  }
 },
 "nbformat": 4,
 "nbformat_minor": 5
}
