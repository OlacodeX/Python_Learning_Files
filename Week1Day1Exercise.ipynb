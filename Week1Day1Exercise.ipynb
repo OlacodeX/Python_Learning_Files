{
 "cells": [
  {
   "cell_type": "markdown",
   "id": "9e244d64",
   "metadata": {},
   "source": [
    "# Wk1 Trk1, Day 1: 30/08/21\n",
    "<br>\n",
    "\n",
    "# Exercises: Introduction to Python programming, variables, and expressions\n",
    "---\n",
    "<br>\n",
    "\n",
    "##### Programming Workshop for Scientists in Africa <www.pwsafrica.org>. \n",
    "##### Supported by the School of Computing Science, University of Glasgow.\n",
    "##### Funded by the Global Challenges Research Fund and Scottish Funding Council.\n",
    "<br>\n",
    "\n",
    "##### PWSA2021. Python 3.x\n",
    "---"
   ]
  },
  {
   "cell_type": "markdown",
   "id": "c0654c90",
   "metadata": {},
   "source": [
    "<div class=\"alert alert-danger\"> <b>IMPORTANT:</b> You do not have permission to save any file under the examples/pwsa2021 directory. Before you begin solving the exercises, first save this notebook in your home directory! </div>\n",
    "\n",
    "How do I save a notebook in my home directory?\n",
    "* First open the notebook you want to copy \n",
    "* Go to **File** in the menu bar\n",
    "* Click on **Save Notebook As**\n",
    "* The current path is: **examples/pwsa2021/Week1Track1/Exercises/\\<name of notebook\\>.ipynb**\n",
    "\n",
    "        where <name of notebook> can be Day1 Exercises ....\n",
    "    \n",
    "* Rename the path to **\\<name of notebook\\>.ipynb**\n",
    "* If you go back to your home directory, i.e., outside \"examples/pwsa2021\", you will see the notebook you copied over. This is where you type your solution and save as you go along.\n",
    "\n",
    "---"
   ]
  },
  {
   "cell_type": "markdown",
   "id": "4ec8f279",
   "metadata": {
    "slideshow": {
     "slide_type": "slide"
    }
   },
   "source": [
    "In today's exercises, we'll practice the material that was covered in this morning's lecture.\n",
    "\n",
    "Some problems at the end of the exercise notebook are marked as _optional_. Your progress on those problems won't be assessed: these problems have been provided as an additional challenge for people that have found the earlier problems straightforward."
   ]
  },
  {
   "cell_type": "markdown",
   "id": "7009b42e",
   "metadata": {},
   "source": [
    "## 1. Hello, world\n",
    "\n",
    "Write code that prints the message \"Hello, world\" to the screen."
   ]
  },
  {
   "cell_type": "code",
   "execution_count": 1,
   "id": "ee46fc30",
   "metadata": {},
   "outputs": [
    {
     "name": "stdout",
     "output_type": "stream",
     "text": [
      "Hello, world\n"
     ]
    }
   ],
   "source": [
    "greeting = \"Hello, world\"\n",
    "print(greeting)"
   ]
  },
  {
   "cell_type": "markdown",
   "id": "be463428",
   "metadata": {},
   "source": [
    "## 2. Error message\n",
    "\n",
    "Why does the following code create an error?"
   ]
  },
  {
   "cell_type": "code",
   "execution_count": 2,
   "id": "83574d56",
   "metadata": {},
   "outputs": [
    {
     "ename": "SyntaxError",
     "evalue": "EOL while scanning string literal (784303301.py, line 1)",
     "output_type": "error",
     "traceback": [
      "\u001b[0;36m  File \u001b[0;32m\"/tmp/ipykernel_304729/784303301.py\"\u001b[0;36m, line \u001b[0;32m1\u001b[0m\n\u001b[0;31m    print('bad code, or good code?\")\u001b[0m\n\u001b[0m                                    ^\u001b[0m\n\u001b[0;31mSyntaxError\u001b[0m\u001b[0;31m:\u001b[0m EOL while scanning string literal\n"
     ]
    }
   ],
   "source": [
    "print('bad code, or good code?\")"
   ]
  },
  {
   "cell_type": "code",
   "execution_count": 3,
   "id": "79478755",
   "metadata": {},
   "outputs": [
    {
     "name": "stdout",
     "output_type": "stream",
     "text": [
      "There is an error because the quotation marks used is not the same. The opening has single quote and the end has double quotes\n"
     ]
    }
   ],
   "source": [
    "reason = \"There is an error because the quotation marks used is not the same. The opening has single quote and the end has double quotes\"\n",
    "print(reason)"
   ]
  },
  {
   "cell_type": "markdown",
   "id": "52e87541",
   "metadata": {},
   "source": [
    "## 3. Welcome\n",
    "\n",
    "Print this statement to the screen, including the quotation marks:\n",
    "\n",
    "``` The PWSA team says \"Welcome to the workshop!\" ```"
   ]
  },
  {
   "cell_type": "code",
   "execution_count": 4,
   "id": "4bf12fcf",
   "metadata": {},
   "outputs": [
    {
     "name": "stdout",
     "output_type": "stream",
     "text": [
      "The PWSA team says \"Welcome to the workshop!\"\n"
     ]
    }
   ],
   "source": [
    "statement = \"The PWSA team says \\\"Welcome to the workshop!\\\"\"\n",
    "print(statement)"
   ]
  },
  {
   "cell_type": "markdown",
   "id": "48b58db0",
   "metadata": {},
   "source": [
    "## 4. Vital stats\n",
    "\n",
    "Given these details, print out a summary:\n",
    "\n",
    "```\n",
    "age: 29\n",
    "name: Bob\n",
    "height: 1.85m\n",
    "hair: black\n",
    "eyes: brown\n",
    "```\n",
    "\n",
    "For example, you could print the message: \n",
    "**\"Bob is 29 years old, with black hair and brown eyes. Bob is 1.85m tall.\"**\n"
   ]
  },
  {
   "cell_type": "code",
   "execution_count": 13,
   "id": "dea6d2db",
   "metadata": {},
   "outputs": [
    {
     "name": "stdout",
     "output_type": "stream",
     "text": [
      "Bob is 29 years old, with black and brown eyes. Bob is 1.85m tall.\n"
     ]
    }
   ],
   "source": [
    "user = {'name': \"Bob\", 'age': 29, 'height': \"1.85m\", 'hair': \"black\", 'eyes': \"brown\"}\n",
    "message = f\"{user['name']} is {user['age']} years old, with {user['hair']} and {user['eyes']} eyes. {user['name']} is {user['height']} tall.\"\n",
    "print(message)"
   ]
  },
  {
   "cell_type": "markdown",
   "id": "70e31538",
   "metadata": {},
   "source": [
    "## 5. Types\n",
    "\n",
    "Print out the types of the following values and expressions:\n",
    "\n",
    "```\n",
    "5\n",
    "5.0\n",
    "True\n",
    "\"hello\"\n",
    "'h'\n",
    "'hello'\n",
    "print\n",
    "len\n",
    "7 + 9\n",
    "\"six\" + \"seven\"\n",
    "None\n",
    "```\n",
    "\n",
    "For example, for the last item, you'd write `print(\"None\", type(None))`.\n",
    "\n",
    "Did anything surprise you about this? If so, why? Share this with your group."
   ]
  },
  {
   "cell_type": "code",
   "execution_count": 17,
   "id": "95449041",
   "metadata": {},
   "outputs": [
    {
     "name": "stdout",
     "output_type": "stream",
     "text": [
      "5 <class 'int'>\n",
      "5.0 <class 'float'>\n",
      "True <class 'bool'>\n",
      "hello <class 'str'>\n",
      "h <class 'str'>\n",
      "<built-in function print> <class 'builtin_function_or_method'>\n",
      "<built-in function len> <class 'builtin_function_or_method'>\n",
      "16 <class 'int'>\n",
      "sixseven <class 'str'>\n",
      "None <class 'NoneType'>\n"
     ]
    }
   ],
   "source": [
    "print(5, type(5))\n",
    "print(5.0, type(5.0))\n",
    "print(True, type(True))\n",
    "print(\"hello\", type(\"hello\"))\n",
    "print('h', type('h'))\n",
    "print(print, type(print))\n",
    "print(len, type(len))\n",
    "print(7 + 9, type(7 + 9))\n",
    "print(\"six\" + \"seven\", type(\"six\" + \"seven\"))\n",
    "print(None, type(None))"
   ]
  },
  {
   "cell_type": "markdown",
   "id": "133e7df5",
   "metadata": {},
   "source": [
    "## 6. Hungry for pizza\n",
    "\n",
    "15 people are attending a pizza party. Each person requires 3 slices of pizza. For every diameter inch of pizza, there are 0.75 slices. If two pizzas arrive, one 16 inches in diameter, and the other 24 inches in diameter, how many people will not have had enough pizza? How many more 16 inch pizzas are required?\n",
    "\n"
   ]
  },
  {
   "cell_type": "code",
   "execution_count": 25,
   "id": "7749e05e",
   "metadata": {},
   "outputs": [
    {
     "name": "stdout",
     "output_type": "stream",
     "text": [
      "Total number of people will not have had enough pizza is 5.0.\n",
      "1.0 more 16 inch pizza(s) are required.\n"
     ]
    }
   ],
   "source": [
    "# I assume that the 3 slices per person are handed out at once to each person.\n",
    "available_diam_inch = 16 + 24\n",
    "total_no_of_guests = 15\n",
    "slice_per_1diam = 0.75\n",
    "diam_for_3slices = 4\n",
    "require_diam_inch_for_all = total_no_of_guests * diam_for_3slices\n",
    "people_fed = available_diam_inch / diam_for_3slices\n",
    "people_not_fed = total_no_of_guests - people_fed\n",
    "print(f\"Total number of people will not have had enough pizza is {people_not_fed}.\")\n",
    "#16 inch pizzas required\n",
    "diam_inch_remaining = require_diam_inch_for_all - available_diam_inch\n",
    "_16inch_required = diam_inch_remaining / 16\n",
    "print(f\"{round(_16inch_required, 0)} more 16 inch pizza(s) are required.\")"
   ]
  },
  {
   "cell_type": "markdown",
   "id": "ef52a5eb",
   "metadata": {},
   "source": [
    "## 7. Area of a field\n",
    "\n",
    "If a field, in feet, is 96,700 feet in width, by 101,399 feet in length, display the area of the field in acres.\n",
    "\n",
    "_Hint: 1 acre is 43,560 square feet._"
   ]
  },
  {
   "cell_type": "code",
   "execution_count": 30,
   "id": "b4b3cace",
   "metadata": {},
   "outputs": [
    {
     "name": "stdout",
     "output_type": "stream",
     "text": [
      "The area of the field in acres is 225098.33acres.\n"
     ]
    }
   ],
   "source": [
    "# My solution\n",
    "w = 96700\n",
    "l = 101399\n",
    "area = w * l\n",
    "#Since l & w are in feet, the multiplication will give square feet unit\n",
    "#Convert area to acre\n",
    "area_in_acre = area / 43560\n",
    "print(f\"The area of the field in acres is {round(area_in_acre, 2)}acres.\")"
   ]
  },
  {
   "cell_type": "markdown",
   "id": "96d9d83a",
   "metadata": {},
   "source": [
    "## 8. Arithmetic\n",
    "\n",
    "Create a program that has two numbers `x` and `y`. Display the results of the following:\n",
    "- The sum of the two numbers;\n",
    "- The difference between the second and first numbers;\n",
    "- The product of the two numbers;\n",
    "- The quotient, when the first number is divided by the second;\n",
    "- The remainder, when the first number is divided by the second;\n",
    "- The first number to the power of the second."
   ]
  },
  {
   "cell_type": "code",
   "execution_count": 31,
   "id": "f25243d3",
   "metadata": {},
   "outputs": [
    {
     "name": "stdout",
     "output_type": "stream",
     "text": [
      "The addition is 5\n",
      "The difference is 1\n",
      "Product is 6\n",
      "Quotient is 0.6666666666666666\n",
      "Remainder is 2\n",
      "Power is 8\n"
     ]
    }
   ],
   "source": [
    "x = 2\n",
    "y = 3\n",
    "addition = x + y\n",
    "print(f\"The addition is {addition}\")\n",
    "difference = y - x\n",
    "print(f\"The difference is {difference}\")\n",
    "product = x * y\n",
    "print(f\"Product is {product}\")\n",
    "quotient = x / y\n",
    "print(f\"Quotient is {quotient}\")\n",
    "remainder = x % y\n",
    "print(f\"Remainder is {remainder}\")\n",
    "power = x ** y\n",
    "print(f\"Power is {power}\")"
   ]
  },
  {
   "cell_type": "markdown",
   "id": "534bd53a",
   "metadata": {},
   "source": [
    "## Optional: 9. Widgets and gizmos\n",
    "\n",
    "An online retailer sells two products: widgets and gizmos. Each widget weighs 75 grams, while each gizmo weighs 112 grams. \n",
    "\n",
    "Write a program that displays the total weight of an order, in kilograms, given two variables containing the number of widgets and gizmos."
   ]
  },
  {
   "cell_type": "code",
   "execution_count": 32,
   "id": "d90ad0c8",
   "metadata": {},
   "outputs": [
    {
     "data": {
      "text/plain": [
       "'Total widgets ordered is 750grams while total gizmos ordered is 2240grams'"
      ]
     },
     "execution_count": 32,
     "metadata": {},
     "output_type": "execute_result"
    }
   ],
   "source": [
    "# write your solution here\n",
    "def userOrder(x,y):\n",
    "    Total_widget = x * 75\n",
    "    Total_gizmos = y * 112\n",
    "    message = f\"Total widgets ordered is {Total_widget}grams while total gizmos ordered is {Total_gizmos}grams\"\n",
    "    return message\n",
    "userOrder(10,20)"
   ]
  },
  {
   "cell_type": "markdown",
   "id": "d56c304b",
   "metadata": {},
   "source": [
    "## Optional: 10. Time\n",
    "\n",
    "Given:\n",
    "\n",
    "```\n",
    "days: 17\n",
    "hours: 23\n",
    "minutes: 17\n",
    "seconds: 45\n",
    "```\n",
    "\n",
    "Display the total number of seconds in the above duration."
   ]
  },
  {
   "cell_type": "code",
   "execution_count": 33,
   "id": "39d75507",
   "metadata": {},
   "outputs": [
    {
     "name": "stdout",
     "output_type": "stream",
     "text": [
      "Total number of seconds is 1552665.\n"
     ]
    }
   ],
   "source": [
    "#convert days to hour and add total hours\n",
    "_1day_to_hr = 24\n",
    "days = 17\n",
    "days_to_hr = days * _1day_to_hr\n",
    "hrs = 23\n",
    "total_hrs = days_to_hr + hrs\n",
    "#convert hours to minutes \n",
    "_1hr_to_minute = 60\n",
    "minutes = 17\n",
    "hrs_to_minutes = total_hrs * _1hr_to_minute\n",
    "total_minute = hrs_to_minutes + minutes\n",
    "#convert minutes to seconds\n",
    "_1minute_to_sec = 60\n",
    "seconds = 45\n",
    "minutes_to_sec = total_minute * _1minute_to_sec\n",
    "total_sec = minutes_to_sec + seconds\n",
    "print(f\"Total number of seconds is {total_sec}.\")\n"
   ]
  }
 ],
 "metadata": {
  "kernelspec": {
   "display_name": "Python 3",
   "language": "python",
   "name": "python3"
  },
  "language_info": {
   "codemirror_mode": {
    "name": "ipython",
    "version": 3
   },
   "file_extension": ".py",
   "mimetype": "text/x-python",
   "name": "python",
   "nbconvert_exporter": "python",
   "pygments_lexer": "ipython3",
   "version": "3.8.8"
  },
  "latex_envs": {
   "LaTeX_envs_menu_present": true,
   "autoclose": false,
   "autocomplete": true,
   "bibliofile": "biblio.bib",
   "cite_by": "apalike",
   "current_citInitial": 1,
   "eqLabelWithNumbers": true,
   "eqNumInitial": 1,
   "hotkeys": {
    "equation": "Ctrl-E",
    "itemize": "Ctrl-I"
   },
   "labels_anchors": false,
   "latex_user_defs": false,
   "report_style_numbering": false,
   "user_envs_cfg": false
  },
  "toc": {
   "base_numbering": 1,
   "nav_menu": {},
   "number_sections": true,
   "sideBar": true,
   "skip_h1_title": true,
   "title_cell": "Table of Contents",
   "title_sidebar": "Contents",
   "toc_cell": false,
   "toc_position": {},
   "toc_section_display": true,
   "toc_window_display": false
  }
 },
 "nbformat": 4,
 "nbformat_minor": 5
}
