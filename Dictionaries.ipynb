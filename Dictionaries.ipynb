{
 "cells": [
  {
   "cell_type": "code",
   "execution_count": 1,
   "id": "dcdacb4e",
   "metadata": {},
   "outputs": [],
   "source": [
    "#Dictionaries can be likened to objects in other programming languages.\n",
    "#{} are used instead of []/()\n",
    "dict = {'k1': \"cat\", 'k2': \"dog\",'k3':'mouse','k4': \"fish\"}"
   ]
  },
  {
   "cell_type": "code",
   "execution_count": 2,
   "id": "e54e12f7",
   "metadata": {},
   "outputs": [
    {
     "data": {
      "text/plain": [
       "'cat'"
      ]
     },
     "execution_count": 2,
     "metadata": {},
     "output_type": "execute_result"
    }
   ],
   "source": [
    "dict['k1']"
   ]
  },
  {
   "cell_type": "code",
   "execution_count": 3,
   "id": "9e7c5066",
   "metadata": {},
   "outputs": [
    {
     "data": {
      "text/plain": [
       "{'k1': 'cat', 'k2': 'dog', 'k3': 'mouse', 'k4': 'fish', 'k5': 'parrot'}"
      ]
     },
     "execution_count": 3,
     "metadata": {},
     "output_type": "execute_result"
    }
   ],
   "source": [
    "#Add a new value\n",
    "dict['k5'] = 'parrot'\n",
    "dict"
   ]
  },
  {
   "cell_type": "code",
   "execution_count": 4,
   "id": "1c0ffa6f",
   "metadata": {},
   "outputs": [],
   "source": [
    "#edit a value\n",
    "dict['k2'] = 'quail'"
   ]
  },
  {
   "cell_type": "code",
   "execution_count": 5,
   "id": "7cc79876",
   "metadata": {},
   "outputs": [
    {
     "data": {
      "text/plain": [
       "{'k1': 'cat', 'k2': 'quail', 'k3': 'mouse', 'k4': 'fish', 'k5': 'parrot'}"
      ]
     },
     "execution_count": 5,
     "metadata": {},
     "output_type": "execute_result"
    }
   ],
   "source": [
    "dict"
   ]
  },
  {
   "cell_type": "code",
   "execution_count": 6,
   "id": "51bf7b51",
   "metadata": {},
   "outputs": [
    {
     "name": "stdout",
     "output_type": "stream",
     "text": [
      "{'striker': 'Messi', 'winger': 'Ronaldo', 'defender': 'Terry'}\n"
     ]
    }
   ],
   "source": [
    "#Creating a non prefilled dictonary\n",
    "Team = {}\n",
    "Team['striker'] = 'Messi'\n",
    "Team['winger'] = 'Ronaldo'\n",
    "Team['defender'] = 'Terry'\n",
    "print (Team)"
   ]
  },
  {
   "cell_type": "code",
   "execution_count": 7,
   "id": "e207b99d",
   "metadata": {},
   "outputs": [
    {
     "name": "stdout",
     "output_type": "stream",
     "text": [
      "Messi\n",
      "None\n"
     ]
    }
   ],
   "source": [
    "#Other way for accessing dictonary elements\n",
    "print (Team.get('striker'))\n",
    "#try getting a none existing element\n",
    "print (Team.get('coach'))#returns none which is a dict. default"
   ]
  }
 ],
 "metadata": {
  "kernelspec": {
   "display_name": "Python 3",
   "language": "python",
   "name": "python3"
  },
  "language_info": {
   "codemirror_mode": {
    "name": "ipython",
    "version": 3
   },
   "file_extension": ".py",
   "mimetype": "text/x-python",
   "name": "python",
   "nbconvert_exporter": "python",
   "pygments_lexer": "ipython3",
   "version": "3.8.8"
  }
 },
 "nbformat": 4,
 "nbformat_minor": 5
}
