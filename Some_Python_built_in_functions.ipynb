{
 "cells": [
  {
   "cell_type": "code",
   "execution_count": 1,
   "id": "c88cee85",
   "metadata": {},
   "outputs": [],
   "source": [
    "#These are functions we can use directly from the python library\n",
    "#Examples include, type(), float(), int(), str() etc"
   ]
  },
  {
   "cell_type": "code",
   "execution_count": 2,
   "id": "c2ef0f3a",
   "metadata": {},
   "outputs": [
    {
     "data": {
      "text/plain": [
       "200"
      ]
     },
     "execution_count": 2,
     "metadata": {},
     "output_type": "execute_result"
    }
   ],
   "source": [
    "max(10,20,100,200,50,60,70)"
   ]
  },
  {
   "cell_type": "code",
   "execution_count": 3,
   "id": "83d60994",
   "metadata": {},
   "outputs": [
    {
     "data": {
      "text/plain": [
       "10"
      ]
     },
     "execution_count": 3,
     "metadata": {},
     "output_type": "execute_result"
    }
   ],
   "source": [
    "min(10,20,100,200,50,60,70)"
   ]
  },
  {
   "cell_type": "code",
   "execution_count": 4,
   "id": "6d48a873",
   "metadata": {},
   "outputs": [
    {
     "data": {
      "text/plain": [
       "100"
      ]
     },
     "execution_count": 4,
     "metadata": {},
     "output_type": "execute_result"
    }
   ],
   "source": [
    "#The abs() function returns the absolute value of the passed parameter\n",
    "z = -100\n",
    "abs(z)"
   ]
  },
  {
   "cell_type": "code",
   "execution_count": 6,
   "id": "c36f85c1",
   "metadata": {},
   "outputs": [
    {
     "data": {
      "text/plain": [
       "55"
      ]
     },
     "execution_count": 6,
     "metadata": {},
     "output_type": "execute_result"
    }
   ],
   "source": [
    "list_1 = [1,2,3,4,5,6,7,8,9,10]\n",
    "sum(list_1)"
   ]
  },
  {
   "cell_type": "code",
   "execution_count": 9,
   "id": "921a945e",
   "metadata": {},
   "outputs": [
    {
     "data": {
      "text/plain": [
       "5.78"
      ]
     },
     "execution_count": 9,
     "metadata": {},
     "output_type": "execute_result"
    }
   ],
   "source": [
    "#round(x,y) rounds x to y number of decimal places\n",
    "#if y is not specified, it defaults to .0\n",
    "round(5.77777,2)\n",
    "#round(5.7777) --- this gives 6"
   ]
  },
  {
   "cell_type": "code",
   "execution_count": 10,
   "id": "570396f7",
   "metadata": {},
   "outputs": [
    {
     "data": {
      "text/plain": [
       "8"
      ]
     },
     "execution_count": 10,
     "metadata": {},
     "output_type": "execute_result"
    }
   ],
   "source": [
    "# pow(x,y) raises x to the power of y if i dont want to use the x**y way\n",
    "pow(2,3)"
   ]
  },
  {
   "cell_type": "code",
   "execution_count": 11,
   "id": "8f6683e5",
   "metadata": {},
   "outputs": [
    {
     "data": {
      "text/plain": [
       "11"
      ]
     },
     "execution_count": 11,
     "metadata": {},
     "output_type": "execute_result"
    }
   ],
   "source": [
    "#len() specifies the number of characters\n",
    "len('Mathematics')"
   ]
  }
 ],
 "metadata": {
  "kernelspec": {
   "display_name": "Python 3",
   "language": "python",
   "name": "python3"
  },
  "language_info": {
   "codemirror_mode": {
    "name": "ipython",
    "version": 3
   },
   "file_extension": ".py",
   "mimetype": "text/x-python",
   "name": "python",
   "nbconvert_exporter": "python",
   "pygments_lexer": "ipython3",
   "version": "3.8.8"
  }
 },
 "nbformat": 4,
 "nbformat_minor": 5
}
