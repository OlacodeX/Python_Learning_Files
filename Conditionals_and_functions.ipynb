{
 "cells": [
  {
   "cell_type": "code",
   "execution_count": 1,
   "id": "036c73b2",
   "metadata": {},
   "outputs": [],
   "source": [
    "#the function below adds 10 to a user's savings if it is > 100, if not\n",
    "#nothing should happen\n",
    "def add_10(monthly_savings):\n",
    "    if monthly_savings >= 100:\n",
    "        monthly_savings = monthly_savings + 10\n",
    "        return monthly_savings\n",
    "    else:\n",
    "        return \"Your balance is not up to 100usd, please save more!\"\n",
    "    "
   ]
  },
  {
   "cell_type": "code",
   "execution_count": 2,
   "id": "247e5b5f",
   "metadata": {},
   "outputs": [
    {
     "data": {
      "text/plain": [
       "110"
      ]
     },
     "execution_count": 2,
     "metadata": {},
     "output_type": "execute_result"
    }
   ],
   "source": [
    "add_10(100)"
   ]
  },
  {
   "cell_type": "code",
   "execution_count": 3,
   "id": "fbe4b172",
   "metadata": {},
   "outputs": [
    {
     "data": {
      "text/plain": [
       "'Your balance is not up to 100usd, please save more!'"
      ]
     },
     "execution_count": 3,
     "metadata": {},
     "output_type": "execute_result"
    }
   ],
   "source": [
    "add_10(50)"
   ]
  }
 ],
 "metadata": {
  "kernelspec": {
   "display_name": "Python 3",
   "language": "python",
   "name": "python3"
  },
  "language_info": {
   "codemirror_mode": {
    "name": "ipython",
    "version": 3
   },
   "file_extension": ".py",
   "mimetype": "text/x-python",
   "name": "python",
   "nbconvert_exporter": "python",
   "pygments_lexer": "ipython3",
   "version": "3.8.8"
  }
 },
 "nbformat": 4,
 "nbformat_minor": 5
}
