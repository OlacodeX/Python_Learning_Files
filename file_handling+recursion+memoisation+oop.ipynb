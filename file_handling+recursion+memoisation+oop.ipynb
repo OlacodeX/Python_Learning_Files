{
 "cells": [
  {
   "cell_type": "markdown",
   "id": "264d09f6",
   "metadata": {},
   "source": [
    "# Day 2: Recap of Python fundamentals (continued)\n",
    "\n",
    "In today's tutorial, we'll cover:\n",
    "- File handling;\n",
    "- Recursion;\n",
    "- Memoisation; and\n",
    "- Object-oriented programming.\n",
    "\n",
    "A set of exercises that will allow you to test your learning of this tutorial will also be made available.  "
   ]
  },
  {
   "cell_type": "markdown",
   "id": "c383ff5b",
   "metadata": {},
   "source": [
    "## Using files to store data\n",
    "\n",
    "So far, we've either hard-coded data into our programs, or we've allowed the user to enter it using their keyboard (with `input()`). Of course, if we want to work with larger data sets, we'll need a better way of getting data into and out of our programs. Python allows us to read and write to _files_ stored in the computer's _filesystem_.\n",
    "\n",
    "Storing data as files has a number of benefits. Files are persistent, so the data they contain remains even when your computer is switched off. They're also easy to share with others, allowing data to be uploaded for use by others. Finally, the computer's filesystem provides a built-in way of organising files into folders.\n",
    "\n",
    "If you've worked with files in other programming languages, you'll know that it can sometimes be tricky. We first need to open the file, by giving a _path_ to its location. We can then read and write to the file. And finally, we need to make sure that we _close_ the file once we're finished, so that all of the changes we make are saved properly.\n",
    "\n",
    "Python, however, makes dealing with files much more straightforward:"
   ]
  },
  {
   "cell_type": "code",
   "execution_count": 2,
   "id": "047bd243",
   "metadata": {
    "scrolled": true
   },
   "outputs": [
    {
     "name": "stdout",
     "output_type": "stream",
     "text": [
      "Alice,123456789\n",
      "\n"
     ]
    }
   ],
   "source": [
    "with open(\"data/phonebook.txt\") as phonebookFile:\n",
    "    print(phonebookFile.readline())"
   ]
  },
  {
   "cell_type": "markdown",
   "id": "b7af72fa",
   "metadata": {},
   "source": [
    "In the first line of this example, we've told Python to open the file called `phonebook.txt`, using the `open` function. The `open` function returns an object that represents the file, and `as phonebookFile` assigns this to the variable called `phonebookFile`. We haven't covered objects in this track, but for now all we need to know is that we can perform operations (like reading and writing) on the file via the object assigned to `phonebookFile`. Finally, the `with` statement opens a block where it is valid to access the file via `phonebookFile`. The file will be closed once the `with` block has finished. That means that the above example safely opens the file, reads a line from it, and closes it.\n",
    "\n",
    "As we can see from the above example, we can read the file line-by-line using the `readline` method. However, while this can sometimes be useful, we often want to read everything in the file. We can do this all at once:"
   ]
  },
  {
   "cell_type": "code",
   "execution_count": 3,
   "id": "c9b5bdc5",
   "metadata": {},
   "outputs": [
    {
     "name": "stdout",
     "output_type": "stream",
     "text": [
      "Alice,123456789\n",
      "Bob,987654321\n",
      "Maude,987462513\n",
      "\n"
     ]
    }
   ],
   "source": [
    "with open(\"data/phonebook.txt\") as phonebookFile:\n",
    "    print(phonebookFile.read())"
   ]
  },
  {
   "cell_type": "markdown",
   "id": "a892cb7d",
   "metadata": {},
   "source": [
    "The `read` method gives us all of the data in the file at once. It is much more common that we'd want to go through the file line-by-line, and do something with each entry:"
   ]
  },
  {
   "cell_type": "code",
   "execution_count": 3,
   "id": "e73d5f93",
   "metadata": {},
   "outputs": [
    {
     "ename": "FileNotFoundError",
     "evalue": "[Errno 2] No such file or directory: 'data/phnebook.txt'",
     "output_type": "error",
     "traceback": [
      "\u001b[1;31m---------------------------------------------------------------------------\u001b[0m",
      "\u001b[1;31mFileNotFoundError\u001b[0m                         Traceback (most recent call last)",
      "\u001b[1;32m<ipython-input-3-f7b5dc38b769>\u001b[0m in \u001b[0;36m<module>\u001b[1;34m\u001b[0m\n\u001b[1;32m----> 1\u001b[1;33m \u001b[1;32mwith\u001b[0m \u001b[0mopen\u001b[0m\u001b[1;33m(\u001b[0m\u001b[1;34m\"data/phnebook.txt\"\u001b[0m\u001b[1;33m)\u001b[0m \u001b[1;32mas\u001b[0m \u001b[0mphonebookFile\u001b[0m\u001b[1;33m:\u001b[0m\u001b[1;33m\u001b[0m\u001b[1;33m\u001b[0m\u001b[0m\n\u001b[0m\u001b[0;32m      2\u001b[0m     \u001b[1;32mfor\u001b[0m \u001b[0mentry\u001b[0m \u001b[1;32min\u001b[0m \u001b[0mphonebookFile\u001b[0m\u001b[1;33m:\u001b[0m\u001b[1;33m\u001b[0m\u001b[1;33m\u001b[0m\u001b[0m\n\u001b[0;32m      3\u001b[0m         \u001b[0mprint\u001b[0m\u001b[1;33m(\u001b[0m\u001b[0mentry\u001b[0m\u001b[1;33m)\u001b[0m\u001b[1;33m\u001b[0m\u001b[1;33m\u001b[0m\u001b[0m\n",
      "\u001b[1;31mFileNotFoundError\u001b[0m: [Errno 2] No such file or directory: 'data/phnebook.txt'"
     ]
    }
   ],
   "source": [
    "with open(\"data/phnebook.txt\") as phonebookFile:\n",
    "    for entry in phonebookFile:\n",
    "        print(entry)"
   ]
  },
  {
   "cell_type": "markdown",
   "id": "195f413e",
   "metadata": {},
   "source": [
    "In this example, we've used the `for` loop to go through the entire file. The loop variable `entry` will take the value of each line of the file in turn. As we can see, the data isn't quite formatted in the way that we'd like. There are a couple of issues: there's a new-line character at the end of each line, causing the spacing that we see above. In addition, each entry is run together - we might want to make the name and phone number look neater.\n",
    "\n",
    "To solve the spacing issue, we can remove the newline character:"
   ]
  },
  {
   "cell_type": "code",
   "execution_count": 7,
   "id": "444fd4a1",
   "metadata": {},
   "outputs": [
    {
     "name": "stdout",
     "output_type": "stream",
     "text": [
      "You bought 5 apples for $100\n",
      "You bought 7 oranges for $70\n",
      "You bought 3 bananas for $15\n",
      "You bought 4 melons for $60\n"
     ]
    }
   ],
   "source": [
    "fruits = [\"apples\",\"oranges\",\"bananas\",\"melons\"]\n",
    "prices = [20,10,5,15]\n",
    "quantities = [5,7,3,4]\n",
    "\n",
    "for fruit, price, quantity in zip(fruits,prices,quantities):\n",
    "     print(f\"You bought {quantity} {fruit} for ${price*quantity}\")"
   ]
  },
  {
   "cell_type": "code",
   "execution_count": 4,
   "id": "64ab0de6",
   "metadata": {},
   "outputs": [
    {
     "name": "stdout",
     "output_type": "stream",
     "text": [
      "Alice,123456789\n",
      "Bob,987654321\n",
      "Maude,987462513\n"
     ]
    }
   ],
   "source": [
    "with open(\"data/phonebook.txt\") as phonebookFile:\n",
    "    for entry in phonebookFile:\n",
    "        entry = entry.strip()\n",
    "        print(entry)"
   ]
  },
  {
   "cell_type": "markdown",
   "id": "638c72c7",
   "metadata": {},
   "source": [
    "The `strip` method removes any whitespace from the start and end of the string, including regular spaces, tabs, and newline characters.\n",
    "\n",
    "Next, we can separate the name from the phone number:"
   ]
  },
  {
   "cell_type": "code",
   "execution_count": 5,
   "id": "5812edf2",
   "metadata": {},
   "outputs": [
    {
     "name": "stdout",
     "output_type": "stream",
     "text": [
      "Alice can be reached at 123456789.\n",
      "Bob can be reached at 987654321.\n",
      "Maude can be reached at 987462513.\n"
     ]
    }
   ],
   "source": [
    "with open(\"data/phonebook.txt\") as phonebookFile:\n",
    "    for entry in phonebookFile:\n",
    "        name, phone_number = entry.strip().split(',')\n",
    "        print(f\"{name} can be reached at {phone_number}.\")"
   ]
  },
  {
   "cell_type": "markdown",
   "id": "01d478e2",
   "metadata": {},
   "source": [
    "Here, we've used `strip` to remove the newline character as before. Next, though, we've used the `split` method. The `split` method will divide the string into a tuple, where each entry was separated by the character that we pass to the method. So, in this example, each line contained a name followed by a comma followed by a phone number. `split` will produce a tuple that has the name as the first element, and the phone number as the second element. We then assign these values to the `name` and `phone_number` variables as shown.\n",
    "\n",
    "Notice how we can chain different method calls together: we read these left-to-right. So, we first apply the `strip` method, and then apply the `split` method to the result.\n",
    "\n",
    "It is common that we will use files to store data, and then read the data from the file into a data structure that we can use throughout our program. Thinking back to yesterday's dictionary example, we can build the phonebook data structure from the data stored in the file:"
   ]
  },
  {
   "cell_type": "code",
   "execution_count": 6,
   "id": "72714f88",
   "metadata": {
    "scrolled": true
   },
   "outputs": [
    {
     "name": "stdout",
     "output_type": "stream",
     "text": [
      "Alice can be reached at 123456789.\n",
      "Bob can be reached at 987654321.\n",
      "Maude can be reached at 987462513.\n",
      "{'Alice': '123456789', 'Bob': '987654321', 'Maude': '987462513'}\n"
     ]
    }
   ],
   "source": [
    "#instantiate an empty dictionary\n",
    "phonebook = {}\n",
    "\n",
    "with open(\"data/phonebook.txt\") as phonebookFile:\n",
    "    for entry in phonebookFile:\n",
    "        name, phone_number = entry.strip().split(',')\n",
    "        #Add entry into the dictionary with name as the key\n",
    "        phonebook[name] = phone_number\n",
    "\n",
    "for name, phone_number in phonebook.items():\n",
    "    print(f\"{name} can be reached at {phone_number}.\")\n",
    "print(phonebook)"
   ]
  },
  {
   "cell_type": "markdown",
   "id": "0d9e67d5",
   "metadata": {},
   "source": [
    "As shown, we first instantiate an empty dictionary, and assign this to the variable `phonebook`. We can then build up the dictionary, adding an entry to the phonebook for each line in the file. Once we've read in all the data, we can use the dictionary as usual.\n",
    "\n",
    "Of course, we might want to make changes to our data structure, and have these changes saved back to the file:"
   ]
  },
  {
   "cell_type": "code",
   "execution_count": 12,
   "id": "88f0d8c0",
   "metadata": {},
   "outputs": [
    {
     "ename": "OSError",
     "evalue": "[Errno 30] Read-only file system: 'data/phonebook.txt'",
     "output_type": "error",
     "traceback": [
      "\u001b[0;31m---------------------------------------------------------------------------\u001b[0m",
      "\u001b[0;31mOSError\u001b[0m                                   Traceback (most recent call last)",
      "\u001b[0;32m/tmp/ipykernel_376548/2025201364.py\u001b[0m in \u001b[0;36m<module>\u001b[0;34m\u001b[0m\n\u001b[1;32m     11\u001b[0m \u001b[0;34m\u001b[0m\u001b[0m\n\u001b[1;32m     12\u001b[0m \u001b[0;31m# save the phonebook back to the file\u001b[0m\u001b[0;34m\u001b[0m\u001b[0;34m\u001b[0m\u001b[0;34m\u001b[0m\u001b[0m\n\u001b[0;32m---> 13\u001b[0;31m \u001b[0;32mwith\u001b[0m \u001b[0mopen\u001b[0m\u001b[0;34m(\u001b[0m\u001b[0;34m\"data/phonebook.txt\"\u001b[0m\u001b[0;34m,\u001b[0m \u001b[0;34m\"w\"\u001b[0m\u001b[0;34m)\u001b[0m \u001b[0;32mas\u001b[0m \u001b[0mphonebookFile\u001b[0m\u001b[0;34m:\u001b[0m\u001b[0;34m\u001b[0m\u001b[0;34m\u001b[0m\u001b[0m\n\u001b[0m\u001b[1;32m     14\u001b[0m     \u001b[0;32mfor\u001b[0m \u001b[0mname\u001b[0m\u001b[0;34m,\u001b[0m \u001b[0mphone_number\u001b[0m \u001b[0;32min\u001b[0m \u001b[0mphonebook\u001b[0m\u001b[0;34m.\u001b[0m\u001b[0mitems\u001b[0m\u001b[0;34m(\u001b[0m\u001b[0;34m)\u001b[0m\u001b[0;34m:\u001b[0m\u001b[0;34m\u001b[0m\u001b[0;34m\u001b[0m\u001b[0m\n\u001b[1;32m     15\u001b[0m         \u001b[0mprint\u001b[0m\u001b[0;34m(\u001b[0m\u001b[0;34mf\"{name},{phone_number}\"\u001b[0m\u001b[0;34m,\u001b[0m \u001b[0mfile\u001b[0m\u001b[0;34m=\u001b[0m\u001b[0mphonebookFile\u001b[0m\u001b[0;34m)\u001b[0m\u001b[0;34m\u001b[0m\u001b[0;34m\u001b[0m\u001b[0m\n",
      "\u001b[0;31mOSError\u001b[0m: [Errno 30] Read-only file system: 'data/phonebook.txt'"
     ]
    }
   ],
   "source": [
    "phonebook = {}\n",
    "\n",
    "# open the phonebook data file, and read the entries into `phonebook`\n",
    "with open(\"data/phonebook.txt\") as phonebookFile:\n",
    "    for entry in phonebookFile:\n",
    "        name, phone_number = entry.strip().split(',')\n",
    "        phonebook[name] = phone_number\n",
    "\n",
    "# add a new entry\n",
    "phonebook[\"Claude\"] = \"1029384756\"\n",
    "\n",
    "# save the phonebook back to the file\n",
    "with open(\"data/phonebook.txt\", \"w\") as phonebookFile:\n",
    "    for name, phone_number in phonebook.items():\n",
    "        #this line only saves the new input to the file\n",
    "        print(f\"{name},{phone_number}\", file=phonebookFile)"
   ]
  },
  {
   "cell_type": "markdown",
   "id": "bdf9a19f",
   "metadata": {},
   "source": [
    "In this example, we construct the phonebook from the data stored in the file, as in the previous example. Next, however, we add a new entry to the phonebook for `Claude`. Once we've made that change to the phonebook, we then want to save the new phonebook to the data file. To do that, we use the same `with` block, but this time, we pass an additional parameter to the `open` function. The `w` indicates that we want to open the file for *w*riting, which we need to do if we want to change the file. Next, inside the `with` block, we iterate through the phonebook, and print each entry in turn. Notice that we specify a `file` when we call the `print` function: this means that, instead of printing to the screen, the output will be added to the file we've specified.\n",
    "\n",
    "To check that we've been successful, we can re-run one of the earlier examples, printing out the phonebook from the data file:"
   ]
  },
  {
   "cell_type": "code",
   "execution_count": 13,
   "id": "146d6462",
   "metadata": {},
   "outputs": [
    {
     "name": "stdout",
     "output_type": "stream",
     "text": [
      "Alice can be reached at 123456789.\n",
      "Bob can be reached at 987654321.\n",
      "Maude can be reached at 987462513.\n"
     ]
    }
   ],
   "source": [
    "with open(\"data/phonebook.txt\") as phonebookFile:\n",
    "    for entry in phonebookFile:\n",
    "        name, phone_number = entry.strip().split(',')\n",
    "        print(f\"{name} can be reached at {phone_number}.\")"
   ]
  },
  {
   "cell_type": "markdown",
   "id": "32709e46",
   "metadata": {},
   "source": [
    "## Recursion\n",
    "\n",
    "Yesterday, we went over how we can use functions to break down a problem, and solve it using small blocks of code. However, sometimes we encounter problems that have solutions that are defined in terms of themselves. For example, we might want to compute the _factorial_ of a number. The factorial of a number, _n_, is defined as the number itself, multiplied by each of the natural numbers less than it. That means that the factorial of _n_ is _n_ multiplied by the factorial of _n - 1_.\n",
    "\n",
    "So, we could define a function to calculate the factorial in Python:"
   ]
  },
  {
   "cell_type": "code",
   "execution_count": 14,
   "id": "f7eb39db",
   "metadata": {},
   "outputs": [
    {
     "ename": "RecursionError",
     "evalue": "maximum recursion depth exceeded",
     "output_type": "error",
     "traceback": [
      "\u001b[0;31m---------------------------------------------------------------------------\u001b[0m",
      "\u001b[0;31mRecursionError\u001b[0m                            Traceback (most recent call last)",
      "\u001b[0;32m/tmp/ipykernel_376548/3167136859.py\u001b[0m in \u001b[0;36m<module>\u001b[0;34m\u001b[0m\n\u001b[1;32m      2\u001b[0m     \u001b[0;32mreturn\u001b[0m \u001b[0mn\u001b[0m \u001b[0;34m*\u001b[0m \u001b[0mfactorial\u001b[0m\u001b[0;34m(\u001b[0m\u001b[0mn\u001b[0m\u001b[0;34m-\u001b[0m\u001b[0;36m1\u001b[0m\u001b[0;34m)\u001b[0m\u001b[0;34m\u001b[0m\u001b[0;34m\u001b[0m\u001b[0m\n\u001b[1;32m      3\u001b[0m \u001b[0;34m\u001b[0m\u001b[0m\n\u001b[0;32m----> 4\u001b[0;31m \u001b[0mfactorial\u001b[0m\u001b[0;34m(\u001b[0m\u001b[0;36m3\u001b[0m\u001b[0;34m)\u001b[0m\u001b[0;34m\u001b[0m\u001b[0;34m\u001b[0m\u001b[0m\n\u001b[0m",
      "\u001b[0;32m/tmp/ipykernel_376548/3167136859.py\u001b[0m in \u001b[0;36mfactorial\u001b[0;34m(n)\u001b[0m\n\u001b[1;32m      1\u001b[0m \u001b[0;32mdef\u001b[0m \u001b[0mfactorial\u001b[0m\u001b[0;34m(\u001b[0m\u001b[0mn\u001b[0m\u001b[0;34m)\u001b[0m\u001b[0;34m:\u001b[0m\u001b[0;34m\u001b[0m\u001b[0;34m\u001b[0m\u001b[0m\n\u001b[0;32m----> 2\u001b[0;31m     \u001b[0;32mreturn\u001b[0m \u001b[0mn\u001b[0m \u001b[0;34m*\u001b[0m \u001b[0mfactorial\u001b[0m\u001b[0;34m(\u001b[0m\u001b[0mn\u001b[0m\u001b[0;34m-\u001b[0m\u001b[0;36m1\u001b[0m\u001b[0;34m)\u001b[0m\u001b[0;34m\u001b[0m\u001b[0;34m\u001b[0m\u001b[0m\n\u001b[0m\u001b[1;32m      3\u001b[0m \u001b[0;34m\u001b[0m\u001b[0m\n\u001b[1;32m      4\u001b[0m \u001b[0mfactorial\u001b[0m\u001b[0;34m(\u001b[0m\u001b[0;36m3\u001b[0m\u001b[0;34m)\u001b[0m\u001b[0;34m\u001b[0m\u001b[0;34m\u001b[0m\u001b[0m\n",
      "... last 1 frames repeated, from the frame below ...\n",
      "\u001b[0;32m/tmp/ipykernel_376548/3167136859.py\u001b[0m in \u001b[0;36mfactorial\u001b[0;34m(n)\u001b[0m\n\u001b[1;32m      1\u001b[0m \u001b[0;32mdef\u001b[0m \u001b[0mfactorial\u001b[0m\u001b[0;34m(\u001b[0m\u001b[0mn\u001b[0m\u001b[0;34m)\u001b[0m\u001b[0;34m:\u001b[0m\u001b[0;34m\u001b[0m\u001b[0;34m\u001b[0m\u001b[0m\n\u001b[0;32m----> 2\u001b[0;31m     \u001b[0;32mreturn\u001b[0m \u001b[0mn\u001b[0m \u001b[0;34m*\u001b[0m \u001b[0mfactorial\u001b[0m\u001b[0;34m(\u001b[0m\u001b[0mn\u001b[0m\u001b[0;34m-\u001b[0m\u001b[0;36m1\u001b[0m\u001b[0;34m)\u001b[0m\u001b[0;34m\u001b[0m\u001b[0;34m\u001b[0m\u001b[0m\n\u001b[0m\u001b[1;32m      3\u001b[0m \u001b[0;34m\u001b[0m\u001b[0m\n\u001b[1;32m      4\u001b[0m \u001b[0mfactorial\u001b[0m\u001b[0;34m(\u001b[0m\u001b[0;36m3\u001b[0m\u001b[0;34m)\u001b[0m\u001b[0;34m\u001b[0m\u001b[0;34m\u001b[0m\u001b[0m\n",
      "\u001b[0;31mRecursionError\u001b[0m: maximum recursion depth exceeded"
     ]
    }
   ],
   "source": [
    "def factorial(n):\n",
    "    return n * factorial(n-1)\n",
    "\n",
    "factorial(3)"
   ]
  },
  {
   "cell_type": "markdown",
   "id": "7681a309",
   "metadata": {},
   "source": [
    "Now, this example code follows our definition of factorial: `factorial(n)` returns `n * factorial(n-1)`. However, it doesn't work: when we try to run the code above (with the example `factorial(3)`, we get an exception. That's because our function will try to run forever: `factorial(3) = 3 * factorial(2) = 3 * 2 * factorial(1) = 3 * 2 * 1 * factorial(0) = 3 * 2 * 1 * 0 * factorial(-1)`, and so on. There's nothing in our code that stops it from continuing to go down through all of the negative numbers - right down to infinity. Python stops us from running our code after a certain point, if it detects that we've written something that might go on forever. That limit is what gives us the error message above.\n",
    "\n",
    "To stop this from happening, we need to explicitly define the _base case_. In recursive definitions, the base case a value for which the function is not defined in terms of itself, and where it can return a known value. For our `factorial` function, this is when `n` is 1: `factorial(1)` is 1:"
   ]
  },
  {
   "cell_type": "code",
   "execution_count": 15,
   "id": "24dc1d78",
   "metadata": {},
   "outputs": [
    {
     "data": {
      "text/plain": [
       "6"
      ]
     },
     "execution_count": 15,
     "metadata": {},
     "output_type": "execute_result"
    }
   ],
   "source": [
    "def factorial(n):\n",
    "    if n == 1:\n",
    "        return 1\n",
    "    else:\n",
    "        return n * factorial(n-1)\n",
    "\n",
    "factorial(3)"
   ]
  },
  {
   "cell_type": "markdown",
   "id": "5974e1fb",
   "metadata": {},
   "source": [
    "Now when we run this code, we get the expected answer: 6. If we hand-execute the code, we can see that we arrive at the base case, and that we won't run indefinitely.\n",
    "\n",
    "So, whenever we encounter a problem that we think we can solve recursively, we should always think about the base cases.\n",
    "\n",
    "Let's look at another example. In the 13th century, an Italian mathematician, Fibonacci, attempted to model the growth of a rabbit population. His model resulted in the _Fibonacci sequence_ which defines the _n_th number as the sum of the previous two numbers in the sequence: so, `F(n) = F(n-2) + F(n-1)`. Of course, we need a base case: in fact, given that the sequence is defined in terms of two values of itself, we need two base cases. These are the 0th number in the sequence, which equals 0, and the 1st number, which equals 1.\n",
    "\n",
    "Now, we can write our Python code to solve this problem:"
   ]
  },
  {
   "cell_type": "code",
   "execution_count": 16,
   "id": "7bfda980",
   "metadata": {},
   "outputs": [
    {
     "data": {
      "text/plain": [
       "55"
      ]
     },
     "execution_count": 16,
     "metadata": {},
     "output_type": "execute_result"
    }
   ],
   "source": [
    "def fibonacci(n):\n",
    "    if n == 0:\n",
    "        return 0\n",
    "    elif n == 1:\n",
    "        return 1\n",
    "    else:\n",
    "        return fibonacci(n-2) + fibonacci(n-1)\n",
    "\n",
    "fibonacci(10)"
   ]
  },
  {
   "cell_type": "markdown",
   "id": "8097cf86",
   "metadata": {},
   "source": [
    "If we hand-executed this code, we'd find that it gives us the right answer: 55. \n",
    "\n",
    "In summary, when we can define the solution to a problem in terms of itself, then we can use recursive programming to solve the problem. However, we need to be careful that we have one or more base cases, to ensure that the program will terminate."
   ]
  },
  {
   "cell_type": "markdown",
   "id": "63c6bcda",
   "metadata": {},
   "source": [
    "## Memoisation\n",
    "\n",
    "In some programs, we need to repeatedly use the result of some computation. If those computations are expensive (i.e., they take a long time), then we would want to avoid repeating the computation. \n",
    "\n",
    "Let's think about the calculation of the Fibonacci sequence that we described above. Because the nth number in the sequence is defined in terms of the previous two numbers in the sequence, we end up recomputing the early values in the sequence. To illustrate this, let's add a `print` statement to our code above:"
   ]
  },
  {
   "cell_type": "code",
   "execution_count": 17,
   "id": "273a4778",
   "metadata": {},
   "outputs": [
    {
     "name": "stdout",
     "output_type": "stream",
     "text": [
      "Working out the 4th Fibonacci number..\n",
      "Working out the 2th Fibonacci number..\n",
      "Working out the 0th Fibonacci number..\n",
      "Working out the 1th Fibonacci number..\n",
      "Working out the 3th Fibonacci number..\n",
      "Working out the 1th Fibonacci number..\n",
      "Working out the 2th Fibonacci number..\n",
      "Working out the 0th Fibonacci number..\n",
      "Working out the 1th Fibonacci number..\n"
     ]
    },
    {
     "data": {
      "text/plain": [
       "3"
      ]
     },
     "execution_count": 17,
     "metadata": {},
     "output_type": "execute_result"
    }
   ],
   "source": [
    "def fibonacci(n):\n",
    "    print(f\"Working out the {n}th Fibonacci number..\")\n",
    "    if n == 0:\n",
    "        return 0\n",
    "    elif n == 1:\n",
    "        return 1\n",
    "    else:\n",
    "        return fibonacci(n-2) + fibonacci(n-1)\n",
    "\n",
    "fibonacci(4)"
   ]
  },
  {
   "cell_type": "markdown",
   "id": "5282e454",
   "metadata": {},
   "source": [
    "Here, we print a statement every time we call the `fibonacci` function. We've only calculated the first four numbers of the Fibonacci sequence for readability, but even with this small number, we can see that we calculate values repeatedly. Imagine what this might look like for really large numbers - we end up recomputing the previous numbers in the sequence lots of times.\n",
    "\n",
    "So, instead of calculating the number, we could _remember_ the result of the computation, and fetch the stored result as needed. This is called _memoisation_. We can do this quite easily, using the data structures we are already familiar with:"
   ]
  },
  {
   "cell_type": "code",
   "execution_count": 18,
   "id": "fafdee03",
   "metadata": {},
   "outputs": [
    {
     "data": {
      "text/plain": [
       "6765"
      ]
     },
     "execution_count": 18,
     "metadata": {},
     "output_type": "execute_result"
    }
   ],
   "source": [
    "fibonacci_numbers = {}\n",
    "\n",
    "def memoised_fibonacci(n):\n",
    "    if n == 0:\n",
    "        return 0\n",
    "    elif n == 1:\n",
    "        return 1\n",
    "    else:\n",
    "        if n not in fibonacci_numbers:\n",
    "            fibonacci_numbers[n] = memoised_fibonacci(n-2) + memoised_fibonacci(n-1)\n",
    "        return fibonacci_numbers[n]\n",
    "\n",
    "memoised_fibonacci(20)"
   ]
  },
  {
   "cell_type": "markdown",
   "id": "70b3401a",
   "metadata": {},
   "source": [
    "In this version, we've added a dictionary, `fibonacci_numbers`, where we'll store the Fibonacci sequence as we create it. Inside our `memoised_fibonacci` function, we calculate a Fibonacci number only when we haven't done so before. In this way, we avoid the repeated computations.\n",
    "\n",
    "The savings of using memoisation can sometimes seem quite abstract. To try and illustrate them, we're going to time how long it takes to calculate a reasonably big Fibonacci number. We'll use Python's `time` module to do this, first timing the unmemoised version (without the `print` statement, for fairness):"
   ]
  },
  {
   "cell_type": "code",
   "execution_count": 19,
   "id": "96e29c03",
   "metadata": {},
   "outputs": [
    {
     "name": "stdout",
     "output_type": "stream",
     "text": [
      "9227465\n",
      "fibonacci took 2.745462417602539 seconds!\n"
     ]
    }
   ],
   "source": [
    "import time\n",
    "\n",
    "def fibonacci(n):\n",
    "    if n == 0:\n",
    "        return 0\n",
    "    elif n == 1:\n",
    "        return 1\n",
    "    else:\n",
    "        return fibonacci(n-2) + fibonacci(n-1)\n",
    "\n",
    "start = time.time()\n",
    "print(fibonacci(35))\n",
    "end = time.time()\n",
    "print(f\"fibonacci took {end-start} seconds!\")"
   ]
  },
  {
   "cell_type": "markdown",
   "id": "cfe2ce4a",
   "metadata": {},
   "source": [
    ".. and then the memoised version (with an empty dictionary, again, for fairness):"
   ]
  },
  {
   "cell_type": "code",
   "execution_count": 20,
   "id": "0b6443da",
   "metadata": {},
   "outputs": [
    {
     "name": "stdout",
     "output_type": "stream",
     "text": [
      "9227465\n",
      "memoised fibonacci took 0.0001237392 seconds!\n"
     ]
    }
   ],
   "source": [
    "fibonacci_numbers = {}\n",
    "\n",
    "def memoised_fibonacci(n):\n",
    "    if n == 0:\n",
    "        return 0\n",
    "    elif n == 1:\n",
    "        return 1\n",
    "    else:\n",
    "        if n not in fibonacci_numbers:\n",
    "            fibonacci_numbers[n] = memoised_fibonacci(n-2) + memoised_fibonacci(n-1)\n",
    "        return fibonacci_numbers[n]\n",
    "\n",
    "start = time.time()\n",
    "print(memoised_fibonacci(35))\n",
    "end = time.time()\n",
    "print(f\"memoised fibonacci took {end-start:.10f} seconds!\")"
   ]
  },
  {
   "cell_type": "markdown",
   "id": "0b2def7a",
   "metadata": {},
   "source": [
    "We can see that the memoised version of our function was much quicker than the non-memoised version. Indeed, this can have very significant consequences on the runtime of our program. We can use the memoised version of our function to calculate really large Fibonacci numbers: try the snippet above with the number 5000, for example. But for our non-memoised version, the time taken to calculate each number in the sequence increases exponentially: you'll be there for a long time if you use it to calculate the 5000th Fibonacci number.\n",
    "\n",
    "While `time` is useful to show what's going on in a general sense, there are a lot of factors that can affect the results we get, including the hardware of the computer we're using, and the other software running on the computer at the same time. In track 2 next week, we'll see a better, more scientific approach to reasoning about time complexity.\n",
    "\n",
    "Memoisation essentially swaps time complexity for space complexity: storing all of those Fibonacci numbers for use later on takes up memory in our computer. We need to think about whether or not this is a worthwhile trade-off, depending on the problems we want to solve."
   ]
  },
  {
   "cell_type": "markdown",
   "id": "f41bd20e",
   "metadata": {},
   "source": [
    "## Object-oriented programming\n",
    "\n",
    "Python is a _multi-paradigm_ language: it lets us write programs that mix-and-match different programming styles, like procedural, with others like object-oriented and functional programming. Today, we'll recap object-oriented programming, and tomorrow, we'll look at Python's functional programming support.\n",
    "\n",
    "Object-oriented programming lets us structure our program around _objects_: these bundle data and the computations that we can perform on that data together. Objects represents things, and behaviours of those things. For example, we might have a car object, that stores data (like the model or registration number), and has operations, like `drive`, that let us do things with those objects.\n",
    "\n",
    "Objects are instantiations of _classes_. We can define a class in Python like this:"
   ]
  },
  {
   "cell_type": "code",
   "execution_count": 21,
   "id": "62739ee4",
   "metadata": {},
   "outputs": [],
   "source": [
    "class Car:\n",
    "    def __init__(self, model, registration_number):\n",
    "        self.model = model\n",
    "        self.registration_number = registration_number"
   ]
  },
  {
   "cell_type": "markdown",
   "id": "af3fd130",
   "metadata": {},
   "source": [
    "Before we explain what this code does, let's first instantiate a car object, of the `Car` class:"
   ]
  },
  {
   "cell_type": "code",
   "execution_count": 22,
   "id": "94b36653",
   "metadata": {},
   "outputs": [],
   "source": [
    "my_car = Car(\"Ferarri\", \"R3A11Y F4ST\")"
   ]
  },
  {
   "cell_type": "markdown",
   "id": "8b92e56e",
   "metadata": {},
   "source": [
    "Now, when we defined the `Car` class, we defined a function within it: the `__init__` function. Functions that are defined inside classes are called _methods_. The `__init__` method is always called when we instantiate an object: so, when we defined `my_car`, and instantiated a `Car` object, we called its `__init__` method.\n",
    "\n",
    "If we look at the definition of the `__init__` method, we can see that it takes 3 arguments: `self`, `model`, and `registration_number`. However, when we instantiated the class, we only gave it a model and registration number: we're missing an argument! That's because as soon as instantiate the class, we create an instance, and that instance is passed to the `__init__` method as the `self` argument.\n",
    "\n",
    "Inside the `__init__` method, we set two _attributes_: `model` and `registration_number`. The attributes that we set here are specific to the instance of the `Car` class, and we set them from the values we pass in to the `__init__` method. We can inspect the values of an object's attributes:"
   ]
  },
  {
   "cell_type": "code",
   "execution_count": 23,
   "id": "39f01a76",
   "metadata": {},
   "outputs": [
    {
     "name": "stdout",
     "output_type": "stream",
     "text": [
      "Ferarri\n"
     ]
    }
   ],
   "source": [
    "print(my_car.model)"
   ]
  },
  {
   "cell_type": "markdown",
   "id": "f64cf2cf",
   "metadata": {},
   "source": [
    "We can also change the value of these attributes:"
   ]
  },
  {
   "cell_type": "code",
   "execution_count": 24,
   "id": "1eab6052",
   "metadata": {},
   "outputs": [
    {
     "name": "stdout",
     "output_type": "stream",
     "text": [
      "Toyota\n"
     ]
    }
   ],
   "source": [
    "my_car.model = \"Toyota\"\n",
    "print(my_car.model)"
   ]
  },
  {
   "cell_type": "markdown",
   "id": "105febc7",
   "metadata": {},
   "source": [
    "Now, of course, we might not want to allow arbitrary changes to an object's attributes. We do this with two main changes to our code:"
   ]
  },
  {
   "cell_type": "code",
   "execution_count": 30,
   "id": "90c6053e",
   "metadata": {},
   "outputs": [],
   "source": [
    "class Car:\n",
    "    def __init__(self, model, registration_number):\n",
    "        self.model = model\n",
    "        self._registration_number = registration_number\n",
    "    \n",
    "    def change_registration_number(self, new_registration_number):\n",
    "        if new_registration_number.startswith(\"R\"):\n",
    "            #raise Exception(f\"Sorry - you can't change the registration number to {new_registration_number}\")\n",
    "            print(f\"Sorry - you can't change the registration number to {new_registration_number}\")\n",
    "        else:\n",
    "            self._registration_number = new_registration_number\n",
    "\n",
    "my_car2 = Car(\"Toyota\", \"N0T R3A11Y F4ST\")"
   ]
  },
  {
   "cell_type": "markdown",
   "id": "7a22cca3",
   "metadata": {},
   "source": [
    "In this version of our `Car` class, we've made two changes. First, when we create the `registration_number` attribute, we've put an underscore in front of it (making it `_registration_number`). This is a convention that signals that we don't want code to directly access the attribute. Next, we've added a `change_registration_number` method. That means that we expect any changes to `_registration_number` to go through that method. This is useful for performing checks on updates. In this example, we make sure that we can't update the registration number to anything beginning with R:"
   ]
  },
  {
   "cell_type": "code",
   "execution_count": 31,
   "id": "0f57b927",
   "metadata": {},
   "outputs": [],
   "source": [
    "my_car2.change_registration_number(\"H3LL0\")"
   ]
  },
  {
   "cell_type": "markdown",
   "id": "b912e212",
   "metadata": {},
   "source": [
    ".. will work as expected, but:"
   ]
  },
  {
   "cell_type": "code",
   "execution_count": 32,
   "id": "cbb7285a",
   "metadata": {
    "scrolled": true
   },
   "outputs": [
    {
     "name": "stdout",
     "output_type": "stream",
     "text": [
      "Sorry - you can't change the registration number to R3A11Y F4ST\n"
     ]
    }
   ],
   "source": [
    "my_car2.change_registration_number(\"R3A11Y F4ST\")"
   ]
  },
  {
   "cell_type": "markdown",
   "id": "da535fea",
   "metadata": {},
   "source": [
    "will throw an exception because the new value begins with R.\n",
    "\n",
    "In this tutorial, we've recapped the very basics of object-oriented programming. Next week, in track 2, we'll revisit object-oriented programming in much more depth."
   ]
  },
  {
   "cell_type": "markdown",
   "id": "1125bca0",
   "metadata": {},
   "source": [
    "## Summary\n",
    "\n",
    "In this tutorial, we've recapped:\n",
    "- File handling;\n",
    "- Recursion;\n",
    "- Memoisation; and\n",
    "- Object-oriented programming."
   ]
  }
 ],
 "metadata": {
  "kernelspec": {
   "display_name": "Python 3",
   "language": "python",
   "name": "python3"
  },
  "language_info": {
   "codemirror_mode": {
    "name": "ipython",
    "version": 3
   },
   "file_extension": ".py",
   "mimetype": "text/x-python",
   "name": "python",
   "nbconvert_exporter": "python",
   "pygments_lexer": "ipython3",
   "version": "3.8.8"
  }
 },
 "nbformat": 4,
 "nbformat_minor": 5
}
