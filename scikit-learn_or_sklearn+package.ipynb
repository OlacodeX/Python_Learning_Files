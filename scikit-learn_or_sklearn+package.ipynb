{
 "cells": [
  {
   "cell_type": "markdown",
   "id": "a29a69cd",
   "metadata": {},
   "source": [
    "# It is a machine learning package for python. The name comes from Scipy ToolKit shortern to SciKit-learn or sklearn. It is built on Numpy, SciPy and matplotlib. It is very fast and efficient and also prefers working with arrays which is a plus for us.\n",
    "# It also has a great documentation base on it's website. You can get solution to almost all your problems as well as usage.\n",
    "# It is the leading package in ML but not deep learning.\n",
    "# It has numerical stability."
   ]
  }
 ],
 "metadata": {
  "kernelspec": {
   "display_name": "Python 3",
   "language": "python",
   "name": "python3"
  },
  "language_info": {
   "codemirror_mode": {
    "name": "ipython",
    "version": 3
   },
   "file_extension": ".py",
   "mimetype": "text/x-python",
   "name": "python",
   "nbconvert_exporter": "python",
   "pygments_lexer": "ipython3",
   "version": "3.8.8"
  }
 },
 "nbformat": 4,
 "nbformat_minor": 5
}
