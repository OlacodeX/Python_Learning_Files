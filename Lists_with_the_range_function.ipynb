{
 "cells": [
  {
   "cell_type": "code",
   "execution_count": 1,
   "id": "9636f8a7",
   "metadata": {},
   "outputs": [],
   "source": [
    "#Range helps to create range of elements\n",
    "# used as range(start, stop, step),\n",
    "# start is the first element in the list - optional\n",
    "# stop is the last value in the list -1, it is compulsory\n",
    "# step is the distance between each two consecutive values in the list\n",
    "# step value is also optional\n"
   ]
  },
  {
   "cell_type": "code",
   "execution_count": 2,
   "id": "48274f27",
   "metadata": {},
   "outputs": [
    {
     "data": {
      "text/plain": [
       "range(0, 10)"
      ]
     },
     "execution_count": 2,
     "metadata": {},
     "output_type": "execute_result"
    }
   ],
   "source": [
    "range(10) # i.e 0-9\n",
    "#Here I defined a range with a stop value of 10 & python automatically\n",
    "#Takes the start to be 0 and step value to be 1."
   ]
  },
  {
   "cell_type": "code",
   "execution_count": 3,
   "id": "cf3f2d51",
   "metadata": {},
   "outputs": [
    {
     "data": {
      "text/plain": [
       "[0, 1, 2, 3, 4, 5, 6, 7, 8, 9]"
      ]
     },
     "execution_count": 3,
     "metadata": {},
     "output_type": "execute_result"
    }
   ],
   "source": [
    "#To display the range in a list use\n",
    "list(range(10))"
   ]
  },
  {
   "cell_type": "code",
   "execution_count": 4,
   "id": "8b1613df",
   "metadata": {},
   "outputs": [
    {
     "data": {
      "text/plain": [
       "range(3, 7)"
      ]
     },
     "execution_count": 4,
     "metadata": {},
     "output_type": "execute_result"
    }
   ],
   "source": [
    "range(3,7) #Here the start = 3, stop=7 & step automatically = 1"
   ]
  },
  {
   "cell_type": "code",
   "execution_count": 5,
   "id": "5613de28",
   "metadata": {},
   "outputs": [
    {
     "data": {
      "text/plain": [
       "[3, 4, 5, 6]"
      ]
     },
     "execution_count": 5,
     "metadata": {},
     "output_type": "execute_result"
    }
   ],
   "source": [
    "list(range(3,7))"
   ]
  },
  {
   "cell_type": "code",
   "execution_count": null,
   "id": "f2ebaefb",
   "metadata": {},
   "outputs": [],
   "source": []
  }
 ],
 "metadata": {
  "kernelspec": {
   "display_name": "Python 3",
   "language": "python",
   "name": "python3"
  },
  "language_info": {
   "codemirror_mode": {
    "name": "ipython",
    "version": 3
   },
   "file_extension": ".py",
   "mimetype": "text/x-python",
   "name": "python",
   "nbconvert_exporter": "python",
   "pygments_lexer": "ipython3",
   "version": "3.8.8"
  }
 },
 "nbformat": 4,
 "nbformat_minor": 5
}
