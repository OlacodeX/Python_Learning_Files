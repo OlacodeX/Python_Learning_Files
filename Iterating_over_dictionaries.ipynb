{
 "cells": [
  {
   "cell_type": "code",
   "execution_count": 6,
   "id": "077e346c",
   "metadata": {},
   "outputs": [
    {
     "name": "stdout",
     "output_type": "stream",
     "text": [
      "74\n"
     ]
    }
   ],
   "source": [
    "prices = {\n",
    "    \"box_of_spaghetti\" : 4,\n",
    "    \"lasagna\" : 5,\n",
    "    \"hamburger\" : 2\n",
    "}\n",
    "#quantities bought\n",
    "quantity = {\n",
    "    \"box_of_spaghetti\" : 6,\n",
    "    \"lasagna\" : 10,\n",
    "    \"hamburger\" : 0\n",
    "}\n",
    "#Now we want to calculate the total money spent by this user\n",
    "\n",
    "#creating a rolling sum\n",
    "money_spent = 0\n",
    "#loop through the values in the prices dictionary\n",
    "#Note: I can use quantity instead of prices too since they both have same keys\n",
    "for i in prices:\n",
    "#For each element in the dict., increment the money_spent by the\n",
    "#Multiplication of prices index i & quantity index i\n",
    "#i.e prices[i] & quantity[i]\n",
    "    money_spent += prices[i] * quantity[i]\n",
    "#print money_spent   \n",
    "print (money_spent)"
   ]
  },
  {
   "cell_type": "code",
   "execution_count": null,
   "id": "32e59e73",
   "metadata": {},
   "outputs": [],
   "source": [
    "{'tomato mozzarella ham pineapple': '3',\n",
    " 'tomato mozzarella garlic basil': '1',\n",
    " 'tomato mozzarella tuna onion': '2',\n",
    " 'tomato mozzarella pepperoni': '1'}"
   ]
  }
 ],
 "metadata": {
  "kernelspec": {
   "display_name": "Python 3",
   "language": "python",
   "name": "python3"
  },
  "language_info": {
   "codemirror_mode": {
    "name": "ipython",
    "version": 3
   },
   "file_extension": ".py",
   "mimetype": "text/x-python",
   "name": "python",
   "nbconvert_exporter": "python",
   "pygments_lexer": "ipython3",
   "version": "3.8.8"
  }
 },
 "nbformat": 4,
 "nbformat_minor": 5
}
